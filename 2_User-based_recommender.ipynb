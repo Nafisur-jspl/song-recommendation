{
 "cells": [
  {
   "cell_type": "code",
   "execution_count": 2,
   "metadata": {
    "collapsed": true
   },
   "outputs": [],
   "source": [
    "import pandas as pd\n",
    "import numpy as np"
   ]
  },
  {
   "cell_type": "code",
   "execution_count": 4,
   "metadata": {
    "collapsed": false
   },
   "outputs": [],
   "source": [
    "train = pd.read_csv('./data/taste_train.csv')\n",
    "#train = pd.read_csv('./data/subset_taste_profile.csv')"
   ]
  },
  {
   "cell_type": "code",
   "execution_count": 5,
   "metadata": {
    "collapsed": false
   },
   "outputs": [
    {
     "data": {
      "text/plain": [
       "(24186793, 3)"
      ]
     },
     "execution_count": 5,
     "metadata": {},
     "output_type": "execute_result"
    }
   ],
   "source": [
    "train.shape"
   ]
  },
  {
   "cell_type": "code",
   "execution_count": 6,
   "metadata": {
    "collapsed": false
   },
   "outputs": [
    {
     "data": {
      "text/html": [
       "<div>\n",
       "<table border=\"1\" class=\"dataframe\">\n",
       "  <thead>\n",
       "    <tr style=\"text-align: right;\">\n",
       "      <th></th>\n",
       "      <th>user_id</th>\n",
       "      <th>song_id</th>\n",
       "      <th>play_count</th>\n",
       "    </tr>\n",
       "  </thead>\n",
       "  <tbody>\n",
       "    <tr>\n",
       "      <th>0</th>\n",
       "      <td>649b242b78a3b737fab5cfde2e6fee222e9ee912</td>\n",
       "      <td>SOPQREY12B0B80B7B4</td>\n",
       "      <td>1</td>\n",
       "    </tr>\n",
       "    <tr>\n",
       "      <th>1</th>\n",
       "      <td>546b16e39107329db66fb4eb6821499f9726e0ae</td>\n",
       "      <td>SOGMLQO12A670207BF</td>\n",
       "      <td>1</td>\n",
       "    </tr>\n",
       "    <tr>\n",
       "      <th>2</th>\n",
       "      <td>44db852843b8714aa90b5ad31ae7b27082908e5f</td>\n",
       "      <td>SOJQKKF12A6701D92B</td>\n",
       "      <td>1</td>\n",
       "    </tr>\n",
       "    <tr>\n",
       "      <th>3</th>\n",
       "      <td>3f639815e42345682dd2809910d1eea71d9230d3</td>\n",
       "      <td>SONIIGT12A58A78884</td>\n",
       "      <td>3</td>\n",
       "    </tr>\n",
       "    <tr>\n",
       "      <th>4</th>\n",
       "      <td>097fb7ff94fd83069694e6307a92ca15c4993885</td>\n",
       "      <td>SOJUXGA12AC961885C</td>\n",
       "      <td>3</td>\n",
       "    </tr>\n",
       "  </tbody>\n",
       "</table>\n",
       "</div>"
      ],
      "text/plain": [
       "                                    user_id             song_id  play_count\n",
       "0  649b242b78a3b737fab5cfde2e6fee222e9ee912  SOPQREY12B0B80B7B4           1\n",
       "1  546b16e39107329db66fb4eb6821499f9726e0ae  SOGMLQO12A670207BF           1\n",
       "2  44db852843b8714aa90b5ad31ae7b27082908e5f  SOJQKKF12A6701D92B           1\n",
       "3  3f639815e42345682dd2809910d1eea71d9230d3  SONIIGT12A58A78884           3\n",
       "4  097fb7ff94fd83069694e6307a92ca15c4993885  SOJUXGA12AC961885C           3"
      ]
     },
     "execution_count": 6,
     "metadata": {},
     "output_type": "execute_result"
    }
   ],
   "source": [
    "train.head()"
   ]
  },
  {
   "cell_type": "code",
   "execution_count": 7,
   "metadata": {
    "collapsed": false
   },
   "outputs": [],
   "source": [
    "# Count of how many unique users listened to a song\n",
    "song_play_count = train.groupby('song_id')['play_count'].count()"
   ]
  },
  {
   "cell_type": "code",
   "execution_count": 8,
   "metadata": {
    "collapsed": false
   },
   "outputs": [
    {
     "data": {
      "text/plain": [
       "28"
      ]
     },
     "execution_count": 8,
     "metadata": {},
     "output_type": "execute_result"
    }
   ],
   "source": [
    "len(train[train.song_id=='SOAAAFI12A6D4F9C66'])"
   ]
  },
  {
   "cell_type": "code",
   "execution_count": 9,
   "metadata": {
    "collapsed": false
   },
   "outputs": [
    {
     "data": {
      "text/plain": [
       "song_id\n",
       "SOAAADD12AB018A9DD     7\n",
       "SOAAADE12A6D4F80CC     5\n",
       "SOAAADF12A8C13DF62     2\n",
       "SOAAADZ12A8C1334FB     3\n",
       "SOAAAFI12A6D4F9C66    28\n",
       "Name: play_count, dtype: int64"
      ]
     },
     "execution_count": 9,
     "metadata": {},
     "output_type": "execute_result"
    }
   ],
   "source": [
    "song_play_count[:5]"
   ]
  },
  {
   "cell_type": "code",
   "execution_count": 10,
   "metadata": {
    "collapsed": false
   },
   "outputs": [
    {
     "data": {
      "text/plain": [
       "(47107, 356835)"
      ]
     },
     "execution_count": 10,
     "metadata": {},
     "output_type": "execute_result"
    }
   ],
   "source": [
    "len(song_play_count[song_play_count==1]), len(song_play_count)"
   ]
  },
  {
   "cell_type": "code",
   "execution_count": 11,
   "metadata": {
    "collapsed": true
   },
   "outputs": [],
   "source": [
    "# Count of how many unique songs the user listened\n",
    "user_play_count = train.groupby('user_id')['play_count'].count()"
   ]
  },
  {
   "cell_type": "code",
   "execution_count": 12,
   "metadata": {
    "collapsed": false
   },
   "outputs": [
    {
     "data": {
      "text/plain": [
       "10"
      ]
     },
     "execution_count": 12,
     "metadata": {},
     "output_type": "execute_result"
    }
   ],
   "source": [
    "len(train[train.user_id=='00001cf0dce3fb22b0df0f3a1d9cd21e38385372'])"
   ]
  },
  {
   "cell_type": "code",
   "execution_count": 13,
   "metadata": {
    "collapsed": false
   },
   "outputs": [
    {
     "data": {
      "text/plain": [
       "user_id\n",
       "00000b722001882066dff9d2da8a775658053ea0     5\n",
       "00001638d6189236866af9bbf309ae6c2347ffdc     7\n",
       "0000175652312d12576d9e6b84f600caa24c4715     9\n",
       "00001cf0dce3fb22b0df0f3a1d9cd21e38385372    10\n",
       "0000267bde1b3a70ea75cf2b2d216cb828e3202b    13\n",
       "Name: play_count, dtype: int64"
      ]
     },
     "execution_count": 13,
     "metadata": {},
     "output_type": "execute_result"
    }
   ],
   "source": [
    "user_play_count[:5]"
   ]
  },
  {
   "cell_type": "code",
   "execution_count": 16,
   "metadata": {
    "collapsed": true
   },
   "outputs": [],
   "source": [
    "train_with_count = pd.merge(train, user_play_count.reset_index(), how='left', on='user_id')"
   ]
  },
  {
   "cell_type": "code",
   "execution_count": 18,
   "metadata": {
    "collapsed": false
   },
   "outputs": [],
   "source": [
    "train_with_count = pd.merge(train_with_count, song_play_count.reset_index(), how='left', on='song_id')"
   ]
  },
  {
   "cell_type": "code",
   "execution_count": 20,
   "metadata": {
    "collapsed": false
   },
   "outputs": [],
   "source": [
    "train_with_count.columns = ['user_id','song_id','play_count','by_user_count','by_song_count']"
   ]
  },
  {
   "cell_type": "code",
   "execution_count": 21,
   "metadata": {
    "collapsed": false
   },
   "outputs": [
    {
     "data": {
      "text/html": [
       "<div>\n",
       "<table border=\"1\" class=\"dataframe\">\n",
       "  <thead>\n",
       "    <tr style=\"text-align: right;\">\n",
       "      <th></th>\n",
       "      <th>user_id</th>\n",
       "      <th>song_id</th>\n",
       "      <th>play_count</th>\n",
       "      <th>by_user_count</th>\n",
       "      <th>by_song_count</th>\n",
       "    </tr>\n",
       "  </thead>\n",
       "  <tbody>\n",
       "    <tr>\n",
       "      <th>0</th>\n",
       "      <td>649b242b78a3b737fab5cfde2e6fee222e9ee912</td>\n",
       "      <td>SOPQREY12B0B80B7B4</td>\n",
       "      <td>1</td>\n",
       "      <td>52</td>\n",
       "      <td>608</td>\n",
       "    </tr>\n",
       "    <tr>\n",
       "      <th>1</th>\n",
       "      <td>546b16e39107329db66fb4eb6821499f9726e0ae</td>\n",
       "      <td>SOGMLQO12A670207BF</td>\n",
       "      <td>1</td>\n",
       "      <td>9</td>\n",
       "      <td>1695</td>\n",
       "    </tr>\n",
       "    <tr>\n",
       "      <th>2</th>\n",
       "      <td>44db852843b8714aa90b5ad31ae7b27082908e5f</td>\n",
       "      <td>SOJQKKF12A6701D92B</td>\n",
       "      <td>1</td>\n",
       "      <td>83</td>\n",
       "      <td>62</td>\n",
       "    </tr>\n",
       "    <tr>\n",
       "      <th>3</th>\n",
       "      <td>3f639815e42345682dd2809910d1eea71d9230d3</td>\n",
       "      <td>SONIIGT12A58A78884</td>\n",
       "      <td>3</td>\n",
       "      <td>22</td>\n",
       "      <td>645</td>\n",
       "    </tr>\n",
       "    <tr>\n",
       "      <th>4</th>\n",
       "      <td>097fb7ff94fd83069694e6307a92ca15c4993885</td>\n",
       "      <td>SOJUXGA12AC961885C</td>\n",
       "      <td>3</td>\n",
       "      <td>100</td>\n",
       "      <td>3741</td>\n",
       "    </tr>\n",
       "  </tbody>\n",
       "</table>\n",
       "</div>"
      ],
      "text/plain": [
       "                                    user_id             song_id  play_count  \\\n",
       "0  649b242b78a3b737fab5cfde2e6fee222e9ee912  SOPQREY12B0B80B7B4           1   \n",
       "1  546b16e39107329db66fb4eb6821499f9726e0ae  SOGMLQO12A670207BF           1   \n",
       "2  44db852843b8714aa90b5ad31ae7b27082908e5f  SOJQKKF12A6701D92B           1   \n",
       "3  3f639815e42345682dd2809910d1eea71d9230d3  SONIIGT12A58A78884           3   \n",
       "4  097fb7ff94fd83069694e6307a92ca15c4993885  SOJUXGA12AC961885C           3   \n",
       "\n",
       "   by_user_count  by_song_count  \n",
       "0             52            608  \n",
       "1              9           1695  \n",
       "2             83             62  \n",
       "3             22            645  \n",
       "4            100           3741  "
      ]
     },
     "execution_count": 21,
     "metadata": {},
     "output_type": "execute_result"
    }
   ],
   "source": [
    "train_with_count.head()"
   ]
  },
  {
   "cell_type": "markdown",
   "metadata": {},
   "source": [
    "### Common listeners\n",
    "For each pair of songs, its the number of users who listened both. It will be used to modify similarity between songs. If the common listeners is low, the similarity is less believable"
   ]
  },
  {
   "cell_type": "code",
   "execution_count": null,
   "metadata": {
    "collapsed": true
   },
   "outputs": [],
   "source": []
  },
  {
   "cell_type": "code",
   "execution_count": null,
   "metadata": {
    "collapsed": true
   },
   "outputs": [],
   "source": []
  },
  {
   "cell_type": "code",
   "execution_count": null,
   "metadata": {
    "collapsed": true
   },
   "outputs": [],
   "source": [
    "# Average number of play count of each song\n",
    "song_play_count = train.groupby('song_id')['play_count'].mean()"
   ]
  }
 ],
 "metadata": {
  "kernelspec": {
   "display_name": "Python 2",
   "language": "python",
   "name": "python2"
  },
  "language_info": {
   "codemirror_mode": {
    "name": "ipython",
    "version": 2
   },
   "file_extension": ".py",
   "mimetype": "text/x-python",
   "name": "python",
   "nbconvert_exporter": "python",
   "pygments_lexer": "ipython2",
   "version": "2.7.10"
  }
 },
 "nbformat": 4,
 "nbformat_minor": 0
}

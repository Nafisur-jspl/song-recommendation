{
 "cells": [
  {
   "cell_type": "code",
   "execution_count": 1,
   "metadata": {
    "collapsed": true
   },
   "outputs": [],
   "source": [
    "import os\n",
    "import pyspark"
   ]
  },
  {
   "cell_type": "code",
   "execution_count": 2,
   "metadata": {
    "collapsed": true
   },
   "outputs": [],
   "source": [
    "from pyspark import SparkContext\n",
    "sc = SparkContext()"
   ]
  },
  {
   "cell_type": "markdown",
   "metadata": {},
   "source": [
    "### Load data into Spark RDD"
   ]
  },
  {
   "cell_type": "code",
   "execution_count": 3,
   "metadata": {
    "collapsed": true
   },
   "outputs": [],
   "source": [
    "# Load user's taste data\n",
    "taste_file = os.path.join('.','data','subset_taste_profile.csv')\n",
    "taste_raw_data = sc.textFile(taste_file)\n",
    "taste_raw_data_header = taste_raw_data.take(1)[0]\n",
    "taste_data = taste_raw_data.filter(lambda line: line!=taste_raw_data_header)\\\n",
    "            .map(lambda line: line.split(\",\")).map(lambda tokens: (int(tokens[0]),int(tokens[1]),int(tokens[2]))).cache()"
   ]
  },
  {
   "cell_type": "code",
   "execution_count": 4,
   "metadata": {
    "collapsed": true
   },
   "outputs": [],
   "source": [
    "# Load song file\n",
    "song_file = os.path.join('.','data','song_encode_meta.csv')\n",
    "song_raw_data = sc.textFile(song_file)\n",
    "song_raw_data_header = song_raw_data.take(1)[0]\n",
    "song_data = song_raw_data.filter(lambda line: line!=song_raw_data_header)\\\n",
    "           .map(lambda line: line.split(\",\")).map(lambda tokens: (int(tokens[0]),tokens[1],tokens[2])).cache()"
   ]
  },
  {
   "cell_type": "code",
   "execution_count": 5,
   "metadata": {
    "collapsed": false
   },
   "outputs": [
    {
     "data": {
      "text/plain": [
       "(1000001, 385256)"
      ]
     },
     "execution_count": 5,
     "metadata": {},
     "output_type": "execute_result"
    }
   ],
   "source": [
    "taste_data.count(), song_data.count()"
   ]
  },
  {
   "cell_type": "code",
   "execution_count": 6,
   "metadata": {
    "collapsed": false
   },
   "outputs": [
    {
     "data": {
      "text/plain": [
       "[(0, 0, 1), (0, 1, 1), (0, 2, 2), (0, 3, 1), (0, 4, 1)]"
      ]
     },
     "execution_count": 6,
     "metadata": {},
     "output_type": "execute_result"
    }
   ],
   "source": [
    "taste_data.take(5)"
   ]
  },
  {
   "cell_type": "code",
   "execution_count": 7,
   "metadata": {
    "collapsed": false
   },
   "outputs": [
    {
     "data": {
      "text/plain": [
       "[(0, u'The Cove', u'Jack Johnson'),\n",
       " (1, u'Nothing from Nothing', u'Billy Preston'),\n",
       " (2, u'Entre Dos Aguas', u'Paco De Lucia'),\n",
       " (3, u'Under Cold Blue Stars', u'Josh Rouse'),\n",
       " (4, u'Riot Radio (Soundtrack Version)', u'The Dead 60s')]"
      ]
     },
     "execution_count": 7,
     "metadata": {},
     "output_type": "execute_result"
    }
   ],
   "source": [
    "song_data.take(5)"
   ]
  },
  {
   "cell_type": "markdown",
   "metadata": {},
   "source": [
    "### Split Training/Test dataset\n",
    "\n",
    "We will randomly split taste_data RDD into two portion (60% + 40%, in this example) and mask playcount the second portion RDD with zero, and then merge it back with the first portion. Hence, we will get training data set with randomly masked playcount. This way we use this processed training dataset to train the model and evaluate the model with test dataset (which in fact the original taste data)"
   ]
  },
  {
   "cell_type": "code",
   "execution_count": 9,
   "metadata": {
    "collapsed": true
   },
   "outputs": [],
   "source": [
    "# Count unique songs + Count unique users\n",
    "songID_with_playcount_RDD = taste_data.map(lambda x: (x[1], x[2])).groupByKey()\n",
    "userID_with_playcount_RDD = taste_data.map(lambda x: (x[0], x[2])).groupByKey()"
   ]
  },
  {
   "cell_type": "code",
   "execution_count": 10,
   "metadata": {
    "collapsed": false
   },
   "outputs": [
    {
     "data": {
      "text/plain": [
       "(148039, 20787)"
      ]
     },
     "execution_count": 10,
     "metadata": {},
     "output_type": "execute_result"
    }
   ],
   "source": [
    "songID_with_playcount_RDD.count(), userID_with_playcount_RDD.count()"
   ]
  },
  {
   "cell_type": "code",
   "execution_count": 21,
   "metadata": {
    "collapsed": true
   },
   "outputs": [],
   "source": [
    "training_RDD, validation_RDD = taste_data.randomSplit([6, 4], seed=0L)"
   ]
  },
  {
   "cell_type": "code",
   "execution_count": 22,
   "metadata": {
    "collapsed": true
   },
   "outputs": [],
   "source": [
    "train_songID_with_playcount_RDD = training_RDD.map(lambda x: (x[1], x[2])).groupByKey()\n",
    "train_userID_with_playcount_RDD = training_RDD.map(lambda x: (x[0], x[2])).groupByKey()"
   ]
  },
  {
   "cell_type": "code",
   "execution_count": 23,
   "metadata": {
    "collapsed": false
   },
   "outputs": [
    {
     "data": {
      "text/plain": [
       "(117974, 20787)"
      ]
     },
     "execution_count": 23,
     "metadata": {},
     "output_type": "execute_result"
    }
   ],
   "source": [
    "train_songID_with_playcount_RDD.count(), train_userID_with_playcount_RDD.count()"
   ]
  },
  {
   "cell_type": "code",
   "execution_count": 27,
   "metadata": {
    "collapsed": false
   },
   "outputs": [
    {
     "data": {
      "text/plain": [
       "(1000001, 600391, 399610)"
      ]
     },
     "execution_count": 27,
     "metadata": {},
     "output_type": "execute_result"
    }
   ],
   "source": [
    "taste_data.count(), training_RDD.count(), validation_RDD.count()"
   ]
  },
  {
   "cell_type": "markdown",
   "metadata": {},
   "source": [
    "#### Mask validation_RDD"
   ]
  },
  {
   "cell_type": "code",
   "execution_count": 29,
   "metadata": {
    "collapsed": false
   },
   "outputs": [],
   "source": [
    "masked_validation_RDD = validation_RDD.map(lambda x: (x[0], x[1], 0))"
   ]
  },
  {
   "cell_type": "code",
   "execution_count": 30,
   "metadata": {
    "collapsed": false
   },
   "outputs": [
    {
     "data": {
      "text/plain": [
       "399610"
      ]
     },
     "execution_count": 30,
     "metadata": {},
     "output_type": "execute_result"
    }
   ],
   "source": [
    "masked_validation_RDD.count()"
   ]
  },
  {
   "cell_type": "code",
   "execution_count": 31,
   "metadata": {
    "collapsed": false
   },
   "outputs": [
    {
     "data": {
      "text/plain": [
       "[(0, 0, 0),\n",
       " (0, 3, 0),\n",
       " (0, 4, 0),\n",
       " (0, 6, 0),\n",
       " (0, 7, 0),\n",
       " (0, 8, 0),\n",
       " (0, 9, 0),\n",
       " (0, 11, 0),\n",
       " (0, 12, 0),\n",
       " (0, 13, 0)]"
      ]
     },
     "execution_count": 31,
     "metadata": {},
     "output_type": "execute_result"
    }
   ],
   "source": [
    "masked_validation_RDD.take(10)"
   ]
  },
  {
   "cell_type": "code",
   "execution_count": 32,
   "metadata": {
    "collapsed": false
   },
   "outputs": [
    {
     "data": {
      "text/plain": [
       "[(0, 0, 1),\n",
       " (0, 3, 1),\n",
       " (0, 4, 1),\n",
       " (0, 6, 2),\n",
       " (0, 7, 1),\n",
       " (0, 8, 1),\n",
       " (0, 9, 1),\n",
       " (0, 11, 1),\n",
       " (0, 12, 1),\n",
       " (0, 13, 5)]"
      ]
     },
     "execution_count": 32,
     "metadata": {},
     "output_type": "execute_result"
    }
   ],
   "source": [
    "validation_RDD.take(10)"
   ]
  },
  {
   "cell_type": "markdown",
   "metadata": {},
   "source": [
    "#### Merge masked_validation_RDD with training_RDD to get masked_training_RDD ready for model training"
   ]
  },
  {
   "cell_type": "code",
   "execution_count": 34,
   "metadata": {
    "collapsed": true
   },
   "outputs": [],
   "source": [
    "masked_training_RDD = training_RDD.union(masked_validation_RDD)"
   ]
  },
  {
   "cell_type": "code",
   "execution_count": 35,
   "metadata": {
    "collapsed": false
   },
   "outputs": [
    {
     "data": {
      "text/plain": [
       "1000001"
      ]
     },
     "execution_count": 35,
     "metadata": {},
     "output_type": "execute_result"
    }
   ],
   "source": [
    "masked_training_RDD.count()"
   ]
  },
  {
   "cell_type": "code",
   "execution_count": 36,
   "metadata": {
    "collapsed": true
   },
   "outputs": [],
   "source": [
    "masked_train_songID_with_playcount_RDD = masked_training_RDD.map(lambda x: (x[1], x[2])).groupByKey()\n",
    "masked_train_userID_with_playcount_RDD = masked_training_RDD.map(lambda x: (x[0], x[2])).groupByKey()"
   ]
  },
  {
   "cell_type": "code",
   "execution_count": 37,
   "metadata": {
    "collapsed": false
   },
   "outputs": [
    {
     "data": {
      "text/plain": [
       "(148039, 20787)"
      ]
     },
     "execution_count": 37,
     "metadata": {},
     "output_type": "execute_result"
    }
   ],
   "source": [
    "masked_train_songID_with_playcount_RDD.count(), masked_train_userID_with_playcount_RDD.count()"
   ]
  },
  {
   "cell_type": "code",
   "execution_count": 39,
   "metadata": {
    "collapsed": true
   },
   "outputs": [],
   "source": [
    "# Now we have masked_training_RDD and test_RDD ready for model evaludation\n",
    "test_RDD = taste_data"
   ]
  },
  {
   "cell_type": "markdown",
   "metadata": {},
   "source": [
    "### Model Evaluation"
   ]
  },
  {
   "cell_type": "code",
   "execution_count": null,
   "metadata": {
    "collapsed": true
   },
   "outputs": [],
   "source": [
    "'''\n",
    "1. Train the ALS model with masked training data (masked_training_RDD)\n",
    "2. Loop for each user \n",
    "   2.1 Get list of songs from masked_training_RDD where playcount = 0\n",
    "   2.2 Predict those songs \n",
    "   2.3 Get the actual playcounts of those songs from test_RDD \n",
    "   2.3 Calculate score:\n",
    "       MAP - Get top n recommended songs and compare with actual set of songs\n",
    "       AUC - prediction score (confidence level) vs actual data (binary)\n",
    "3. Calculate average score\n",
    "'''"
   ]
  },
  {
   "cell_type": "code",
   "execution_count": 42,
   "metadata": {
    "collapsed": true
   },
   "outputs": [],
   "source": [
    "# Get unrated (unplayed) songs\n",
    "def get_unplayed_songs_for_users(data, user_id):\n",
    "# Get pairs of (userID, movieID) for user_id unrated movies\n",
    "    user_unplayed_songs_RDD = data.filter(lambda rating: not rating[0] == user_id)\\\n",
    "                                          .map(lambda x: (user_id, x[1])).distinct()\n",
    "    return user_unplayed_songs_RDD"
   ]
  },
  {
   "cell_type": "code",
   "execution_count": 54,
   "metadata": {
    "collapsed": true
   },
   "outputs": [],
   "source": [
    "m_user_unplay_RDD = get_unplayed_songs_for_users(masked_training_RDD, 12)\n",
    "user_unplay_RDD = get_unplayed_songs_for_users(taste_data, 12)"
   ]
  },
  {
   "cell_type": "code",
   "execution_count": 55,
   "metadata": {
    "collapsed": false
   },
   "outputs": [
    {
     "data": {
      "text/plain": [
       "(148037, 148037)"
      ]
     },
     "execution_count": 55,
     "metadata": {},
     "output_type": "execute_result"
    }
   ],
   "source": [
    "user_unplay_RDD.count(), m_user_unplay_RDD.count()"
   ]
  },
  {
   "cell_type": "code",
   "execution_count": 56,
   "metadata": {
    "collapsed": false
   },
   "outputs": [
    {
     "data": {
      "text/plain": [
       "[(12, 57698), (12, 9460), (12, 147210), (12, 30798), (12, 113440)]"
      ]
     },
     "execution_count": 56,
     "metadata": {},
     "output_type": "execute_result"
    }
   ],
   "source": [
    "user_unplay_RDD.take(5)"
   ]
  },
  {
   "cell_type": "code",
   "execution_count": null,
   "metadata": {
    "collapsed": true
   },
   "outputs": [],
   "source": [
    "user_unplay"
   ]
  }
 ],
 "metadata": {
  "kernelspec": {
   "display_name": "Python 2",
   "language": "python",
   "name": "python2"
  },
  "language_info": {
   "codemirror_mode": {
    "name": "ipython",
    "version": 2
   },
   "file_extension": ".py",
   "mimetype": "text/x-python",
   "name": "python",
   "nbconvert_exporter": "python",
   "pygments_lexer": "ipython2",
   "version": "2.7.10"
  }
 },
 "nbformat": 4,
 "nbformat_minor": 0
}

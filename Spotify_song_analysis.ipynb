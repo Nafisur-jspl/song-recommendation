{
 "cells": [
  {
   "cell_type": "code",
   "execution_count": 1,
   "metadata": {
    "collapsed": true
   },
   "outputs": [],
   "source": [
    "import pandas as pd\n",
    "import numpy as np"
   ]
  },
  {
   "cell_type": "markdown",
   "metadata": {},
   "source": [
    "### Data Preparation"
   ]
  },
  {
   "cell_type": "code",
   "execution_count": 2,
   "metadata": {
    "collapsed": false
   },
   "outputs": [],
   "source": [
    "audio_features = pd.read_csv('./data/sp_audio_feature.csv')"
   ]
  },
  {
   "cell_type": "code",
   "execution_count": 3,
   "metadata": {
    "collapsed": false
   },
   "outputs": [
    {
     "data": {
      "text/html": [
       "<div>\n",
       "<table border=\"1\" class=\"dataframe\">\n",
       "  <thead>\n",
       "    <tr style=\"text-align: right;\">\n",
       "      <th></th>\n",
       "      <th>user_id</th>\n",
       "      <th>song_id</th>\n",
       "      <th>play_count</th>\n",
       "      <th>song_title</th>\n",
       "      <th>artist_id</th>\n",
       "      <th>artist_name</th>\n",
       "      <th>song_prefix</th>\n",
       "      <th>spotify_id</th>\n",
       "      <th>audio_feature</th>\n",
       "    </tr>\n",
       "  </thead>\n",
       "  <tbody>\n",
       "    <tr>\n",
       "      <th>0</th>\n",
       "      <td>b80344d063b5ccb3212f76538f3d9e43d87dca9e</td>\n",
       "      <td>SOAKIMP12A8C130995</td>\n",
       "      <td>1</td>\n",
       "      <td>The Cove</td>\n",
       "      <td>ARC8CQZ1187B98DECA</td>\n",
       "      <td>Jack Johnson</td>\n",
       "      <td>AK</td>\n",
       "      <td>spotify:track:4nuY11Vo1Yd5xMHhLfDKe9</td>\n",
       "      <td>[{u'track_href': u'https://api.spotify.com/v1/...</td>\n",
       "    </tr>\n",
       "    <tr>\n",
       "      <th>1</th>\n",
       "      <td>b80344d063b5ccb3212f76538f3d9e43d87dca9e</td>\n",
       "      <td>SOBFOVM12A58A7D494</td>\n",
       "      <td>1</td>\n",
       "      <td>Riot Radio (Soundtrack Version)</td>\n",
       "      <td>ARI4V0E1187B9B6FC2</td>\n",
       "      <td>The Dead 60s</td>\n",
       "      <td>BF</td>\n",
       "      <td>spotify:track:2HPwuvT6HKngPSynOCi6Lb</td>\n",
       "      <td>[{u'track_href': u'https://api.spotify.com/v1/...</td>\n",
       "    </tr>\n",
       "    <tr>\n",
       "      <th>2</th>\n",
       "      <td>b80344d063b5ccb3212f76538f3d9e43d87dca9e</td>\n",
       "      <td>SOBVFZR12A6D4F8AE3</td>\n",
       "      <td>1</td>\n",
       "      <td>Ears To The Ground (Album Version)</td>\n",
       "      <td>ARMS97V1187B99DD98</td>\n",
       "      <td>Josh Rouse</td>\n",
       "      <td>BV</td>\n",
       "      <td>spotify:track:5WjXULJvSlMxuies9diz1Q</td>\n",
       "      <td>[{u'track_href': u'https://api.spotify.com/v1/...</td>\n",
       "    </tr>\n",
       "    <tr>\n",
       "      <th>3</th>\n",
       "      <td>b80344d063b5ccb3212f76538f3d9e43d87dca9e</td>\n",
       "      <td>SOBXALG12A8C13C108</td>\n",
       "      <td>1</td>\n",
       "      <td>Food Chain (Album Version)</td>\n",
       "      <td>ARG3I891187FB3A391</td>\n",
       "      <td>Eric Hutchinson</td>\n",
       "      <td>BX</td>\n",
       "      <td>spotify:track:1bqi9YEdZweX9H6JuSQ6Qw</td>\n",
       "      <td>[{u'track_href': u'https://api.spotify.com/v1/...</td>\n",
       "    </tr>\n",
       "    <tr>\n",
       "      <th>4</th>\n",
       "      <td>b80344d063b5ccb3212f76538f3d9e43d87dca9e</td>\n",
       "      <td>SODACBL12A8C13C273</td>\n",
       "      <td>1</td>\n",
       "      <td>Learn To Fly</td>\n",
       "      <td>AR6XPWV1187B9ADAEB</td>\n",
       "      <td>Foo Fighters</td>\n",
       "      <td>DA</td>\n",
       "      <td>spotify:track:4tjBDR8r3kxBXxQPeRTQgu</td>\n",
       "      <td>[{u'track_href': u'https://api.spotify.com/v1/...</td>\n",
       "    </tr>\n",
       "  </tbody>\n",
       "</table>\n",
       "</div>"
      ],
      "text/plain": [
       "                                    user_id             song_id  play_count  \\\n",
       "0  b80344d063b5ccb3212f76538f3d9e43d87dca9e  SOAKIMP12A8C130995           1   \n",
       "1  b80344d063b5ccb3212f76538f3d9e43d87dca9e  SOBFOVM12A58A7D494           1   \n",
       "2  b80344d063b5ccb3212f76538f3d9e43d87dca9e  SOBVFZR12A6D4F8AE3           1   \n",
       "3  b80344d063b5ccb3212f76538f3d9e43d87dca9e  SOBXALG12A8C13C108           1   \n",
       "4  b80344d063b5ccb3212f76538f3d9e43d87dca9e  SODACBL12A8C13C273           1   \n",
       "\n",
       "                           song_title           artist_id      artist_name  \\\n",
       "0                            The Cove  ARC8CQZ1187B98DECA     Jack Johnson   \n",
       "1     Riot Radio (Soundtrack Version)  ARI4V0E1187B9B6FC2     The Dead 60s   \n",
       "2  Ears To The Ground (Album Version)  ARMS97V1187B99DD98       Josh Rouse   \n",
       "3          Food Chain (Album Version)  ARG3I891187FB3A391  Eric Hutchinson   \n",
       "4                        Learn To Fly  AR6XPWV1187B9ADAEB     Foo Fighters   \n",
       "\n",
       "  song_prefix                            spotify_id  \\\n",
       "0          AK  spotify:track:4nuY11Vo1Yd5xMHhLfDKe9   \n",
       "1          BF  spotify:track:2HPwuvT6HKngPSynOCi6Lb   \n",
       "2          BV  spotify:track:5WjXULJvSlMxuies9diz1Q   \n",
       "3          BX  spotify:track:1bqi9YEdZweX9H6JuSQ6Qw   \n",
       "4          DA  spotify:track:4tjBDR8r3kxBXxQPeRTQgu   \n",
       "\n",
       "                                       audio_feature  \n",
       "0  [{u'track_href': u'https://api.spotify.com/v1/...  \n",
       "1  [{u'track_href': u'https://api.spotify.com/v1/...  \n",
       "2  [{u'track_href': u'https://api.spotify.com/v1/...  \n",
       "3  [{u'track_href': u'https://api.spotify.com/v1/...  \n",
       "4  [{u'track_href': u'https://api.spotify.com/v1/...  "
      ]
     },
     "execution_count": 3,
     "metadata": {},
     "output_type": "execute_result"
    }
   ],
   "source": [
    "audio_features.head()"
   ]
  },
  {
   "cell_type": "code",
   "execution_count": 4,
   "metadata": {
    "collapsed": false
   },
   "outputs": [
    {
     "data": {
      "text/html": [
       "<div>\n",
       "<table border=\"1\" class=\"dataframe\">\n",
       "  <thead>\n",
       "    <tr style=\"text-align: right;\">\n",
       "      <th></th>\n",
       "      <th>user_id</th>\n",
       "      <th>song_id</th>\n",
       "      <th>play_count</th>\n",
       "      <th>song_title</th>\n",
       "      <th>artist_id</th>\n",
       "      <th>artist_name</th>\n",
       "      <th>song_prefix</th>\n",
       "      <th>spotify_id</th>\n",
       "      <th>audio_feature</th>\n",
       "    </tr>\n",
       "  </thead>\n",
       "  <tbody>\n",
       "    <tr>\n",
       "      <th>1130</th>\n",
       "      <td>732f88be38fae217f8ab7e24c20dd072436e3e40</td>\n",
       "      <td>SORNANN12A8C138AA1</td>\n",
       "      <td>1</td>\n",
       "      <td>Kiss My Sass [feat. Travis McCoy of Gym Class ...</td>\n",
       "      <td>AR1T5VW1187B9B9586</td>\n",
       "      <td>Cobra Starship</td>\n",
       "      <td>RN</td>\n",
       "      <td>spotify:track:3iARjs3CL7BcjEiHNp4hXo</td>\n",
       "      <td>[None]</td>\n",
       "    </tr>\n",
       "    <tr>\n",
       "      <th>37337</th>\n",
       "      <td>7e59d62449a8768a17e79df7464604a3406b333f</td>\n",
       "      <td>SOXRHDX12AB018725D</td>\n",
       "      <td>1</td>\n",
       "      <td>I Swear This Is The Last Time</td>\n",
       "      <td>AR23GZ01187B98BC19</td>\n",
       "      <td>Whatever It Takes</td>\n",
       "      <td>XR</td>\n",
       "      <td>spotify:track:29Mr3zus2VgKkj92u2eajm</td>\n",
       "      <td>[None]</td>\n",
       "    </tr>\n",
       "    <tr>\n",
       "      <th>46637</th>\n",
       "      <td>ad84790e329559e1af78ee632de980b809c4c73a</td>\n",
       "      <td>SOIOTFB12AB0187253</td>\n",
       "      <td>1</td>\n",
       "      <td>Life_ Voice_ Action_ Change</td>\n",
       "      <td>AR23GZ01187B98BC19</td>\n",
       "      <td>Whatever It Takes</td>\n",
       "      <td>IO</td>\n",
       "      <td>spotify:track:1VApDjX33CSHmwKDqSiMWx</td>\n",
       "      <td>[None]</td>\n",
       "    </tr>\n",
       "    <tr>\n",
       "      <th>62629</th>\n",
       "      <td>55985efae54c97ba355d6ade339b682fd7410eef</td>\n",
       "      <td>SOXNEMF12AB018ADBD</td>\n",
       "      <td>2</td>\n",
       "      <td>TALKIN' 'BOUT LOVE</td>\n",
       "      <td>ARQ7XXB1187B99B5C3</td>\n",
       "      <td>GEORGE SOULE</td>\n",
       "      <td>XN</td>\n",
       "      <td>spotify:track:6RcOq9aVzYvhYaB2d5Rbxb</td>\n",
       "      <td>[None]</td>\n",
       "    </tr>\n",
       "    <tr>\n",
       "      <th>75279</th>\n",
       "      <td>fd08798b9102dac0e5723e2e3735a0fd42ceada9</td>\n",
       "      <td>SONAFFM12AB0182490</td>\n",
       "      <td>1</td>\n",
       "      <td>H.P. Confirm</td>\n",
       "      <td>AR7HNX61187B999CBE</td>\n",
       "      <td>Daryll-Ann</td>\n",
       "      <td>NaN</td>\n",
       "      <td>spotify:track:1yrNeRCpRFsjqxd2xTsaLX</td>\n",
       "      <td>[None]</td>\n",
       "    </tr>\n",
       "    <tr>\n",
       "      <th>85727</th>\n",
       "      <td>61c8d00bc2e11952904f89f4fe29ccd2a2d490f5</td>\n",
       "      <td>SOYBHHM12A6BD56398</td>\n",
       "      <td>1</td>\n",
       "      <td>The Kids Are All F'''ed Up</td>\n",
       "      <td>AR1T5VW1187B9B9586</td>\n",
       "      <td>Cobra Starship</td>\n",
       "      <td>YB</td>\n",
       "      <td>spotify:track:12IW9ipJSmFNRc4H35PYcO</td>\n",
       "      <td>[None]</td>\n",
       "    </tr>\n",
       "    <tr>\n",
       "      <th>106412</th>\n",
       "      <td>3e1d909240b7338b44027b1c5fb765663a0c8542</td>\n",
       "      <td>SOHMOUG12A58A7B9AF</td>\n",
       "      <td>11</td>\n",
       "      <td>Do you wanna dance</td>\n",
       "      <td>AR1HZWM1187B9B1458</td>\n",
       "      <td>Barry Blue</td>\n",
       "      <td>HM</td>\n",
       "      <td>spotify:track:0kxDCblhoO8mV3h92TvDtW</td>\n",
       "      <td>[None]</td>\n",
       "    </tr>\n",
       "    <tr>\n",
       "      <th>112894</th>\n",
       "      <td>4f597fdf15531285c70543c0ba9084202a3e93a6</td>\n",
       "      <td>SOCEWEV12AC3DF9829</td>\n",
       "      <td>1</td>\n",
       "      <td>Siempre Te Recordare</td>\n",
       "      <td>ARYUI3F1187FB42BD4</td>\n",
       "      <td>Yaco Monti</td>\n",
       "      <td>CE</td>\n",
       "      <td>spotify:track:0jut2gyrNW7SRXK15zzn7k</td>\n",
       "      <td>[None]</td>\n",
       "    </tr>\n",
       "    <tr>\n",
       "      <th>114048</th>\n",
       "      <td>6c380037fb7f8cea22ccedf547efc1e8f4762d20</td>\n",
       "      <td>SOACIOE12A6D4F5314</td>\n",
       "      <td>2</td>\n",
       "      <td>Sal Y Agua</td>\n",
       "      <td>AR3C5UT1187B98D364</td>\n",
       "      <td>Lisandro Meza</td>\n",
       "      <td>AC</td>\n",
       "      <td>spotify:track:0OVjf1QxN7aMohjd4foYJn</td>\n",
       "      <td>[None]</td>\n",
       "    </tr>\n",
       "    <tr>\n",
       "      <th>115693</th>\n",
       "      <td>c28dd195f05d9823c64bdef809830f87f68953a6</td>\n",
       "      <td>SOZZYFK12AB018721B</td>\n",
       "      <td>2</td>\n",
       "      <td>A Day In The Life Of A Businessman</td>\n",
       "      <td>AR23GZ01187B98BC19</td>\n",
       "      <td>Whatever It Takes</td>\n",
       "      <td>ZZ</td>\n",
       "      <td>spotify:track:6dXgnFgKKykRC41WgiFlgg</td>\n",
       "      <td>[None]</td>\n",
       "    </tr>\n",
       "    <tr>\n",
       "      <th>140130</th>\n",
       "      <td>6330fef9445dbdf14b83cf6e432a073536651245</td>\n",
       "      <td>SOTXWIB12A6D4FA12C</td>\n",
       "      <td>1</td>\n",
       "      <td>La Gitana</td>\n",
       "      <td>AR6C8EJ1187FB3F473</td>\n",
       "      <td>Nelson Ned</td>\n",
       "      <td>TX</td>\n",
       "      <td>spotify:track:3yAhBoPxLpTHmeShpfcJLM</td>\n",
       "      <td>[None]</td>\n",
       "    </tr>\n",
       "    <tr>\n",
       "      <th>152093</th>\n",
       "      <td>c58a046b230a1b6f6869f7695f95881524cd9bfd</td>\n",
       "      <td>SOXFWHC12AB0187205</td>\n",
       "      <td>1</td>\n",
       "      <td>Sea Of Promise</td>\n",
       "      <td>AR23GZ01187B98BC19</td>\n",
       "      <td>Whatever It Takes</td>\n",
       "      <td>XF</td>\n",
       "      <td>spotify:track:0Y7er9e9KZDKO1PbtPx2CC</td>\n",
       "      <td>[None]</td>\n",
       "    </tr>\n",
       "    <tr>\n",
       "      <th>154059</th>\n",
       "      <td>455be120c83fc99b6acc14a169a17f3537642afb</td>\n",
       "      <td>SOICOUW12A58A77D27</td>\n",
       "      <td>5</td>\n",
       "      <td>Cumbia Cienaguera</td>\n",
       "      <td>ARMFV5A1187FB37DE5</td>\n",
       "      <td>Conjunto Tipico Vallenato</td>\n",
       "      <td>IC</td>\n",
       "      <td>spotify:track:6iZwTmKxIsVR9jRZvArmKx</td>\n",
       "      <td>[None]</td>\n",
       "    </tr>\n",
       "    <tr>\n",
       "      <th>158127</th>\n",
       "      <td>de25ef68c7a76868ef69d84a1776a10f1ec5838e</td>\n",
       "      <td>SOLIFNN12AB0187243</td>\n",
       "      <td>5</td>\n",
       "      <td>Pulse Rate</td>\n",
       "      <td>AR23GZ01187B98BC19</td>\n",
       "      <td>Whatever It Takes</td>\n",
       "      <td>LI</td>\n",
       "      <td>spotify:track:6O4e506hwwxd7YJPmJgRqx</td>\n",
       "      <td>[None]</td>\n",
       "    </tr>\n",
       "    <tr>\n",
       "      <th>179363</th>\n",
       "      <td>bc9122a82bc342e8b831fdc80a59d64491b60458</td>\n",
       "      <td>SONTMQA12AB018205A</td>\n",
       "      <td>6</td>\n",
       "      <td>Poor Little City Boy</td>\n",
       "      <td>ARFZ7AY1187B9A7C7D</td>\n",
       "      <td>nedelle</td>\n",
       "      <td>NT</td>\n",
       "      <td>spotify:track:5C5jr60D6vGb9UXBy4VFjw</td>\n",
       "      <td>[None]</td>\n",
       "    </tr>\n",
       "  </tbody>\n",
       "</table>\n",
       "</div>"
      ],
      "text/plain": [
       "                                         user_id             song_id  \\\n",
       "1130    732f88be38fae217f8ab7e24c20dd072436e3e40  SORNANN12A8C138AA1   \n",
       "37337   7e59d62449a8768a17e79df7464604a3406b333f  SOXRHDX12AB018725D   \n",
       "46637   ad84790e329559e1af78ee632de980b809c4c73a  SOIOTFB12AB0187253   \n",
       "62629   55985efae54c97ba355d6ade339b682fd7410eef  SOXNEMF12AB018ADBD   \n",
       "75279   fd08798b9102dac0e5723e2e3735a0fd42ceada9  SONAFFM12AB0182490   \n",
       "85727   61c8d00bc2e11952904f89f4fe29ccd2a2d490f5  SOYBHHM12A6BD56398   \n",
       "106412  3e1d909240b7338b44027b1c5fb765663a0c8542  SOHMOUG12A58A7B9AF   \n",
       "112894  4f597fdf15531285c70543c0ba9084202a3e93a6  SOCEWEV12AC3DF9829   \n",
       "114048  6c380037fb7f8cea22ccedf547efc1e8f4762d20  SOACIOE12A6D4F5314   \n",
       "115693  c28dd195f05d9823c64bdef809830f87f68953a6  SOZZYFK12AB018721B   \n",
       "140130  6330fef9445dbdf14b83cf6e432a073536651245  SOTXWIB12A6D4FA12C   \n",
       "152093  c58a046b230a1b6f6869f7695f95881524cd9bfd  SOXFWHC12AB0187205   \n",
       "154059  455be120c83fc99b6acc14a169a17f3537642afb  SOICOUW12A58A77D27   \n",
       "158127  de25ef68c7a76868ef69d84a1776a10f1ec5838e  SOLIFNN12AB0187243   \n",
       "179363  bc9122a82bc342e8b831fdc80a59d64491b60458  SONTMQA12AB018205A   \n",
       "\n",
       "        play_count                                         song_title  \\\n",
       "1130             1  Kiss My Sass [feat. Travis McCoy of Gym Class ...   \n",
       "37337            1                      I Swear This Is The Last Time   \n",
       "46637            1                        Life_ Voice_ Action_ Change   \n",
       "62629            2                                 TALKIN' 'BOUT LOVE   \n",
       "75279            1                                       H.P. Confirm   \n",
       "85727            1                         The Kids Are All F'''ed Up   \n",
       "106412          11                                 Do you wanna dance   \n",
       "112894           1                               Siempre Te Recordare   \n",
       "114048           2                                         Sal Y Agua   \n",
       "115693           2                 A Day In The Life Of A Businessman   \n",
       "140130           1                                          La Gitana   \n",
       "152093           1                                     Sea Of Promise   \n",
       "154059           5                                  Cumbia Cienaguera   \n",
       "158127           5                                         Pulse Rate   \n",
       "179363           6                               Poor Little City Boy   \n",
       "\n",
       "                 artist_id                artist_name song_prefix  \\\n",
       "1130    AR1T5VW1187B9B9586             Cobra Starship          RN   \n",
       "37337   AR23GZ01187B98BC19          Whatever It Takes          XR   \n",
       "46637   AR23GZ01187B98BC19          Whatever It Takes          IO   \n",
       "62629   ARQ7XXB1187B99B5C3               GEORGE SOULE          XN   \n",
       "75279   AR7HNX61187B999CBE                 Daryll-Ann         NaN   \n",
       "85727   AR1T5VW1187B9B9586             Cobra Starship          YB   \n",
       "106412  AR1HZWM1187B9B1458                 Barry Blue          HM   \n",
       "112894  ARYUI3F1187FB42BD4                 Yaco Monti          CE   \n",
       "114048  AR3C5UT1187B98D364              Lisandro Meza          AC   \n",
       "115693  AR23GZ01187B98BC19          Whatever It Takes          ZZ   \n",
       "140130  AR6C8EJ1187FB3F473                 Nelson Ned          TX   \n",
       "152093  AR23GZ01187B98BC19          Whatever It Takes          XF   \n",
       "154059  ARMFV5A1187FB37DE5  Conjunto Tipico Vallenato          IC   \n",
       "158127  AR23GZ01187B98BC19          Whatever It Takes          LI   \n",
       "179363  ARFZ7AY1187B9A7C7D                    nedelle          NT   \n",
       "\n",
       "                                  spotify_id audio_feature  \n",
       "1130    spotify:track:3iARjs3CL7BcjEiHNp4hXo        [None]  \n",
       "37337   spotify:track:29Mr3zus2VgKkj92u2eajm        [None]  \n",
       "46637   spotify:track:1VApDjX33CSHmwKDqSiMWx        [None]  \n",
       "62629   spotify:track:6RcOq9aVzYvhYaB2d5Rbxb        [None]  \n",
       "75279   spotify:track:1yrNeRCpRFsjqxd2xTsaLX        [None]  \n",
       "85727   spotify:track:12IW9ipJSmFNRc4H35PYcO        [None]  \n",
       "106412  spotify:track:0kxDCblhoO8mV3h92TvDtW        [None]  \n",
       "112894  spotify:track:0jut2gyrNW7SRXK15zzn7k        [None]  \n",
       "114048  spotify:track:0OVjf1QxN7aMohjd4foYJn        [None]  \n",
       "115693  spotify:track:6dXgnFgKKykRC41WgiFlgg        [None]  \n",
       "140130  spotify:track:3yAhBoPxLpTHmeShpfcJLM        [None]  \n",
       "152093  spotify:track:0Y7er9e9KZDKO1PbtPx2CC        [None]  \n",
       "154059  spotify:track:6iZwTmKxIsVR9jRZvArmKx        [None]  \n",
       "158127  spotify:track:6O4e506hwwxd7YJPmJgRqx        [None]  \n",
       "179363  spotify:track:5C5jr60D6vGb9UXBy4VFjw        [None]  "
      ]
     },
     "execution_count": 4,
     "metadata": {},
     "output_type": "execute_result"
    }
   ],
   "source": [
    "audio_features[audio_features['audio_feature']=='[None]']"
   ]
  },
  {
   "cell_type": "code",
   "execution_count": 5,
   "metadata": {
    "collapsed": false
   },
   "outputs": [
    {
     "data": {
      "text/plain": [
       "(15, 180813)"
      ]
     },
     "execution_count": 5,
     "metadata": {},
     "output_type": "execute_result"
    }
   ],
   "source": [
    "len(audio_features[audio_features['audio_feature']=='[None]']), len(audio_features)"
   ]
  },
  {
   "cell_type": "code",
   "execution_count": 6,
   "metadata": {
    "collapsed": true
   },
   "outputs": [],
   "source": [
    "# Drop rows without audio feature\n",
    "audio_features = audio_features[audio_features['audio_feature']!='[None]']"
   ]
  },
  {
   "cell_type": "code",
   "execution_count": 7,
   "metadata": {
    "collapsed": false
   },
   "outputs": [
    {
     "data": {
      "text/plain": [
       "(180798, 9)"
      ]
     },
     "execution_count": 7,
     "metadata": {},
     "output_type": "execute_result"
    }
   ],
   "source": [
    "audio_features.shape"
   ]
  },
  {
   "cell_type": "code",
   "execution_count": 8,
   "metadata": {
    "collapsed": false
   },
   "outputs": [
    {
     "data": {
      "text/plain": [
       "array([ \"[{u'track_href': u'https://api.spotify.com/v1/tracks/4nuY11Vo1Yd5xMHhLfDKe9', u'analysis_url': u'https://api.spotify.com/v1/audio-analysis/4nuY11Vo1Yd5xMHhLfDKe9', u'energy': 0.231, u'liveness': 0.128, u'tempo': 123.685, u'speechiness': 0.0445, u'uri': u'spotify:track:4nuY11Vo1Yd5xMHhLfDKe9', u'acousticness': 0.656, u'instrumentalness': 0.577, u'time_signature': 4, u'danceability': 0.486, u'key': 7, u'duration_ms': 112680, u'loudness': -15.423, u'valence': 0.387, u'type': u'audio_features', u'id': u'4nuY11Vo1Yd5xMHhLfDKe9', u'mode': 1}]\"], dtype=object)"
      ]
     },
     "execution_count": 8,
     "metadata": {},
     "output_type": "execute_result"
    }
   ],
   "source": [
    "audio_features.audio_feature[:1].values"
   ]
  },
  {
   "cell_type": "code",
   "execution_count": 9,
   "metadata": {
    "collapsed": false
   },
   "outputs": [],
   "source": [
    "xstr = audio_features.audio_feature[:1]"
   ]
  },
  {
   "cell_type": "code",
   "execution_count": 10,
   "metadata": {
    "collapsed": false
   },
   "outputs": [
    {
     "data": {
      "text/plain": [
       "\"[{u'track_href': u'https://api.spotify.com/v1/tracks/4nuY11Vo1Yd5xMHhLfDKe9', u'analysis_url': u'https://api.spotify.com/v1/audio-analysis/4nuY11Vo1Yd5xMHhLfDKe9', u'energy': 0.231, u'liveness': 0.128, u'tempo': 123.685, u'speechiness': 0.0445, u'uri': u'spotify:track:4nuY11Vo1Yd5xMHhLfDKe9', u'acousticness': 0.656, u'instrumentalness': 0.577, u'time_signature': 4, u'danceability': 0.486, u'key': 7, u'duration_ms': 112680, u'loudness': -15.423, u'valence': 0.387, u'type': u'audio_features', u'id': u'4nuY11Vo1Yd5xMHhLfDKe9', u'mode': 1}]\""
      ]
     },
     "execution_count": 10,
     "metadata": {},
     "output_type": "execute_result"
    }
   ],
   "source": [
    "xstr[0]"
   ]
  },
  {
   "cell_type": "code",
   "execution_count": 11,
   "metadata": {
    "collapsed": true
   },
   "outputs": [],
   "source": [
    "import ast"
   ]
  },
  {
   "cell_type": "code",
   "execution_count": 12,
   "metadata": {
    "collapsed": true
   },
   "outputs": [],
   "source": [
    "def check_feature_length(feature):\n",
    "    f_list = ast.literal_eval(feature)\n",
    "    return len(f_list)\n",
    "\n",
    "def extract_feature(feature):\n",
    "    f_list = ast.literal_eval(feature)\n",
    "    return f_list"
   ]
  },
  {
   "cell_type": "code",
   "execution_count": 13,
   "metadata": {
    "collapsed": false
   },
   "outputs": [],
   "source": [
    "feature_list = audio_features.audio_feature.map(extract_feature)"
   ]
  },
  {
   "cell_type": "code",
   "execution_count": 14,
   "metadata": {
    "collapsed": false
   },
   "outputs": [],
   "source": [
    "full_list = feature_list.sum()"
   ]
  },
  {
   "cell_type": "code",
   "execution_count": 15,
   "metadata": {
    "collapsed": false
   },
   "outputs": [
    {
     "data": {
      "text/plain": [
       "[]"
      ]
     },
     "execution_count": 15,
     "metadata": {},
     "output_type": "execute_result"
    }
   ],
   "source": [
    "[(i,x) for i,x in enumerate(full_list) if x == None]"
   ]
  },
  {
   "cell_type": "code",
   "execution_count": 16,
   "metadata": {
    "collapsed": false
   },
   "outputs": [],
   "source": [
    "df_feature = pd.DataFrame(full_list)"
   ]
  },
  {
   "cell_type": "code",
   "execution_count": 17,
   "metadata": {
    "collapsed": false
   },
   "outputs": [
    {
     "data": {
      "text/html": [
       "<div>\n",
       "<table border=\"1\" class=\"dataframe\">\n",
       "  <thead>\n",
       "    <tr style=\"text-align: right;\">\n",
       "      <th></th>\n",
       "      <th>acousticness</th>\n",
       "      <th>analysis_url</th>\n",
       "      <th>danceability</th>\n",
       "      <th>duration_ms</th>\n",
       "      <th>energy</th>\n",
       "      <th>id</th>\n",
       "      <th>instrumentalness</th>\n",
       "      <th>key</th>\n",
       "      <th>liveness</th>\n",
       "      <th>loudness</th>\n",
       "      <th>mode</th>\n",
       "      <th>speechiness</th>\n",
       "      <th>tempo</th>\n",
       "      <th>time_signature</th>\n",
       "      <th>track_href</th>\n",
       "      <th>type</th>\n",
       "      <th>uri</th>\n",
       "      <th>valence</th>\n",
       "    </tr>\n",
       "  </thead>\n",
       "  <tbody>\n",
       "    <tr>\n",
       "      <th>0</th>\n",
       "      <td>0.656000</td>\n",
       "      <td>https://api.spotify.com/v1/audio-analysis/4nuY...</td>\n",
       "      <td>0.486</td>\n",
       "      <td>112680</td>\n",
       "      <td>0.231</td>\n",
       "      <td>4nuY11Vo1Yd5xMHhLfDKe9</td>\n",
       "      <td>0.577000</td>\n",
       "      <td>7.0</td>\n",
       "      <td>0.128</td>\n",
       "      <td>-15.423</td>\n",
       "      <td>1.0</td>\n",
       "      <td>0.0445</td>\n",
       "      <td>123.685</td>\n",
       "      <td>4.0</td>\n",
       "      <td>https://api.spotify.com/v1/tracks/4nuY11Vo1Yd5...</td>\n",
       "      <td>audio_features</td>\n",
       "      <td>spotify:track:4nuY11Vo1Yd5xMHhLfDKe9</td>\n",
       "      <td>0.387</td>\n",
       "    </tr>\n",
       "    <tr>\n",
       "      <th>1</th>\n",
       "      <td>0.000111</td>\n",
       "      <td>https://api.spotify.com/v1/audio-analysis/2HPw...</td>\n",
       "      <td>0.598</td>\n",
       "      <td>141440</td>\n",
       "      <td>0.760</td>\n",
       "      <td>2HPwuvT6HKngPSynOCi6Lb</td>\n",
       "      <td>0.244000</td>\n",
       "      <td>7.0</td>\n",
       "      <td>0.101</td>\n",
       "      <td>-7.372</td>\n",
       "      <td>0.0</td>\n",
       "      <td>0.0293</td>\n",
       "      <td>143.948</td>\n",
       "      <td>4.0</td>\n",
       "      <td>https://api.spotify.com/v1/tracks/2HPwuvT6HKng...</td>\n",
       "      <td>audio_features</td>\n",
       "      <td>spotify:track:2HPwuvT6HKngPSynOCi6Lb</td>\n",
       "      <td>0.839</td>\n",
       "    </tr>\n",
       "    <tr>\n",
       "      <th>2</th>\n",
       "      <td>0.172000</td>\n",
       "      <td>https://api.spotify.com/v1/audio-analysis/5WjX...</td>\n",
       "      <td>0.722</td>\n",
       "      <td>171173</td>\n",
       "      <td>0.501</td>\n",
       "      <td>5WjXULJvSlMxuies9diz1Q</td>\n",
       "      <td>0.534000</td>\n",
       "      <td>1.0</td>\n",
       "      <td>0.119</td>\n",
       "      <td>-10.620</td>\n",
       "      <td>0.0</td>\n",
       "      <td>0.0314</td>\n",
       "      <td>123.195</td>\n",
       "      <td>4.0</td>\n",
       "      <td>https://api.spotify.com/v1/tracks/5WjXULJvSlMx...</td>\n",
       "      <td>audio_features</td>\n",
       "      <td>spotify:track:5WjXULJvSlMxuies9diz1Q</td>\n",
       "      <td>0.417</td>\n",
       "    </tr>\n",
       "    <tr>\n",
       "      <th>3</th>\n",
       "      <td>0.410000</td>\n",
       "      <td>https://api.spotify.com/v1/audio-analysis/1bqi...</td>\n",
       "      <td>0.794</td>\n",
       "      <td>221200</td>\n",
       "      <td>0.605</td>\n",
       "      <td>1bqi9YEdZweX9H6JuSQ6Qw</td>\n",
       "      <td>0.000465</td>\n",
       "      <td>5.0</td>\n",
       "      <td>0.106</td>\n",
       "      <td>-5.816</td>\n",
       "      <td>1.0</td>\n",
       "      <td>0.0500</td>\n",
       "      <td>112.492</td>\n",
       "      <td>4.0</td>\n",
       "      <td>https://api.spotify.com/v1/tracks/1bqi9YEdZweX...</td>\n",
       "      <td>audio_features</td>\n",
       "      <td>spotify:track:1bqi9YEdZweX9H6JuSQ6Qw</td>\n",
       "      <td>0.601</td>\n",
       "    </tr>\n",
       "    <tr>\n",
       "      <th>4</th>\n",
       "      <td>0.000016</td>\n",
       "      <td>https://api.spotify.com/v1/audio-analysis/4tjB...</td>\n",
       "      <td>0.459</td>\n",
       "      <td>235293</td>\n",
       "      <td>0.925</td>\n",
       "      <td>4tjBDR8r3kxBXxQPeRTQgu</td>\n",
       "      <td>0.000009</td>\n",
       "      <td>4.0</td>\n",
       "      <td>0.256</td>\n",
       "      <td>-4.247</td>\n",
       "      <td>1.0</td>\n",
       "      <td>0.0450</td>\n",
       "      <td>135.994</td>\n",
       "      <td>4.0</td>\n",
       "      <td>https://api.spotify.com/v1/tracks/4tjBDR8r3kxB...</td>\n",
       "      <td>audio_features</td>\n",
       "      <td>spotify:track:4tjBDR8r3kxBXxQPeRTQgu</td>\n",
       "      <td>0.505</td>\n",
       "    </tr>\n",
       "  </tbody>\n",
       "</table>\n",
       "</div>"
      ],
      "text/plain": [
       "   acousticness                                       analysis_url  \\\n",
       "0      0.656000  https://api.spotify.com/v1/audio-analysis/4nuY...   \n",
       "1      0.000111  https://api.spotify.com/v1/audio-analysis/2HPw...   \n",
       "2      0.172000  https://api.spotify.com/v1/audio-analysis/5WjX...   \n",
       "3      0.410000  https://api.spotify.com/v1/audio-analysis/1bqi...   \n",
       "4      0.000016  https://api.spotify.com/v1/audio-analysis/4tjB...   \n",
       "\n",
       "   danceability  duration_ms  energy                      id  \\\n",
       "0         0.486       112680   0.231  4nuY11Vo1Yd5xMHhLfDKe9   \n",
       "1         0.598       141440   0.760  2HPwuvT6HKngPSynOCi6Lb   \n",
       "2         0.722       171173   0.501  5WjXULJvSlMxuies9diz1Q   \n",
       "3         0.794       221200   0.605  1bqi9YEdZweX9H6JuSQ6Qw   \n",
       "4         0.459       235293   0.925  4tjBDR8r3kxBXxQPeRTQgu   \n",
       "\n",
       "   instrumentalness  key  liveness  loudness  mode  speechiness    tempo  \\\n",
       "0          0.577000  7.0     0.128   -15.423   1.0       0.0445  123.685   \n",
       "1          0.244000  7.0     0.101    -7.372   0.0       0.0293  143.948   \n",
       "2          0.534000  1.0     0.119   -10.620   0.0       0.0314  123.195   \n",
       "3          0.000465  5.0     0.106    -5.816   1.0       0.0500  112.492   \n",
       "4          0.000009  4.0     0.256    -4.247   1.0       0.0450  135.994   \n",
       "\n",
       "   time_signature                                         track_href  \\\n",
       "0             4.0  https://api.spotify.com/v1/tracks/4nuY11Vo1Yd5...   \n",
       "1             4.0  https://api.spotify.com/v1/tracks/2HPwuvT6HKng...   \n",
       "2             4.0  https://api.spotify.com/v1/tracks/5WjXULJvSlMx...   \n",
       "3             4.0  https://api.spotify.com/v1/tracks/1bqi9YEdZweX...   \n",
       "4             4.0  https://api.spotify.com/v1/tracks/4tjBDR8r3kxB...   \n",
       "\n",
       "             type                                   uri  valence  \n",
       "0  audio_features  spotify:track:4nuY11Vo1Yd5xMHhLfDKe9    0.387  \n",
       "1  audio_features  spotify:track:2HPwuvT6HKngPSynOCi6Lb    0.839  \n",
       "2  audio_features  spotify:track:5WjXULJvSlMxuies9diz1Q    0.417  \n",
       "3  audio_features  spotify:track:1bqi9YEdZweX9H6JuSQ6Qw    0.601  \n",
       "4  audio_features  spotify:track:4tjBDR8r3kxBXxQPeRTQgu    0.505  "
      ]
     },
     "execution_count": 17,
     "metadata": {},
     "output_type": "execute_result"
    }
   ],
   "source": [
    "df_feature.head()"
   ]
  },
  {
   "cell_type": "code",
   "execution_count": 18,
   "metadata": {
    "collapsed": false
   },
   "outputs": [
    {
     "data": {
      "text/plain": [
       "((180798, 18), (180798, 9))"
      ]
     },
     "execution_count": 18,
     "metadata": {},
     "output_type": "execute_result"
    }
   ],
   "source": [
    "df_feature.shape, audio_features.shape"
   ]
  },
  {
   "cell_type": "code",
   "execution_count": 19,
   "metadata": {
    "collapsed": true
   },
   "outputs": [],
   "source": [
    "df_audio = pd.merge(audio_features, df_feature, how='inner', left_on='spotify_id', right_on='uri')"
   ]
  },
  {
   "cell_type": "code",
   "execution_count": 20,
   "metadata": {
    "collapsed": false
   },
   "outputs": [
    {
     "data": {
      "text/plain": [
       "(182076, 27)"
      ]
     },
     "execution_count": 20,
     "metadata": {},
     "output_type": "execute_result"
    }
   ],
   "source": [
    "df_audio.shape"
   ]
  },
  {
   "cell_type": "code",
   "execution_count": 21,
   "metadata": {
    "collapsed": false
   },
   "outputs": [
    {
     "data": {
      "text/plain": [
       "user_id               0\n",
       "song_id               0\n",
       "play_count            0\n",
       "song_title            3\n",
       "artist_id             0\n",
       "artist_name           0\n",
       "song_prefix         434\n",
       "spotify_id            0\n",
       "audio_feature         0\n",
       "acousticness          1\n",
       "analysis_url          0\n",
       "danceability         43\n",
       "duration_ms           0\n",
       "energy                1\n",
       "id                    0\n",
       "instrumentalness      1\n",
       "key                   1\n",
       "liveness              2\n",
       "loudness              0\n",
       "mode                  1\n",
       "speechiness          43\n",
       "tempo                 0\n",
       "time_signature       45\n",
       "track_href            0\n",
       "type                  0\n",
       "uri                   0\n",
       "valence              44\n",
       "dtype: int64"
      ]
     },
     "execution_count": 21,
     "metadata": {},
     "output_type": "execute_result"
    }
   ],
   "source": [
    "df_audio.isnull().sum()"
   ]
  },
  {
   "cell_type": "code",
   "execution_count": 22,
   "metadata": {
    "collapsed": false
   },
   "outputs": [
    {
     "data": {
      "text/html": [
       "<div>\n",
       "<table border=\"1\" class=\"dataframe\">\n",
       "  <thead>\n",
       "    <tr style=\"text-align: right;\">\n",
       "      <th></th>\n",
       "      <th>user_id</th>\n",
       "      <th>song_id</th>\n",
       "      <th>play_count</th>\n",
       "      <th>song_title</th>\n",
       "      <th>artist_id</th>\n",
       "      <th>artist_name</th>\n",
       "      <th>song_prefix</th>\n",
       "      <th>spotify_id</th>\n",
       "      <th>audio_feature</th>\n",
       "      <th>acousticness</th>\n",
       "      <th>...</th>\n",
       "      <th>liveness</th>\n",
       "      <th>loudness</th>\n",
       "      <th>mode</th>\n",
       "      <th>speechiness</th>\n",
       "      <th>tempo</th>\n",
       "      <th>time_signature</th>\n",
       "      <th>track_href</th>\n",
       "      <th>type</th>\n",
       "      <th>uri</th>\n",
       "      <th>valence</th>\n",
       "    </tr>\n",
       "  </thead>\n",
       "  <tbody>\n",
       "    <tr>\n",
       "      <th>0</th>\n",
       "      <td>b80344d063b5ccb3212f76538f3d9e43d87dca9e</td>\n",
       "      <td>SOAKIMP12A8C130995</td>\n",
       "      <td>1</td>\n",
       "      <td>The Cove</td>\n",
       "      <td>ARC8CQZ1187B98DECA</td>\n",
       "      <td>Jack Johnson</td>\n",
       "      <td>AK</td>\n",
       "      <td>spotify:track:4nuY11Vo1Yd5xMHhLfDKe9</td>\n",
       "      <td>[{u'track_href': u'https://api.spotify.com/v1/...</td>\n",
       "      <td>0.656000</td>\n",
       "      <td>...</td>\n",
       "      <td>0.128</td>\n",
       "      <td>-15.423</td>\n",
       "      <td>1.0</td>\n",
       "      <td>0.0445</td>\n",
       "      <td>123.685</td>\n",
       "      <td>4.0</td>\n",
       "      <td>https://api.spotify.com/v1/tracks/4nuY11Vo1Yd5...</td>\n",
       "      <td>audio_features</td>\n",
       "      <td>spotify:track:4nuY11Vo1Yd5xMHhLfDKe9</td>\n",
       "      <td>0.387</td>\n",
       "    </tr>\n",
       "    <tr>\n",
       "      <th>1</th>\n",
       "      <td>b80344d063b5ccb3212f76538f3d9e43d87dca9e</td>\n",
       "      <td>SOBFOVM12A58A7D494</td>\n",
       "      <td>1</td>\n",
       "      <td>Riot Radio (Soundtrack Version)</td>\n",
       "      <td>ARI4V0E1187B9B6FC2</td>\n",
       "      <td>The Dead 60s</td>\n",
       "      <td>BF</td>\n",
       "      <td>spotify:track:2HPwuvT6HKngPSynOCi6Lb</td>\n",
       "      <td>[{u'track_href': u'https://api.spotify.com/v1/...</td>\n",
       "      <td>0.000111</td>\n",
       "      <td>...</td>\n",
       "      <td>0.101</td>\n",
       "      <td>-7.372</td>\n",
       "      <td>0.0</td>\n",
       "      <td>0.0293</td>\n",
       "      <td>143.948</td>\n",
       "      <td>4.0</td>\n",
       "      <td>https://api.spotify.com/v1/tracks/2HPwuvT6HKng...</td>\n",
       "      <td>audio_features</td>\n",
       "      <td>spotify:track:2HPwuvT6HKngPSynOCi6Lb</td>\n",
       "      <td>0.839</td>\n",
       "    </tr>\n",
       "    <tr>\n",
       "      <th>2</th>\n",
       "      <td>b80344d063b5ccb3212f76538f3d9e43d87dca9e</td>\n",
       "      <td>SOBVFZR12A6D4F8AE3</td>\n",
       "      <td>1</td>\n",
       "      <td>Ears To The Ground (Album Version)</td>\n",
       "      <td>ARMS97V1187B99DD98</td>\n",
       "      <td>Josh Rouse</td>\n",
       "      <td>BV</td>\n",
       "      <td>spotify:track:5WjXULJvSlMxuies9diz1Q</td>\n",
       "      <td>[{u'track_href': u'https://api.spotify.com/v1/...</td>\n",
       "      <td>0.172000</td>\n",
       "      <td>...</td>\n",
       "      <td>0.119</td>\n",
       "      <td>-10.620</td>\n",
       "      <td>0.0</td>\n",
       "      <td>0.0314</td>\n",
       "      <td>123.195</td>\n",
       "      <td>4.0</td>\n",
       "      <td>https://api.spotify.com/v1/tracks/5WjXULJvSlMx...</td>\n",
       "      <td>audio_features</td>\n",
       "      <td>spotify:track:5WjXULJvSlMxuies9diz1Q</td>\n",
       "      <td>0.417</td>\n",
       "    </tr>\n",
       "    <tr>\n",
       "      <th>3</th>\n",
       "      <td>b80344d063b5ccb3212f76538f3d9e43d87dca9e</td>\n",
       "      <td>SOBXALG12A8C13C108</td>\n",
       "      <td>1</td>\n",
       "      <td>Food Chain (Album Version)</td>\n",
       "      <td>ARG3I891187FB3A391</td>\n",
       "      <td>Eric Hutchinson</td>\n",
       "      <td>BX</td>\n",
       "      <td>spotify:track:1bqi9YEdZweX9H6JuSQ6Qw</td>\n",
       "      <td>[{u'track_href': u'https://api.spotify.com/v1/...</td>\n",
       "      <td>0.410000</td>\n",
       "      <td>...</td>\n",
       "      <td>0.106</td>\n",
       "      <td>-5.816</td>\n",
       "      <td>1.0</td>\n",
       "      <td>0.0500</td>\n",
       "      <td>112.492</td>\n",
       "      <td>4.0</td>\n",
       "      <td>https://api.spotify.com/v1/tracks/1bqi9YEdZweX...</td>\n",
       "      <td>audio_features</td>\n",
       "      <td>spotify:track:1bqi9YEdZweX9H6JuSQ6Qw</td>\n",
       "      <td>0.601</td>\n",
       "    </tr>\n",
       "    <tr>\n",
       "      <th>4</th>\n",
       "      <td>b80344d063b5ccb3212f76538f3d9e43d87dca9e</td>\n",
       "      <td>SODACBL12A8C13C273</td>\n",
       "      <td>1</td>\n",
       "      <td>Learn To Fly</td>\n",
       "      <td>AR6XPWV1187B9ADAEB</td>\n",
       "      <td>Foo Fighters</td>\n",
       "      <td>DA</td>\n",
       "      <td>spotify:track:4tjBDR8r3kxBXxQPeRTQgu</td>\n",
       "      <td>[{u'track_href': u'https://api.spotify.com/v1/...</td>\n",
       "      <td>0.000016</td>\n",
       "      <td>...</td>\n",
       "      <td>0.256</td>\n",
       "      <td>-4.247</td>\n",
       "      <td>1.0</td>\n",
       "      <td>0.0450</td>\n",
       "      <td>135.994</td>\n",
       "      <td>4.0</td>\n",
       "      <td>https://api.spotify.com/v1/tracks/4tjBDR8r3kxB...</td>\n",
       "      <td>audio_features</td>\n",
       "      <td>spotify:track:4tjBDR8r3kxBXxQPeRTQgu</td>\n",
       "      <td>0.505</td>\n",
       "    </tr>\n",
       "  </tbody>\n",
       "</table>\n",
       "<p>5 rows × 27 columns</p>\n",
       "</div>"
      ],
      "text/plain": [
       "                                    user_id             song_id  play_count  \\\n",
       "0  b80344d063b5ccb3212f76538f3d9e43d87dca9e  SOAKIMP12A8C130995           1   \n",
       "1  b80344d063b5ccb3212f76538f3d9e43d87dca9e  SOBFOVM12A58A7D494           1   \n",
       "2  b80344d063b5ccb3212f76538f3d9e43d87dca9e  SOBVFZR12A6D4F8AE3           1   \n",
       "3  b80344d063b5ccb3212f76538f3d9e43d87dca9e  SOBXALG12A8C13C108           1   \n",
       "4  b80344d063b5ccb3212f76538f3d9e43d87dca9e  SODACBL12A8C13C273           1   \n",
       "\n",
       "                           song_title           artist_id      artist_name  \\\n",
       "0                            The Cove  ARC8CQZ1187B98DECA     Jack Johnson   \n",
       "1     Riot Radio (Soundtrack Version)  ARI4V0E1187B9B6FC2     The Dead 60s   \n",
       "2  Ears To The Ground (Album Version)  ARMS97V1187B99DD98       Josh Rouse   \n",
       "3          Food Chain (Album Version)  ARG3I891187FB3A391  Eric Hutchinson   \n",
       "4                        Learn To Fly  AR6XPWV1187B9ADAEB     Foo Fighters   \n",
       "\n",
       "  song_prefix                            spotify_id  \\\n",
       "0          AK  spotify:track:4nuY11Vo1Yd5xMHhLfDKe9   \n",
       "1          BF  spotify:track:2HPwuvT6HKngPSynOCi6Lb   \n",
       "2          BV  spotify:track:5WjXULJvSlMxuies9diz1Q   \n",
       "3          BX  spotify:track:1bqi9YEdZweX9H6JuSQ6Qw   \n",
       "4          DA  spotify:track:4tjBDR8r3kxBXxQPeRTQgu   \n",
       "\n",
       "                                       audio_feature  acousticness   ...     \\\n",
       "0  [{u'track_href': u'https://api.spotify.com/v1/...      0.656000   ...      \n",
       "1  [{u'track_href': u'https://api.spotify.com/v1/...      0.000111   ...      \n",
       "2  [{u'track_href': u'https://api.spotify.com/v1/...      0.172000   ...      \n",
       "3  [{u'track_href': u'https://api.spotify.com/v1/...      0.410000   ...      \n",
       "4  [{u'track_href': u'https://api.spotify.com/v1/...      0.000016   ...      \n",
       "\n",
       "  liveness  loudness  mode  speechiness    tempo  time_signature  \\\n",
       "0    0.128   -15.423   1.0       0.0445  123.685             4.0   \n",
       "1    0.101    -7.372   0.0       0.0293  143.948             4.0   \n",
       "2    0.119   -10.620   0.0       0.0314  123.195             4.0   \n",
       "3    0.106    -5.816   1.0       0.0500  112.492             4.0   \n",
       "4    0.256    -4.247   1.0       0.0450  135.994             4.0   \n",
       "\n",
       "                                          track_href            type  \\\n",
       "0  https://api.spotify.com/v1/tracks/4nuY11Vo1Yd5...  audio_features   \n",
       "1  https://api.spotify.com/v1/tracks/2HPwuvT6HKng...  audio_features   \n",
       "2  https://api.spotify.com/v1/tracks/5WjXULJvSlMx...  audio_features   \n",
       "3  https://api.spotify.com/v1/tracks/1bqi9YEdZweX...  audio_features   \n",
       "4  https://api.spotify.com/v1/tracks/4tjBDR8r3kxB...  audio_features   \n",
       "\n",
       "                                    uri  valence  \n",
       "0  spotify:track:4nuY11Vo1Yd5xMHhLfDKe9    0.387  \n",
       "1  spotify:track:2HPwuvT6HKngPSynOCi6Lb    0.839  \n",
       "2  spotify:track:5WjXULJvSlMxuies9diz1Q    0.417  \n",
       "3  spotify:track:1bqi9YEdZweX9H6JuSQ6Qw    0.601  \n",
       "4  spotify:track:4tjBDR8r3kxBXxQPeRTQgu    0.505  \n",
       "\n",
       "[5 rows x 27 columns]"
      ]
     },
     "execution_count": 22,
     "metadata": {},
     "output_type": "execute_result"
    }
   ],
   "source": [
    "df_audio.head()"
   ]
  },
  {
   "cell_type": "markdown",
   "metadata": {},
   "source": [
    "### Additional feature from Echonest"
   ]
  },
  {
   "cell_type": "code",
   "execution_count": 23,
   "metadata": {
    "collapsed": true
   },
   "outputs": [],
   "source": [
    "import sqlite3\n",
    "import os"
   ]
  },
  {
   "cell_type": "code",
   "execution_count": 24,
   "metadata": {
    "collapsed": true
   },
   "outputs": [],
   "source": [
    "# path to the Million Song Dataset track meta data\n",
    "track_meta_path='./data/track_metadata.db'"
   ]
  },
  {
   "cell_type": "code",
   "execution_count": 25,
   "metadata": {
    "collapsed": true
   },
   "outputs": [],
   "source": [
    "conn = sqlite3.connect(track_meta_path)"
   ]
  },
  {
   "cell_type": "code",
   "execution_count": 26,
   "metadata": {
    "collapsed": false
   },
   "outputs": [
    {
     "data": {
      "text/plain": [
       "[(u'CREATE TABLE songs (track_id text PRIMARY KEY, title text, song_id text, release text, artist_id text, artist_mbid text, artist_name text, duration real, artist_familiarity real, artist_hotttnesss real, year int, track_7digitalid int, shs_perf int, shs_work int)',)]"
      ]
     },
     "execution_count": 26,
     "metadata": {},
     "output_type": "execute_result"
    }
   ],
   "source": [
    "q = \"SELECT sql FROM sqlite_master WHERE tbl_name = 'songs' AND type = 'table'\"\n",
    "res = conn.execute(q)\n",
    "res.fetchall()"
   ]
  },
  {
   "cell_type": "markdown",
   "metadata": {},
   "source": [
    "Additional features we can add from the Echonest Millions song database metadata are:\n",
    "(those not currently available from Spotify API previously downloaded)\n",
    "1. release\n",
    "2. artist_familiarity\n",
    "3. artist_hotttnesss\n",
    "4. year"
   ]
  },
  {
   "cell_type": "code",
   "execution_count": 27,
   "metadata": {
    "collapsed": false
   },
   "outputs": [],
   "source": [
    "q = \"SELECT song_id, release, artist_familiarity, artist_hotttnesss, year FROM songs\"\n",
    "res = conn.execute(q)\n",
    "echonest_meta = res.fetchall()"
   ]
  },
  {
   "cell_type": "code",
   "execution_count": 28,
   "metadata": {
    "collapsed": false
   },
   "outputs": [],
   "source": [
    "df_meta = pd.DataFrame(echonest_meta, columns=['song_id','release','artist_familiarity','artist_hotttnesss','year'])"
   ]
  },
  {
   "cell_type": "code",
   "execution_count": 29,
   "metadata": {
    "collapsed": false
   },
   "outputs": [
    {
     "data": {
      "text/html": [
       "<div>\n",
       "<table border=\"1\" class=\"dataframe\">\n",
       "  <thead>\n",
       "    <tr style=\"text-align: right;\">\n",
       "      <th></th>\n",
       "      <th>song_id</th>\n",
       "      <th>release</th>\n",
       "      <th>artist_familiarity</th>\n",
       "      <th>artist_hotttnesss</th>\n",
       "      <th>year</th>\n",
       "    </tr>\n",
       "  </thead>\n",
       "  <tbody>\n",
       "    <tr>\n",
       "      <th>0</th>\n",
       "      <td>SOQMMHC12AB0180CB8</td>\n",
       "      <td>Monster Ballads X-Mas</td>\n",
       "      <td>0.649822</td>\n",
       "      <td>0.394032</td>\n",
       "      <td>2003</td>\n",
       "    </tr>\n",
       "    <tr>\n",
       "      <th>1</th>\n",
       "      <td>SOVFVAK12A8C1350D9</td>\n",
       "      <td>Karkuteillä</td>\n",
       "      <td>0.439604</td>\n",
       "      <td>0.356992</td>\n",
       "      <td>1995</td>\n",
       "    </tr>\n",
       "    <tr>\n",
       "      <th>2</th>\n",
       "      <td>SOGTUKN12AB017F4F1</td>\n",
       "      <td>Butter</td>\n",
       "      <td>0.643681</td>\n",
       "      <td>0.437504</td>\n",
       "      <td>2006</td>\n",
       "    </tr>\n",
       "    <tr>\n",
       "      <th>3</th>\n",
       "      <td>SOBNYVR12A8C13558C</td>\n",
       "      <td>De Culo</td>\n",
       "      <td>0.448501</td>\n",
       "      <td>0.372349</td>\n",
       "      <td>2003</td>\n",
       "    </tr>\n",
       "    <tr>\n",
       "      <th>4</th>\n",
       "      <td>SOHSBXH12A8C13B0DF</td>\n",
       "      <td>Rene Ablaze Presents Winter Sessions</td>\n",
       "      <td>0.000000</td>\n",
       "      <td>0.000000</td>\n",
       "      <td>0</td>\n",
       "    </tr>\n",
       "  </tbody>\n",
       "</table>\n",
       "</div>"
      ],
      "text/plain": [
       "              song_id                               release  \\\n",
       "0  SOQMMHC12AB0180CB8                 Monster Ballads X-Mas   \n",
       "1  SOVFVAK12A8C1350D9                           Karkuteillä   \n",
       "2  SOGTUKN12AB017F4F1                                Butter   \n",
       "3  SOBNYVR12A8C13558C                               De Culo   \n",
       "4  SOHSBXH12A8C13B0DF  Rene Ablaze Presents Winter Sessions   \n",
       "\n",
       "   artist_familiarity  artist_hotttnesss  year  \n",
       "0            0.649822           0.394032  2003  \n",
       "1            0.439604           0.356992  1995  \n",
       "2            0.643681           0.437504  2006  \n",
       "3            0.448501           0.372349  2003  \n",
       "4            0.000000           0.000000     0  "
      ]
     },
     "execution_count": 29,
     "metadata": {},
     "output_type": "execute_result"
    }
   ],
   "source": [
    "df_meta.head()"
   ]
  },
  {
   "cell_type": "markdown",
   "metadata": {},
   "source": [
    "### Merge Echonest meta data"
   ]
  },
  {
   "cell_type": "code",
   "execution_count": 30,
   "metadata": {
    "collapsed": true
   },
   "outputs": [],
   "source": [
    "df_songs = pd.merge(df_audio, df_meta, how='left', on=['song_id'])"
   ]
  },
  {
   "cell_type": "code",
   "execution_count": 31,
   "metadata": {
    "collapsed": false
   },
   "outputs": [
    {
     "data": {
      "text/plain": [
       "((183204, 31), (182076, 27), (1000000, 5))"
      ]
     },
     "execution_count": 31,
     "metadata": {},
     "output_type": "execute_result"
    }
   ],
   "source": [
    "df_songs.shape, df_audio.shape, df_meta.shape"
   ]
  },
  {
   "cell_type": "code",
   "execution_count": 32,
   "metadata": {
    "collapsed": false
   },
   "outputs": [
    {
     "data": {
      "text/html": [
       "<div>\n",
       "<table border=\"1\" class=\"dataframe\">\n",
       "  <thead>\n",
       "    <tr style=\"text-align: right;\">\n",
       "      <th></th>\n",
       "      <th>user_id</th>\n",
       "      <th>song_id</th>\n",
       "      <th>play_count</th>\n",
       "      <th>song_title</th>\n",
       "      <th>artist_id</th>\n",
       "      <th>artist_name</th>\n",
       "      <th>song_prefix</th>\n",
       "      <th>spotify_id</th>\n",
       "      <th>audio_feature</th>\n",
       "      <th>acousticness</th>\n",
       "      <th>...</th>\n",
       "      <th>tempo</th>\n",
       "      <th>time_signature</th>\n",
       "      <th>track_href</th>\n",
       "      <th>type</th>\n",
       "      <th>uri</th>\n",
       "      <th>valence</th>\n",
       "      <th>release</th>\n",
       "      <th>artist_familiarity</th>\n",
       "      <th>artist_hotttnesss</th>\n",
       "      <th>year</th>\n",
       "    </tr>\n",
       "  </thead>\n",
       "  <tbody>\n",
       "    <tr>\n",
       "      <th>0</th>\n",
       "      <td>b80344d063b5ccb3212f76538f3d9e43d87dca9e</td>\n",
       "      <td>SOAKIMP12A8C130995</td>\n",
       "      <td>1</td>\n",
       "      <td>The Cove</td>\n",
       "      <td>ARC8CQZ1187B98DECA</td>\n",
       "      <td>Jack Johnson</td>\n",
       "      <td>AK</td>\n",
       "      <td>spotify:track:4nuY11Vo1Yd5xMHhLfDKe9</td>\n",
       "      <td>[{u'track_href': u'https://api.spotify.com/v1/...</td>\n",
       "      <td>0.656000</td>\n",
       "      <td>...</td>\n",
       "      <td>123.685</td>\n",
       "      <td>4.0</td>\n",
       "      <td>https://api.spotify.com/v1/tracks/4nuY11Vo1Yd5...</td>\n",
       "      <td>audio_features</td>\n",
       "      <td>spotify:track:4nuY11Vo1Yd5xMHhLfDKe9</td>\n",
       "      <td>0.387</td>\n",
       "      <td>Thicker Than Water</td>\n",
       "      <td>0.832012</td>\n",
       "      <td>0.677482</td>\n",
       "      <td>0</td>\n",
       "    </tr>\n",
       "    <tr>\n",
       "      <th>1</th>\n",
       "      <td>b80344d063b5ccb3212f76538f3d9e43d87dca9e</td>\n",
       "      <td>SOBFOVM12A58A7D494</td>\n",
       "      <td>1</td>\n",
       "      <td>Riot Radio (Soundtrack Version)</td>\n",
       "      <td>ARI4V0E1187B9B6FC2</td>\n",
       "      <td>The Dead 60s</td>\n",
       "      <td>BF</td>\n",
       "      <td>spotify:track:2HPwuvT6HKngPSynOCi6Lb</td>\n",
       "      <td>[{u'track_href': u'https://api.spotify.com/v1/...</td>\n",
       "      <td>0.000111</td>\n",
       "      <td>...</td>\n",
       "      <td>143.948</td>\n",
       "      <td>4.0</td>\n",
       "      <td>https://api.spotify.com/v1/tracks/2HPwuvT6HKng...</td>\n",
       "      <td>audio_features</td>\n",
       "      <td>spotify:track:2HPwuvT6HKngPSynOCi6Lb</td>\n",
       "      <td>0.839</td>\n",
       "      <td>Nick &amp; Norah's Infinite Playlist - Original Mo...</td>\n",
       "      <td>0.650281</td>\n",
       "      <td>0.451749</td>\n",
       "      <td>0</td>\n",
       "    </tr>\n",
       "    <tr>\n",
       "      <th>2</th>\n",
       "      <td>b80344d063b5ccb3212f76538f3d9e43d87dca9e</td>\n",
       "      <td>SOBVFZR12A6D4F8AE3</td>\n",
       "      <td>1</td>\n",
       "      <td>Ears To The Ground (Album Version)</td>\n",
       "      <td>ARMS97V1187B99DD98</td>\n",
       "      <td>Josh Rouse</td>\n",
       "      <td>BV</td>\n",
       "      <td>spotify:track:5WjXULJvSlMxuies9diz1Q</td>\n",
       "      <td>[{u'track_href': u'https://api.spotify.com/v1/...</td>\n",
       "      <td>0.172000</td>\n",
       "      <td>...</td>\n",
       "      <td>123.195</td>\n",
       "      <td>4.0</td>\n",
       "      <td>https://api.spotify.com/v1/tracks/5WjXULJvSlMx...</td>\n",
       "      <td>audio_features</td>\n",
       "      <td>spotify:track:5WjXULJvSlMxuies9diz1Q</td>\n",
       "      <td>0.417</td>\n",
       "      <td>Under Cold Blue Stars</td>\n",
       "      <td>0.675339</td>\n",
       "      <td>0.499641</td>\n",
       "      <td>2002</td>\n",
       "    </tr>\n",
       "    <tr>\n",
       "      <th>3</th>\n",
       "      <td>b80344d063b5ccb3212f76538f3d9e43d87dca9e</td>\n",
       "      <td>SOBXALG12A8C13C108</td>\n",
       "      <td>1</td>\n",
       "      <td>Food Chain (Album Version)</td>\n",
       "      <td>ARG3I891187FB3A391</td>\n",
       "      <td>Eric Hutchinson</td>\n",
       "      <td>BX</td>\n",
       "      <td>spotify:track:1bqi9YEdZweX9H6JuSQ6Qw</td>\n",
       "      <td>[{u'track_href': u'https://api.spotify.com/v1/...</td>\n",
       "      <td>0.410000</td>\n",
       "      <td>...</td>\n",
       "      <td>112.492</td>\n",
       "      <td>4.0</td>\n",
       "      <td>https://api.spotify.com/v1/tracks/1bqi9YEdZweX...</td>\n",
       "      <td>audio_features</td>\n",
       "      <td>spotify:track:1bqi9YEdZweX9H6JuSQ6Qw</td>\n",
       "      <td>0.601</td>\n",
       "      <td>Sounds Like This</td>\n",
       "      <td>0.806208</td>\n",
       "      <td>0.498077</td>\n",
       "      <td>2008</td>\n",
       "    </tr>\n",
       "    <tr>\n",
       "      <th>4</th>\n",
       "      <td>b80344d063b5ccb3212f76538f3d9e43d87dca9e</td>\n",
       "      <td>SODACBL12A8C13C273</td>\n",
       "      <td>1</td>\n",
       "      <td>Learn To Fly</td>\n",
       "      <td>AR6XPWV1187B9ADAEB</td>\n",
       "      <td>Foo Fighters</td>\n",
       "      <td>DA</td>\n",
       "      <td>spotify:track:4tjBDR8r3kxBXxQPeRTQgu</td>\n",
       "      <td>[{u'track_href': u'https://api.spotify.com/v1/...</td>\n",
       "      <td>0.000016</td>\n",
       "      <td>...</td>\n",
       "      <td>135.994</td>\n",
       "      <td>4.0</td>\n",
       "      <td>https://api.spotify.com/v1/tracks/4tjBDR8r3kxB...</td>\n",
       "      <td>audio_features</td>\n",
       "      <td>spotify:track:4tjBDR8r3kxBXxQPeRTQgu</td>\n",
       "      <td>0.505</td>\n",
       "      <td>There Is Nothing Left To Lose</td>\n",
       "      <td>0.839275</td>\n",
       "      <td>0.550762</td>\n",
       "      <td>1999</td>\n",
       "    </tr>\n",
       "  </tbody>\n",
       "</table>\n",
       "<p>5 rows × 31 columns</p>\n",
       "</div>"
      ],
      "text/plain": [
       "                                    user_id             song_id  play_count  \\\n",
       "0  b80344d063b5ccb3212f76538f3d9e43d87dca9e  SOAKIMP12A8C130995           1   \n",
       "1  b80344d063b5ccb3212f76538f3d9e43d87dca9e  SOBFOVM12A58A7D494           1   \n",
       "2  b80344d063b5ccb3212f76538f3d9e43d87dca9e  SOBVFZR12A6D4F8AE3           1   \n",
       "3  b80344d063b5ccb3212f76538f3d9e43d87dca9e  SOBXALG12A8C13C108           1   \n",
       "4  b80344d063b5ccb3212f76538f3d9e43d87dca9e  SODACBL12A8C13C273           1   \n",
       "\n",
       "                           song_title           artist_id      artist_name  \\\n",
       "0                            The Cove  ARC8CQZ1187B98DECA     Jack Johnson   \n",
       "1     Riot Radio (Soundtrack Version)  ARI4V0E1187B9B6FC2     The Dead 60s   \n",
       "2  Ears To The Ground (Album Version)  ARMS97V1187B99DD98       Josh Rouse   \n",
       "3          Food Chain (Album Version)  ARG3I891187FB3A391  Eric Hutchinson   \n",
       "4                        Learn To Fly  AR6XPWV1187B9ADAEB     Foo Fighters   \n",
       "\n",
       "  song_prefix                            spotify_id  \\\n",
       "0          AK  spotify:track:4nuY11Vo1Yd5xMHhLfDKe9   \n",
       "1          BF  spotify:track:2HPwuvT6HKngPSynOCi6Lb   \n",
       "2          BV  spotify:track:5WjXULJvSlMxuies9diz1Q   \n",
       "3          BX  spotify:track:1bqi9YEdZweX9H6JuSQ6Qw   \n",
       "4          DA  spotify:track:4tjBDR8r3kxBXxQPeRTQgu   \n",
       "\n",
       "                                       audio_feature  acousticness  ...   \\\n",
       "0  [{u'track_href': u'https://api.spotify.com/v1/...      0.656000  ...    \n",
       "1  [{u'track_href': u'https://api.spotify.com/v1/...      0.000111  ...    \n",
       "2  [{u'track_href': u'https://api.spotify.com/v1/...      0.172000  ...    \n",
       "3  [{u'track_href': u'https://api.spotify.com/v1/...      0.410000  ...    \n",
       "4  [{u'track_href': u'https://api.spotify.com/v1/...      0.000016  ...    \n",
       "\n",
       "     tempo  time_signature                                         track_href  \\\n",
       "0  123.685             4.0  https://api.spotify.com/v1/tracks/4nuY11Vo1Yd5...   \n",
       "1  143.948             4.0  https://api.spotify.com/v1/tracks/2HPwuvT6HKng...   \n",
       "2  123.195             4.0  https://api.spotify.com/v1/tracks/5WjXULJvSlMx...   \n",
       "3  112.492             4.0  https://api.spotify.com/v1/tracks/1bqi9YEdZweX...   \n",
       "4  135.994             4.0  https://api.spotify.com/v1/tracks/4tjBDR8r3kxB...   \n",
       "\n",
       "             type                                   uri  valence  \\\n",
       "0  audio_features  spotify:track:4nuY11Vo1Yd5xMHhLfDKe9    0.387   \n",
       "1  audio_features  spotify:track:2HPwuvT6HKngPSynOCi6Lb    0.839   \n",
       "2  audio_features  spotify:track:5WjXULJvSlMxuies9diz1Q    0.417   \n",
       "3  audio_features  spotify:track:1bqi9YEdZweX9H6JuSQ6Qw    0.601   \n",
       "4  audio_features  spotify:track:4tjBDR8r3kxBXxQPeRTQgu    0.505   \n",
       "\n",
       "                                             release  artist_familiarity  \\\n",
       "0                                 Thicker Than Water            0.832012   \n",
       "1  Nick & Norah's Infinite Playlist - Original Mo...            0.650281   \n",
       "2                              Under Cold Blue Stars            0.675339   \n",
       "3                                   Sounds Like This            0.806208   \n",
       "4                      There Is Nothing Left To Lose            0.839275   \n",
       "\n",
       "   artist_hotttnesss  year  \n",
       "0           0.677482     0  \n",
       "1           0.451749     0  \n",
       "2           0.499641  2002  \n",
       "3           0.498077  2008  \n",
       "4           0.550762  1999  \n",
       "\n",
       "[5 rows x 31 columns]"
      ]
     },
     "execution_count": 32,
     "metadata": {},
     "output_type": "execute_result"
    }
   ],
   "source": [
    "df_songs.head()"
   ]
  },
  {
   "cell_type": "markdown",
   "metadata": {},
   "source": [
    "### Exploratory Analysis"
   ]
  },
  {
   "cell_type": "code",
   "execution_count": 33,
   "metadata": {
    "collapsed": false
   },
   "outputs": [
    {
     "data": {
      "text/plain": [
       "Index([           u'user_id',            u'song_id',         u'play_count',\n",
       "               u'song_title',          u'artist_id',        u'artist_name',\n",
       "              u'song_prefix',         u'spotify_id',      u'audio_feature',\n",
       "             u'acousticness',       u'analysis_url',       u'danceability',\n",
       "              u'duration_ms',             u'energy',                 u'id',\n",
       "         u'instrumentalness',                u'key',           u'liveness',\n",
       "                 u'loudness',               u'mode',        u'speechiness',\n",
       "                    u'tempo',     u'time_signature',         u'track_href',\n",
       "                     u'type',                u'uri',            u'valence',\n",
       "                  u'release', u'artist_familiarity',  u'artist_hotttnesss',\n",
       "                     u'year'],\n",
       "      dtype='object')"
      ]
     },
     "execution_count": 33,
     "metadata": {},
     "output_type": "execute_result"
    }
   ],
   "source": [
    "df_songs.columns"
   ]
  },
  {
   "cell_type": "code",
   "execution_count": 34,
   "metadata": {
    "collapsed": true
   },
   "outputs": [],
   "source": [
    "num_features = ['acousticness','danceability','duration_ms','energy','instrumentalness','liveness', \\\n",
    "                'loudness','speechiness','tempo','time_signature','valence','artist_familiarity', \\\n",
    "                'artist_hotttnesss']\n",
    "cat_features = ['key','mode','year']"
   ]
  },
  {
   "cell_type": "code",
   "execution_count": 35,
   "metadata": {
    "collapsed": false
   },
   "outputs": [
    {
     "name": "stdout",
     "output_type": "stream",
     "text": [
      "        acousticness   danceability   duration_ms         energy  \\\n",
      "count  183203.000000  183161.000000  1.832040e+05  183203.000000   \n",
      "mean        0.277152       0.526918  2.401994e+05       0.638811   \n",
      "std         0.322849       0.176007  1.004854e+05       0.254961   \n",
      "min         0.000000       0.055500  4.037000e+03       0.000020   \n",
      "25%         0.006950       0.403000  1.844930e+05       0.455000   \n",
      "50%         0.112000       0.533000  2.283070e+05       0.680000   \n",
      "75%         0.519000       0.656000  2.784000e+05       0.860000   \n",
      "max         0.996000       0.997000  3.035280e+06       1.000000   \n",
      "\n",
      "       instrumentalness       liveness       loudness    speechiness  \\\n",
      "count     183203.000000  183202.000000  183204.000000  183161.000000   \n",
      "mean           0.186597       0.215107      -9.047922       0.084492   \n",
      "std            0.318713       0.191067       4.709803       0.111716   \n",
      "min            0.000000       0.008580     -54.909000       0.021900   \n",
      "25%            0.000002       0.096500     -11.371000       0.034200   \n",
      "50%            0.000910       0.134000      -8.015000       0.045900   \n",
      "75%            0.224000       0.281000      -5.685000       0.080200   \n",
      "max            0.999000       1.000000       4.923000       0.968000   \n",
      "\n",
      "               tempo  time_signature        valence  artist_familiarity  \\\n",
      "count  183204.000000   183159.000000  183160.000000       183204.000000   \n",
      "mean      121.516281        3.891471       0.493084            0.606776   \n",
      "std        29.789112        0.427241       0.260579            0.124644   \n",
      "min         0.000000        1.000000       0.000327           -1.000000   \n",
      "25%        98.067750        4.000000       0.278000            0.530708   \n",
      "50%       120.000000        4.000000       0.491000            0.606180   \n",
      "75%       139.976000        4.000000       0.706000            0.684866   \n",
      "max       246.830000        5.000000       1.000000            1.000000   \n",
      "\n",
      "       artist_hotttnesss  \n",
      "count      183204.000000  \n",
      "mean            0.420608  \n",
      "std             0.108342  \n",
      "min             0.000000  \n",
      "25%             0.370007  \n",
      "50%             0.416745  \n",
      "75%             0.474472  \n",
      "max             1.082503  \n"
     ]
    }
   ],
   "source": [
    "print df_songs[num_features].describe()"
   ]
  },
  {
   "cell_type": "code",
   "execution_count": 36,
   "metadata": {
    "collapsed": false
   },
   "outputs": [
    {
     "name": "stdout",
     "output_type": "stream",
     "text": [
      "7.0     23794\n",
      "2.0     22016\n",
      "9.0     21936\n",
      "0.0     21729\n",
      "4.0     15776\n",
      "1.0     14732\n",
      "11.0    14076\n",
      "5.0     13501\n",
      "10.0    10990\n",
      "6.0     10420\n",
      "8.0      9546\n",
      "3.0      4687\n",
      "Name: key, dtype: int64\n",
      "1.0    122367\n",
      "0.0     60836\n",
      "Name: mode, dtype: int64\n",
      "0       56719\n",
      "2007    11250\n",
      "2006    10102\n",
      "2008     9820\n",
      "2005     9577\n",
      "2009     9239\n",
      "2004     7702\n",
      "2003     7361\n",
      "2002     5973\n",
      "2001     5428\n",
      "2000     4703\n",
      "1999     4442\n",
      "1998     3677\n",
      "1997     3589\n",
      "1996     3286\n",
      "2010     3152\n",
      "1995     2994\n",
      "1994     2695\n",
      "1993     2324\n",
      "1992     2101\n",
      "1991     1690\n",
      "1990     1530\n",
      "1989     1413\n",
      "1988     1153\n",
      "1987      979\n",
      "1986      904\n",
      "1985      751\n",
      "1982      692\n",
      "1983      656\n",
      "1984      643\n",
      "        ...  \n",
      "1963       83\n",
      "1958       42\n",
      "1962       40\n",
      "1961       34\n",
      "1960       28\n",
      "1959       26\n",
      "1957       15\n",
      "1956       13\n",
      "1952        4\n",
      "1949        3\n",
      "1929        3\n",
      "1953        3\n",
      "1955        3\n",
      "1950        2\n",
      "1954        2\n",
      "1937        2\n",
      "1928        2\n",
      "1930        1\n",
      "1922        1\n",
      "1925        1\n",
      "1926        1\n",
      "1927        1\n",
      "1935        1\n",
      "1947        1\n",
      "1936        1\n",
      "1940        1\n",
      "1941        1\n",
      "1943        1\n",
      "1946        1\n",
      "1945        1\n",
      "Name: year, dtype: int64\n"
     ]
    }
   ],
   "source": [
    "for cat in cat_features:\n",
    "    print df_songs[cat].value_counts()"
   ]
  },
  {
   "cell_type": "markdown",
   "metadata": {},
   "source": [
    "### Questions:\n",
    "1. Audio feature over time: how songs change over time\n",
    "2. KNN, K-Means + Visualization"
   ]
  },
  {
   "cell_type": "code",
   "execution_count": 37,
   "metadata": {
    "collapsed": true
   },
   "outputs": [],
   "source": [
    "import matplotlib.pyplot as plt\n",
    "%matplotlib inline\n",
    "import seaborn as sns"
   ]
  },
  {
   "cell_type": "code",
   "execution_count": null,
   "metadata": {
    "collapsed": false
   },
   "outputs": [],
   "source": [
    "df_songs[cat_features].head()"
   ]
  },
  {
   "cell_type": "markdown",
   "metadata": {},
   "source": [
    "#### Relationship between acousticeness and danceability"
   ]
  },
  {
   "cell_type": "code",
   "execution_count": null,
   "metadata": {
    "collapsed": false
   },
   "outputs": [],
   "source": [
    "sns.regplot(x=\"acousticness\", y=\"danceability\", data=df_songs)"
   ]
  },
  {
   "cell_type": "markdown",
   "metadata": {},
   "source": [
    "#### Relationship between acousticeness and energy"
   ]
  },
  {
   "cell_type": "code",
   "execution_count": null,
   "metadata": {
    "collapsed": true
   },
   "outputs": [],
   "source": [
    "df_songs['acousticness_percent'] = df_songs['acousticness'] * 100\n",
    "df_songs['energy_percent'] = df_songs['energy'] * 100.0"
   ]
  },
  {
   "cell_type": "code",
   "execution_count": null,
   "metadata": {
    "collapsed": false
   },
   "outputs": [],
   "source": [
    "sns.regplot(x=\"acousticness_percent\", y=\"energy_percent\", data=df_songs)"
   ]
  },
  {
   "cell_type": "code",
   "execution_count": null,
   "metadata": {
    "collapsed": true
   },
   "outputs": [],
   "source": [
    "#cat_dummy = pd.get_dummies(df_songs[['key','mode']])"
   ]
  },
  {
   "cell_type": "code",
   "execution_count": null,
   "metadata": {
    "collapsed": false
   },
   "outputs": [],
   "source": [
    "#cat_dummy.shape"
   ]
  },
  {
   "cell_type": "code",
   "execution_count": null,
   "metadata": {
    "collapsed": false
   },
   "outputs": [],
   "source": [
    "#cat_dummy.head()"
   ]
  },
  {
   "cell_type": "code",
   "execution_count": null,
   "metadata": {
    "collapsed": false
   },
   "outputs": [],
   "source": [
    "#train_songs = pd.merge(df_songs[num_features], cat_dummy, how='inner', left_index=True, right_index=True)"
   ]
  },
  {
   "cell_type": "code",
   "execution_count": null,
   "metadata": {
    "collapsed": false
   },
   "outputs": [],
   "source": [
    "df_songs[num_features].isnull().sum()"
   ]
  },
  {
   "cell_type": "markdown",
   "metadata": {},
   "source": [
    "### K-Means clustering"
   ]
  },
  {
   "cell_type": "code",
   "execution_count": 38,
   "metadata": {
    "collapsed": true
   },
   "outputs": [],
   "source": [
    "from sklearn.cluster import KMeans"
   ]
  },
  {
   "cell_type": "code",
   "execution_count": 39,
   "metadata": {
    "collapsed": true
   },
   "outputs": [],
   "source": [
    "from sklearn.metrics import silhouette_score"
   ]
  },
  {
   "cell_type": "code",
   "execution_count": 40,
   "metadata": {
    "collapsed": false
   },
   "outputs": [],
   "source": [
    "X = df_songs[num_features].fillna(0.)\n",
    "kmeans = KMeans(n_clusters=3, random_state=0).fit(X)"
   ]
  },
  {
   "cell_type": "code",
   "execution_count": 42,
   "metadata": {
    "collapsed": false
   },
   "outputs": [
    {
     "data": {
      "text/plain": [
       "((183204, 13), (183204,))"
      ]
     },
     "execution_count": 42,
     "metadata": {},
     "output_type": "execute_result"
    }
   ],
   "source": [
    "X.shape, kmeans.labels_.shape"
   ]
  },
  {
   "cell_type": "code",
   "execution_count": null,
   "metadata": {
    "collapsed": false
   },
   "outputs": [],
   "source": [
    "cluster_labels = kmeans.labels_\n",
    "\n",
    "silhouette_avg = silhouette_score(X, cluster_labels, metric='euclidean')\n",
    "print(\"For n_clusters =\", 3,\n",
    "        \"The average silhouette_score is :\", silhouette_avg)"
   ]
  },
  {
   "cell_type": "code",
   "execution_count": null,
   "metadata": {
    "collapsed": false
   },
   "outputs": [],
   "source": [
    "kmeans.labels_.shape"
   ]
  },
  {
   "cell_type": "code",
   "execution_count": null,
   "metadata": {
    "collapsed": false
   },
   "outputs": [],
   "source": [
    "np.bincount(kmeans.labels_)"
   ]
  },
  {
   "cell_type": "code",
   "execution_count": null,
   "metadata": {
    "collapsed": false
   },
   "outputs": [],
   "source": [
    "kmeans.cluster_centers_"
   ]
  },
  {
   "cell_type": "code",
   "execution_count": null,
   "metadata": {
    "collapsed": false
   },
   "outputs": [],
   "source": [
    "df_songs.shape, kmeans.labels_.shape"
   ]
  },
  {
   "cell_type": "code",
   "execution_count": null,
   "metadata": {
    "collapsed": true
   },
   "outputs": [],
   "source": [
    "df_songs['cluster'] = kmeans.labels_"
   ]
  },
  {
   "cell_type": "code",
   "execution_count": null,
   "metadata": {
    "collapsed": false
   },
   "outputs": [],
   "source": [
    "sns.lmplot(x=\"acousticness\", y=\"energy\", hue=\"cluster\", data=df_songs)"
   ]
  },
  {
   "cell_type": "code",
   "execution_count": null,
   "metadata": {
    "collapsed": false
   },
   "outputs": [],
   "source": [
    "df_songs[df_songs['cluster']==3].head()"
   ]
  },
  {
   "cell_type": "code",
   "execution_count": null,
   "metadata": {
    "collapsed": false
   },
   "outputs": [],
   "source": [
    "sns.lmplot(x=\"acousticness\", y=\"danceability\", hue=\"cluster\", data=df_songs)"
   ]
  },
  {
   "cell_type": "markdown",
   "metadata": {},
   "source": [
    "### Find number of K clusters using Silhouette score"
   ]
  },
  {
   "cell_type": "code",
   "execution_count": null,
   "metadata": {
    "collapsed": true
   },
   "outputs": [],
   "source": [
    "from sklearn.metrics import silhouette_score\n",
    "\n",
    "#The silhouette_score gives the average value for all the samples.\n",
    "# This gives a perspective into the density and separation of the formed\n",
    "# clusters\n",
    "#\n",
    "#    silhouette_avg = silhouette_score(X, cluster_labels)\n",
    "#    print(\"For n_clusters =\", n_clusters,\n",
    "#          \"The average silhouette_score is :\", silhouette_avg)"
   ]
  },
  {
   "cell_type": "code",
   "execution_count": null,
   "metadata": {
    "collapsed": false
   },
   "outputs": [],
   "source": [
    "range_n_clusters = [2,3,4,5,6]\n",
    "for n_cluster in range_n_clusters:\n",
    "    kmeans = KMeans(n_clusters=n_cluster, random_state=0)\n",
    "    cluster_labels = kmeans.fit_predict(X)\n",
    "\n",
    "    # The silhouette_score gives the average value for all the samples.\n",
    "    # This gives a perspective into the density and separation of the formed\n",
    "    # clusters\n",
    "    silhouette_avg = silhouette_score(X, cluster_labels)\n",
    "    print(\"For n_clusters =\", n_clusters,\n",
    "          \"The average silhouette_score is :\", silhouette_avg)"
   ]
  },
  {
   "cell_type": "code",
   "execution_count": null,
   "metadata": {
    "collapsed": true
   },
   "outputs": [],
   "source": []
  }
 ],
 "metadata": {
  "kernelspec": {
   "display_name": "Python 2",
   "language": "python",
   "name": "python2"
  },
  "language_info": {
   "codemirror_mode": {
    "name": "ipython",
    "version": 2
   },
   "file_extension": ".py",
   "mimetype": "text/x-python",
   "name": "python",
   "nbconvert_exporter": "python",
   "pygments_lexer": "ipython2",
   "version": "2.7.10"
  }
 },
 "nbformat": 4,
 "nbformat_minor": 0
}

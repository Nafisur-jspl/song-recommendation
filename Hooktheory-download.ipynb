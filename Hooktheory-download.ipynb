{
 "cells": [
  {
   "cell_type": "code",
   "execution_count": null,
   "metadata": {
    "collapsed": true
   },
   "outputs": [],
   "source": [
    "import os"
   ]
  },
  {
   "cell_type": "code",
   "execution_count": null,
   "metadata": {
    "collapsed": true
   },
   "outputs": [],
   "source": [
    "#os.environ['PATH']='/Users/sommy/repos/song-recommendation'\n",
    "os.environ['PATH']='/home/ahualchareonthon/repos/song-recommendation'"
   ]
  },
  {
   "cell_type": "code",
   "execution_count": null,
   "metadata": {
    "collapsed": true
   },
   "outputs": [],
   "source": [
    "# I → V → vi → IV\n",
    "https://www.hooktheory.com/theorytab/common-chord-progressions/1\n",
    "https://www.hooktheory.com/theorytab/common-chord-progressions/1?page=2\n",
    "https://www.hooktheory.com/theorytab/common-chord-progressions/1?page=3\n",
    "https://www.hooktheory.com/theorytab/common-chord-progressions/1?page=4\n",
    "https://www.hooktheory.com/theorytab/common-chord-progressions/1?page=5\n",
    "\n",
    "# I → V → vi → iii\n",
    "https://www.hooktheory.com/theorytab/common-chord-progressions/3\n",
    "    \n",
    "# vi → V → IV → V\n",
    "https://www.hooktheory.com/theorytab/common-chord-progressions/4\n",
    "https://www.hooktheory.com/theorytab/common-chord-progressions/4?page=2\n",
    "https://www.hooktheory.com/theorytab/common-chord-progressions/4?page=3\n",
    "\n",
    "#I → vi → IV → V\n",
    "https://www.hooktheory.com/theorytab/common-chord-progressions/5\n",
    "https://www.hooktheory.com/theorytab/common-chord-progressions/5?page=2\n",
    "\n",
    "# I → IV → vi → V\n",
    "https://www.hooktheory.com/theorytab/common-chord-progressions/6\n",
    "https://www.hooktheory.com/theorytab/common-chord-progressions/6?page=2\n",
    "    \n",
    "# I → V → IV → V\n",
    "https://www.hooktheory.com/theorytab/common-chord-progressions/7\n",
    "https://www.hooktheory.com/theorytab/common-chord-progressions/7?page=2\n",
    "    \n",
    "# I64 → V\n",
    "https://www.hooktheory.com/theorytab/common-chord-progressions/21\n",
    "https://www.hooktheory.com/theorytab/common-chord-progressions/21?page=2\n",
    "\n",
    "# I → V6 → vi\n",
    "https://www.hooktheory.com/theorytab/common-chord-progressions/22\n",
    "https://www.hooktheory.com/theorytab/common-chord-progressions/22?page=2\n",
    "https://www.hooktheory.com/theorytab/common-chord-progressions/22?page=3\n",
    "    \n",
    "# I → ii7 → I6\n",
    "https://www.hooktheory.com/theorytab/common-chord-progressions/23\n",
    "    \n",
    "# I → iii64 → vi\n",
    "https://www.hooktheory.com/theorytab/common-chord-progressions/24\n",
    "    \n",
    "# IV → I6 → V\n",
    "https://www.hooktheory.com/theorytab/common-chord-progressions/25\n",
    "\n",
    "# IV → I6 → ii\n",
    "https://www.hooktheory.com/theorytab/common-chord-progressions/26\n",
    "    \n",
    "# V → V6/vi → vi\n",
    "https://www.hooktheory.com/theorytab/common-chord-progressions/30\n",
    "\n",
    "# I → V/vi\n",
    "https://www.hooktheory.com/theorytab/common-chord-progressions/31\n",
    "\n",
    "# vi → vi42 → IV\n",
    "https://www.hooktheory.com/theorytab/common-chord-progressions/32\n",
    "\n",
    "# V7/IV → IV\n",
    "https://www.hooktheory.com/theorytab/common-chord-progressions/33\n",
    "    \n",
    "# vii°/vi → vi\n",
    "https://www.hooktheory.com/theorytab/common-chord-progressions/35\n",
    "https://www.hooktheory.com/theorytab/common-chord-progressions/35?page=2\n",
    "\n",
    "# IV → iv → I\n",
    "https://www.hooktheory.com/theorytab/common-chord-progressions/41\n",
    "\n",
    "# ♭VII → IV → I\n",
    "https://www.hooktheory.com/theorytab/common-chord-progressions/42\n",
    "\n",
    "# ♭VI → V\n",
    "https://www.hooktheory.com/theorytab/common-chord-progressions/44\n",
    "\n",
    "#♭VII → I\n",
    "https://www.hooktheory.com/theorytab/common-chord-progressions/45\n",
    "https://www.hooktheory.com/theorytab/common-chord-progressions/45?page=2\n",
    "https://www.hooktheory.com/theorytab/common-chord-progressions/45?page=3"
   ]
  },
  {
   "cell_type": "code",
   "execution_count": null,
   "metadata": {
    "collapsed": false
   },
   "outputs": [],
   "source": [
    "from selenium import webdriver"
   ]
  },
  {
   "cell_type": "code",
   "execution_count": null,
   "metadata": {
    "collapsed": false
   },
   "outputs": [],
   "source": [
    "driver = webdriver.Chrome()\n",
    "driver.get(\"https://www.hooktheory.com/theorytab/common-chord-progressions/1\")\n",
    "\n",
    "#results = driver.find_elements_by_xpath('//div[@class=\"meta\"]')\n",
    "songs = driver.find_elements_by_xpath('//span[@class=\"span-song\"]')\n",
    "artists = driver.find_elements_by_xpath('//span[@class=\"span-artist\"]')\n",
    "print len(songs), len(artists)"
   ]
  },
  {
   "cell_type": "code",
   "execution_count": null,
   "metadata": {
    "collapsed": false
   },
   "outputs": [],
   "source": [
    "for i in range(len(songs)):\n",
    "    print songs[i].text, artists[i].text"
   ]
  },
  {
   "cell_type": "code",
   "execution_count": null,
   "metadata": {
    "collapsed": true
   },
   "outputs": [],
   "source": [
    "driver.quit()"
   ]
  },
  {
   "cell_type": "code",
   "execution_count": null,
   "metadata": {
    "collapsed": true
   },
   "outputs": [],
   "source": []
  }
 ],
 "metadata": {
  "kernelspec": {
   "display_name": "Python 2",
   "language": "python",
   "name": "python2"
  },
  "language_info": {
   "codemirror_mode": {
    "name": "ipython",
    "version": 2
   },
   "file_extension": ".py",
   "mimetype": "text/x-python",
   "name": "python",
   "nbconvert_exporter": "python",
   "pygments_lexer": "ipython2",
   "version": "2.7.10"
  }
 },
 "nbformat": 4,
 "nbformat_minor": 0
}

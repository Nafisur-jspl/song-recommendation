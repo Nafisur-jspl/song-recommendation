{
 "cells": [
  {
   "cell_type": "code",
   "execution_count": 1,
   "metadata": {
    "collapsed": true
   },
   "outputs": [],
   "source": [
    "import os"
   ]
  },
  {
   "cell_type": "code",
   "execution_count": 2,
   "metadata": {
    "collapsed": true
   },
   "outputs": [],
   "source": [
    "os.environ['PATH']='/Users/sommy/repos/song-recommendation'\n",
    "#os.environ['PATH']='/home/ahualchareonthon/repos/song-recommendation'"
   ]
  },
  {
   "cell_type": "code",
   "execution_count": null,
   "metadata": {
    "collapsed": true
   },
   "outputs": [],
   "source": [
    "# I → V → vi → IV\n",
    "https://www.hooktheory.com/theorytab/common-chord-progressions/1\n",
    "https://www.hooktheory.com/theorytab/common-chord-progressions/1?page=2\n",
    "https://www.hooktheory.com/theorytab/common-chord-progressions/1?page=3\n",
    "https://www.hooktheory.com/theorytab/common-chord-progressions/1?page=4\n",
    "https://www.hooktheory.com/theorytab/common-chord-progressions/1?page=5\n",
    "\n",
    "# I → V → vi → iii\n",
    "https://www.hooktheory.com/theorytab/common-chord-progressions/3\n",
    "    \n",
    "# vi → V → IV → V\n",
    "https://www.hooktheory.com/theorytab/common-chord-progressions/4\n",
    "https://www.hooktheory.com/theorytab/common-chord-progressions/4?page=2\n",
    "https://www.hooktheory.com/theorytab/common-chord-progressions/4?page=3\n",
    "\n",
    "#I → vi → IV → V\n",
    "https://www.hooktheory.com/theorytab/common-chord-progressions/5\n",
    "https://www.hooktheory.com/theorytab/common-chord-progressions/5?page=2\n",
    "\n",
    "# I → IV → vi → V\n",
    "https://www.hooktheory.com/theorytab/common-chord-progressions/6\n",
    "https://www.hooktheory.com/theorytab/common-chord-progressions/6?page=2\n",
    "    \n",
    "# I → V → IV → V\n",
    "https://www.hooktheory.com/theorytab/common-chord-progressions/7\n",
    "https://www.hooktheory.com/theorytab/common-chord-progressions/7?page=2\n",
    "    \n",
    "# I64 → V\n",
    "https://www.hooktheory.com/theorytab/common-chord-progressions/21\n",
    "https://www.hooktheory.com/theorytab/common-chord-progressions/21?page=2\n",
    "\n",
    "# I → V6 → vi\n",
    "https://www.hooktheory.com/theorytab/common-chord-progressions/22\n",
    "https://www.hooktheory.com/theorytab/common-chord-progressions/22?page=2\n",
    "https://www.hooktheory.com/theorytab/common-chord-progressions/22?page=3\n",
    "    \n",
    "# I → ii7 → I6\n",
    "https://www.hooktheory.com/theorytab/common-chord-progressions/23\n",
    "    \n",
    "# I → iii64 → vi\n",
    "https://www.hooktheory.com/theorytab/common-chord-progressions/24\n",
    "    \n",
    "# IV → I6 → V\n",
    "https://www.hooktheory.com/theorytab/common-chord-progressions/25\n",
    "\n",
    "# IV → I6 → ii\n",
    "https://www.hooktheory.com/theorytab/common-chord-progressions/26\n",
    "    \n",
    "# V → V6/vi → vi\n",
    "https://www.hooktheory.com/theorytab/common-chord-progressions/30\n",
    "\n",
    "# I → V/vi\n",
    "https://www.hooktheory.com/theorytab/common-chord-progressions/31\n",
    "\n",
    "# vi → vi42 → IV\n",
    "https://www.hooktheory.com/theorytab/common-chord-progressions/32\n",
    "\n",
    "# V7/IV → IV\n",
    "https://www.hooktheory.com/theorytab/common-chord-progressions/33\n",
    "    \n",
    "# vii°/vi → vi\n",
    "https://www.hooktheory.com/theorytab/common-chord-progressions/35\n",
    "https://www.hooktheory.com/theorytab/common-chord-progressions/35?page=2\n",
    "\n",
    "# IV → iv → I\n",
    "https://www.hooktheory.com/theorytab/common-chord-progressions/41\n",
    "\n",
    "# ♭VII → IV → I\n",
    "https://www.hooktheory.com/theorytab/common-chord-progressions/42\n",
    "\n",
    "# ♭VI → V\n",
    "https://www.hooktheory.com/theorytab/common-chord-progressions/44\n",
    "\n",
    "#♭VII → I\n",
    "https://www.hooktheory.com/theorytab/common-chord-progressions/45\n",
    "https://www.hooktheory.com/theorytab/common-chord-progressions/45?page=2\n",
    "https://www.hooktheory.com/theorytab/common-chord-progressions/45?page=3"
   ]
  },
  {
   "cell_type": "code",
   "execution_count": 1,
   "metadata": {
    "collapsed": true
   },
   "outputs": [],
   "source": [
    "url_prefix = \"https://www.hooktheory.com/theorytab/common-chord-progressions/\"\n",
    "section_list = [1,3,4,5,6,7,21,22,23,24,25,26,30,31,32,33,35,41,42,44,45]\n",
    "#section_list = [1,3,4]\n",
    "pages = {1:[2,3,4,5], 4:[2,3], 5:[2], 6:[2], 7:[2], 21:[2], 22:[2,3], 35:[2], 45:[2,3]}\n",
    "chord_progression = {\n",
    "    1:\"I → V → vi → IV\",\n",
    "    3:\"I → V → vi → iii\",\n",
    "    4:\"vi → V → IV → V\",\n",
    "    5:\"I → vi → IV → V\",\n",
    "    6:\"I → IV → vi → V\",\n",
    "    7:\"I → V → IV → V\",\n",
    "    21:\"I64 → V\",\n",
    "    22:\"I → V6 → vi\",\n",
    "    23:\"I → ii7 → I6\",\n",
    "    24:\"I → iii64 → vi\",\n",
    "    25:\"IV → I6 → V\",\n",
    "    26:\"IV → I6 → ii\",\n",
    "    30:\"V → V6/vi → vi\",\n",
    "    31:\"I → V/vi\",\n",
    "    32:\"vi → vi42 → IV\",\n",
    "    33:\"V7/IV → IV\",\n",
    "    35:\"vii°/vi → vi\",\n",
    "    41:\"IV → iv → I\",\n",
    "    42:\"♭VII → IV → I\",\n",
    "    44:\"♭VI → V\",\n",
    "    45:\"♭VII → I\"\n",
    "}"
   ]
  },
  {
   "cell_type": "code",
   "execution_count": 19,
   "metadata": {
    "collapsed": false
   },
   "outputs": [],
   "source": [
    "url_list = []\n",
    "for section in section_list:\n",
    "    url = ''\n",
    "    url = url_prefix + str(section)\n",
    "    if section in pages:\n",
    "        url_list.append(url)\n",
    "        for page in pages[section]:\n",
    "            url_list.append(url + '?page=' + str(page))\n",
    "    else:\n",
    "        url_list.append(url)"
   ]
  },
  {
   "cell_type": "code",
   "execution_count": 20,
   "metadata": {
    "collapsed": false
   },
   "outputs": [
    {
     "data": {
      "text/plain": [
       "['https://www.hooktheory.com/theorytab/common-chord-progressions/1',\n",
       " 'https://www.hooktheory.com/theorytab/common-chord-progressions/1?page=2',\n",
       " 'https://www.hooktheory.com/theorytab/common-chord-progressions/1?page=3',\n",
       " 'https://www.hooktheory.com/theorytab/common-chord-progressions/1?page=4',\n",
       " 'https://www.hooktheory.com/theorytab/common-chord-progressions/1?page=5',\n",
       " 'https://www.hooktheory.com/theorytab/common-chord-progressions/3',\n",
       " 'https://www.hooktheory.com/theorytab/common-chord-progressions/4',\n",
       " 'https://www.hooktheory.com/theorytab/common-chord-progressions/4?page=2',\n",
       " 'https://www.hooktheory.com/theorytab/common-chord-progressions/4?page=3',\n",
       " 'https://www.hooktheory.com/theorytab/common-chord-progressions/5',\n",
       " 'https://www.hooktheory.com/theorytab/common-chord-progressions/5?page=2',\n",
       " 'https://www.hooktheory.com/theorytab/common-chord-progressions/6',\n",
       " 'https://www.hooktheory.com/theorytab/common-chord-progressions/6?page=2',\n",
       " 'https://www.hooktheory.com/theorytab/common-chord-progressions/7',\n",
       " 'https://www.hooktheory.com/theorytab/common-chord-progressions/7?page=2',\n",
       " 'https://www.hooktheory.com/theorytab/common-chord-progressions/21',\n",
       " 'https://www.hooktheory.com/theorytab/common-chord-progressions/21?page=2',\n",
       " 'https://www.hooktheory.com/theorytab/common-chord-progressions/22',\n",
       " 'https://www.hooktheory.com/theorytab/common-chord-progressions/22?page=2',\n",
       " 'https://www.hooktheory.com/theorytab/common-chord-progressions/22?page=3',\n",
       " 'https://www.hooktheory.com/theorytab/common-chord-progressions/23',\n",
       " 'https://www.hooktheory.com/theorytab/common-chord-progressions/24',\n",
       " 'https://www.hooktheory.com/theorytab/common-chord-progressions/25',\n",
       " 'https://www.hooktheory.com/theorytab/common-chord-progressions/26',\n",
       " 'https://www.hooktheory.com/theorytab/common-chord-progressions/30',\n",
       " 'https://www.hooktheory.com/theorytab/common-chord-progressions/31',\n",
       " 'https://www.hooktheory.com/theorytab/common-chord-progressions/32',\n",
       " 'https://www.hooktheory.com/theorytab/common-chord-progressions/33',\n",
       " 'https://www.hooktheory.com/theorytab/common-chord-progressions/35',\n",
       " 'https://www.hooktheory.com/theorytab/common-chord-progressions/35?page=2',\n",
       " 'https://www.hooktheory.com/theorytab/common-chord-progressions/41',\n",
       " 'https://www.hooktheory.com/theorytab/common-chord-progressions/42',\n",
       " 'https://www.hooktheory.com/theorytab/common-chord-progressions/44',\n",
       " 'https://www.hooktheory.com/theorytab/common-chord-progressions/45',\n",
       " 'https://www.hooktheory.com/theorytab/common-chord-progressions/45?page=2',\n",
       " 'https://www.hooktheory.com/theorytab/common-chord-progressions/45?page=3']"
      ]
     },
     "execution_count": 20,
     "metadata": {},
     "output_type": "execute_result"
    }
   ],
   "source": [
    "url_list"
   ]
  },
  {
   "cell_type": "code",
   "execution_count": 5,
   "metadata": {
    "collapsed": false
   },
   "outputs": [],
   "source": [
    "from selenium import webdriver"
   ]
  },
  {
   "cell_type": "code",
   "execution_count": 22,
   "metadata": {
    "collapsed": false
   },
   "outputs": [
    {
     "name": "stdout",
     "output_type": "stream",
     "text": [
      "https://www.hooktheory.com/theorytab/common-chord-progressions/1\n",
      "80 80\n",
      "https://www.hooktheory.com/theorytab/common-chord-progressions/1?page=2\n",
      "78 78\n",
      "https://www.hooktheory.com/theorytab/common-chord-progressions/1?page=3\n",
      "82 82\n",
      "https://www.hooktheory.com/theorytab/common-chord-progressions/1?page=4\n",
      "92 92\n",
      "https://www.hooktheory.com/theorytab/common-chord-progressions/1?page=5\n",
      "76 76\n",
      "https://www.hooktheory.com/theorytab/common-chord-progressions/3\n",
      "34 34\n",
      "https://www.hooktheory.com/theorytab/common-chord-progressions/4\n",
      "90 90\n",
      "https://www.hooktheory.com/theorytab/common-chord-progressions/4?page=2\n",
      "94 94\n",
      "https://www.hooktheory.com/theorytab/common-chord-progressions/4?page=3\n",
      "50 50\n",
      "https://www.hooktheory.com/theorytab/common-chord-progressions/5\n",
      "87 87\n",
      "https://www.hooktheory.com/theorytab/common-chord-progressions/5?page=2\n",
      "40 40\n",
      "https://www.hooktheory.com/theorytab/common-chord-progressions/6\n",
      "84 84\n",
      "https://www.hooktheory.com/theorytab/common-chord-progressions/6?page=2\n",
      "16 16\n",
      "https://www.hooktheory.com/theorytab/common-chord-progressions/7\n",
      "91 91\n",
      "https://www.hooktheory.com/theorytab/common-chord-progressions/7?page=2\n",
      "16 16\n",
      "https://www.hooktheory.com/theorytab/common-chord-progressions/21\n",
      "91 91\n",
      "https://www.hooktheory.com/theorytab/common-chord-progressions/21?page=2\n",
      "50 50\n",
      "https://www.hooktheory.com/theorytab/common-chord-progressions/22\n",
      "85 85\n",
      "https://www.hooktheory.com/theorytab/common-chord-progressions/22?page=2\n",
      "90 90\n",
      "https://www.hooktheory.com/theorytab/common-chord-progressions/22?page=3\n",
      "62 62\n",
      "https://www.hooktheory.com/theorytab/common-chord-progressions/23\n",
      "31 31\n",
      "https://www.hooktheory.com/theorytab/common-chord-progressions/24\n",
      "63 63\n",
      "https://www.hooktheory.com/theorytab/common-chord-progressions/25\n",
      "44 44\n",
      "https://www.hooktheory.com/theorytab/common-chord-progressions/26\n",
      "69 69\n",
      "https://www.hooktheory.com/theorytab/common-chord-progressions/30\n",
      "45 45\n",
      "https://www.hooktheory.com/theorytab/common-chord-progressions/31\n",
      "86 86\n",
      "https://www.hooktheory.com/theorytab/common-chord-progressions/32\n",
      "56 56\n",
      "https://www.hooktheory.com/theorytab/common-chord-progressions/33\n",
      "91 91\n",
      "https://www.hooktheory.com/theorytab/common-chord-progressions/35\n",
      "87 87\n",
      "https://www.hooktheory.com/theorytab/common-chord-progressions/35?page=2\n",
      "12 12\n",
      "https://www.hooktheory.com/theorytab/common-chord-progressions/41\n",
      "54 54\n",
      "https://www.hooktheory.com/theorytab/common-chord-progressions/42\n",
      "85 85\n",
      "https://www.hooktheory.com/theorytab/common-chord-progressions/44\n",
      "50 50\n",
      "https://www.hooktheory.com/theorytab/common-chord-progressions/45\n",
      "88 88\n",
      "https://www.hooktheory.com/theorytab/common-chord-progressions/45?page=2\n",
      "90 90\n",
      "https://www.hooktheory.com/theorytab/common-chord-progressions/45?page=3\n",
      "33 33\n"
     ]
    }
   ],
   "source": [
    "song_list = []\n",
    "for url in url_list:\n",
    "    print url\n",
    "    driver = webdriver.Chrome()\n",
    "    driver.get(url)\n",
    "#results = driver.find_elements_by_xpath('//div[@class=\"meta\"]')\n",
    "    songs = driver.find_elements_by_xpath('//span[@class=\"span-song\"]')\n",
    "    artists = driver.find_elements_by_xpath('//span[@class=\"span-artist\"]')\n",
    "    print len(songs), len(artists)\n",
    "    for i in range(len(songs)):\n",
    "        song_list.append((songs[i].text, artists[i].text))\n",
    "    \n",
    "    driver.quit()"
   ]
  },
  {
   "cell_type": "code",
   "execution_count": 25,
   "metadata": {
    "collapsed": false
   },
   "outputs": [],
   "source": [
    "import csv\n",
    "with open('hooktheory_song_list.csv', 'wb') as outcsv:   \n",
    "    #configure writer to write standard csv file\n",
    "    writer = csv.writer(outcsv, delimiter=',')\n",
    "    writer.writerow(['song', 'artist'])\n",
    "    for item in song_list:\n",
    "        #Write item to outcsv\n",
    "        writer.writerow([item[0], item[1]])"
   ]
  },
  {
   "cell_type": "code",
   "execution_count": null,
   "metadata": {
    "collapsed": true
   },
   "outputs": [],
   "source": []
  }
 ],
 "metadata": {
  "kernelspec": {
   "display_name": "Python 2",
   "language": "python",
   "name": "python2"
  },
  "language_info": {
   "codemirror_mode": {
    "name": "ipython",
    "version": 2
   },
   "file_extension": ".py",
   "mimetype": "text/x-python",
   "name": "python",
   "nbconvert_exporter": "python",
   "pygments_lexer": "ipython2",
   "version": "2.7.10"
  }
 },
 "nbformat": 4,
 "nbformat_minor": 0
}

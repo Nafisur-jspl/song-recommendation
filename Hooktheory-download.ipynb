{
 "cells": [
  {
   "cell_type": "code",
   "execution_count": 3,
   "metadata": {
    "collapsed": true
   },
   "outputs": [],
   "source": [
    "import os"
   ]
  },
  {
   "cell_type": "code",
   "execution_count": 4,
   "metadata": {
    "collapsed": true
   },
   "outputs": [],
   "source": [
    "os.environ['PATH']='/Users/sommy/repos/song-recommendation'"
   ]
  },
  {
   "cell_type": "code",
   "execution_count": 5,
   "metadata": {
    "collapsed": true
   },
   "outputs": [],
   "source": [
    "from selenium import webdriver"
   ]
  },
  {
   "cell_type": "code",
   "execution_count": 12,
   "metadata": {
    "collapsed": false
   },
   "outputs": [
    {
     "name": "stdout",
     "output_type": "stream",
     "text": [
      "80 80\n"
     ]
    }
   ],
   "source": [
    "driver = webdriver.Chrome()\n",
    "driver.get(\"https://www.hooktheory.com/theorytab/common-chord-progressions/1\")\n",
    "\n",
    "#results = driver.find_elements_by_xpath('//div[@class=\"meta\"]')\n",
    "songs = driver.find_elements_by_xpath('//span[@class=\"span-song\"]')\n",
    "artists = driver.find_elements_by_xpath('//span[@class=\"span-artist\"]')\n",
    "print len(songs), len(artists)"
   ]
  },
  {
   "cell_type": "code",
   "execution_count": 14,
   "metadata": {
    "collapsed": false
   },
   "outputs": [
    {
     "name": "stdout",
     "output_type": "stream",
     "text": [
      "Be Like That 3 Doors Down\n",
      "Someone Like You Adele\n",
      "This Is What It Feels Like Armin van Buuren\n",
      "All You Need Is Love Avicii - Ezon remix\n",
      "Girlfriend Avril Lavigne\n",
      "Complicated Avril Lavigne\n",
      "Four Chord Songs Axis of Awesome\n",
      "What's My Age Again Blink 182\n",
      "Living On A Prayer Bon Jovi\n",
      "Born to make you happy Britney Spears\n",
      "Grenade Bruno Mars\n",
      "Call Me Maybe Carly Rae Jepsen\n",
      "So Small Carrie Underwood\n",
      "Every Time We Touch Cascada\n",
      "Awesome Charles Jenkins\n",
      "Parachute Cheryl Cole\n",
      "Jar Of Hearts Christina Perri\n",
      "Time After Time Cyndi Lauper\n",
      "Breakfast At Tiffany's Deep Blue Something\n",
      "Heart Attack Demi Lovato\n",
      "Stereo Love Edward Maya\n",
      "Escape Enrique Iglesias\n",
      "Dimelo Enrique Iglesias\n",
      "Always Erasure\n",
      "Bring Me To Life Evanescence\n",
      "My Songs Know What You Did In The Dark Fall Out Boy\n",
      "Whistle Flo Rida\n",
      "21 Guns Green Day\n",
      "When I Come Around Green Day\n",
      "Holiday Green Day\n",
      "Boulevard of Broken Dreams Green Day\n",
      "I'm Yours Jason Mraz\n",
      "The Internet Is For Porn Jeff Marx and Robert Lopez\n",
      "Illumielle Jo Blankenburg\n",
      "Already Gone Kelly Clarkson\n",
      "The Edge Of Glory Lady Gaga\n",
      "Paparazzi Lady Gaga\n",
      "Alejandro Lady Gaga\n",
      "Transcendence Lindsey Stirling\n",
      "Castle Of Glass Linkin Park\n",
      "Numb Linkin Park\n",
      "She Will Be Loved Maroon 5\n",
      "Real World Matchbox 20\n",
      "Ai Se Eu Te Pego Michel Telo\n",
      "2012 'If The World Would End' Mike Candys\n",
      "The Cave Mumford and Sons\n",
      "Please Play This Song On The Radio NOFX\n",
      "Little Talks Of Monsters And Men\n",
      "Wagon Wheel Old Crow Medicine Show\n",
      "Live While We're Young One Direction\n",
      "Say One Republic\n",
      "Let Her Go Passenger\n",
      "Take A Walk Passion Pit\n",
      "U and Ur Hand Pink\n",
      "Mizuiro Girlfriend Plastic Tree\n",
      "Snow -Hey Oh- Red Hot Chili Peppers\n",
      "Otherside Red Hot Chili Peppers\n",
      "Love The Way You Lie Part 2 Rihanna\n",
      "Living in Stereo RIO\n",
      "Seasons Rome\n",
      "Listen To Your Heart Roxette\n",
      "Waka Waka Shakira\n",
      "Wasted Time Skid Row\n",
      "The Bannered Mare Skyrim OST\n",
      "Run Snow Patrol\n",
      "Confusion and Frustration in Modern Times Sum 41\n",
      "Walking Disaster Sum 41\n",
      "Stay Stay Stay Taylor Swift\n",
      "I Knew You Were Trouble Taylor Swift\n",
      "Eyes Open Taylor Swift\n",
      "Life The Avett Brothers\n",
      "Just What I Needed The Cars\n",
      "Jack Sparrow The Lonely Island\n",
      "Sub Focus Tidal Wave\n",
      "Pair of Dice Tiesto and Allure\n",
      "It's Your Love Tim McGraw\n",
      "Where The Green Grass Grows Tim McGraw\n",
      "Africa Toto\n",
      "Hey Soul Sister Train\n",
      "River flows in you Yiruma\n"
     ]
    }
   ],
   "source": [
    "for i in range(len(songs)):\n",
    "    print songs[i].text, artists[i].text"
   ]
  },
  {
   "cell_type": "code",
   "execution_count": 15,
   "metadata": {
    "collapsed": true
   },
   "outputs": [],
   "source": [
    "driver.quit()"
   ]
  },
  {
   "cell_type": "code",
   "execution_count": null,
   "metadata": {
    "collapsed": true
   },
   "outputs": [],
   "source": []
  }
 ],
 "metadata": {
  "kernelspec": {
   "display_name": "Python 2",
   "language": "python",
   "name": "python2"
  },
  "language_info": {
   "codemirror_mode": {
    "name": "ipython",
    "version": 2
   },
   "file_extension": ".py",
   "mimetype": "text/x-python",
   "name": "python",
   "nbconvert_exporter": "python",
   "pygments_lexer": "ipython2",
   "version": "2.7.10"
  }
 },
 "nbformat": 4,
 "nbformat_minor": 0
}

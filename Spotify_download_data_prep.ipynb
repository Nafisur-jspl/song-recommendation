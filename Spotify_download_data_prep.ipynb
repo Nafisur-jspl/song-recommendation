{
 "cells": [
  {
   "cell_type": "code",
   "execution_count": 7,
   "metadata": {
    "collapsed": true
   },
   "outputs": [],
   "source": [
    "import pandas as pd\n",
    "import numpy as np"
   ]
  },
  {
   "cell_type": "code",
   "execution_count": 8,
   "metadata": {
    "collapsed": true
   },
   "outputs": [],
   "source": [
    "# Read Echonest Taste profile dataset\n",
    "taste = pd.read_csv('./data/train_triplets.txt', sep='\\t', header=None, names=['user_id','song_id','play_count'])"
   ]
  },
  {
   "cell_type": "code",
   "execution_count": 9,
   "metadata": {
    "collapsed": false
   },
   "outputs": [
    {
     "data": {
      "text/plain": [
       "((48373586, 3), (384546,))"
      ]
     },
     "execution_count": 9,
     "metadata": {},
     "output_type": "execute_result"
    }
   ],
   "source": [
    "taste.shape, taste.song_id.unique().shape"
   ]
  },
  {
   "cell_type": "code",
   "execution_count": 10,
   "metadata": {
    "collapsed": true
   },
   "outputs": [],
   "source": [
    "# Read million songs data\n",
    "import sqlite3"
   ]
  },
  {
   "cell_type": "code",
   "execution_count": 11,
   "metadata": {
    "collapsed": true
   },
   "outputs": [],
   "source": [
    "# path to the Million Song Dataset sond metadat (sqlite3)\n",
    "msd_meta_path='./data/track_metadata.db'"
   ]
  },
  {
   "cell_type": "code",
   "execution_count": 12,
   "metadata": {
    "collapsed": true
   },
   "outputs": [],
   "source": [
    "# connect to the SQLite database\n",
    "conn = sqlite3.connect(msd_meta_path)\n",
    "# from that connection, get a cursor to do queries\n",
    "c = conn.cursor()\n",
    "# so there is no confusion, the table name is 'songs'\n",
    "TABLENAME = 'songs'"
   ]
  },
  {
   "cell_type": "code",
   "execution_count": 13,
   "metadata": {
    "collapsed": false
   },
   "outputs": [
    {
     "name": "stdout",
     "output_type": "stream",
     "text": [
      "* tables contained in that SQLite file/database (should be only 'songs'):\n",
      "[(u'songs',)]\n"
     ]
    }
   ],
   "source": [
    "# list all tables in that dataset\n",
    "# note that sqlite does the actual job when we call fetchall() or fetchone()\n",
    "q = \"SELECT name FROM sqlite_master WHERE type='table' ORDER BY name\"\n",
    "res = c.execute(q)\n",
    "print \"* tables contained in that SQLite file/database (should be only 'songs'):\"\n",
    "print res.fetchall()"
   ]
  },
  {
   "cell_type": "code",
   "execution_count": 14,
   "metadata": {
    "collapsed": false
   },
   "outputs": [
    {
     "name": "stdout",
     "output_type": "stream",
     "text": [
      "[(u'TRBUDFM12903C9E25E', u'Leben in Dankbarkeit', u'SOABAAU12AB01860F8', u'Musik mit Herz und Schwung', u'ARRKCMU1269FB34D23', u'6871bb8e-e91c-4f93-bfdb-68bf9489e179', u'Die Mooskirchner', 208.37832, 0.327061846969, 0.0, 0, 7304610, -1, 0)]\n"
     ]
    }
   ],
   "source": [
    "q = \"SELECT * FROM songs WHERE song_id = 'SOABAAU12AB01860F8'\"\n",
    "res = c.execute(q)\n",
    "print res.fetchall()"
   ]
  },
  {
   "cell_type": "code",
   "execution_count": 15,
   "metadata": {
    "collapsed": true
   },
   "outputs": [],
   "source": [
    "q = \"SELECT song_id, title, artist_id, artist_name FROM songs\"\n",
    "res = c.execute(q)\n",
    "\n",
    "song_list = []\n",
    "for song in res.fetchall():\n",
    "    song_list.append(song)"
   ]
  },
  {
   "cell_type": "code",
   "execution_count": 16,
   "metadata": {
    "collapsed": true
   },
   "outputs": [],
   "source": [
    "df_song = pd.DataFrame(song_list, columns=['song_id','song_title','artist_id','artist_name'])"
   ]
  },
  {
   "cell_type": "code",
   "execution_count": 17,
   "metadata": {
    "collapsed": true
   },
   "outputs": [],
   "source": [
    "taste_song = taste.drop_duplicates('song_id')"
   ]
  },
  {
   "cell_type": "code",
   "execution_count": 18,
   "metadata": {
    "collapsed": true
   },
   "outputs": [],
   "source": [
    "relevant_song = pd.merge(taste_song, df_song, how='inner', on='song_id')"
   ]
  },
  {
   "cell_type": "code",
   "execution_count": 19,
   "metadata": {
    "collapsed": false
   },
   "outputs": [
    {
     "data": {
      "text/plain": [
       "(385256, 6)"
      ]
     },
     "execution_count": 19,
     "metadata": {},
     "output_type": "execute_result"
    }
   ],
   "source": [
    "relevant_song.shape"
   ]
  },
  {
   "cell_type": "code",
   "execution_count": 20,
   "metadata": {
    "collapsed": true
   },
   "outputs": [],
   "source": [
    "import json\n",
    "import os"
   ]
  },
  {
   "cell_type": "code",
   "execution_count": 85,
   "metadata": {
    "collapsed": true
   },
   "outputs": [],
   "source": [
    "directory = './millionsongdataset_echonest_mapping'\n",
    "prefix = 'BN'\n",
    "song_id_file = 'SOBNZDC12A6D4FC103' + '.json'\n",
    "file_path = os.path.join(directory,prefix,song_id_file)"
   ]
  },
  {
   "cell_type": "code",
   "execution_count": 86,
   "metadata": {
    "collapsed": false
   },
   "outputs": [
    {
     "data": {
      "text/plain": [
       "'./millionsongdataset_echonest_mapping/BN/SOBNZDC12A6D4FC103.json'"
      ]
     },
     "execution_count": 86,
     "metadata": {},
     "output_type": "execute_result"
    }
   ],
   "source": [
    "file_path"
   ]
  },
  {
   "cell_type": "code",
   "execution_count": 87,
   "metadata": {
    "collapsed": true
   },
   "outputs": [],
   "source": [
    "with open(file_path) as json_file:    \n",
    "    map_json = json.load(json_file)"
   ]
  },
  {
   "cell_type": "code",
   "execution_count": 88,
   "metadata": {
    "collapsed": false
   },
   "outputs": [
    {
     "data": {
      "text/plain": [
       "{u'response': {u'songs': [],\n",
       "  u'status': {u'code': 0, u'message': u'Success', u'version': u'4.2'}}}"
      ]
     },
     "execution_count": 88,
     "metadata": {},
     "output_type": "execute_result"
    }
   ],
   "source": [
    "map_json"
   ]
  },
  {
   "cell_type": "code",
   "execution_count": 60,
   "metadata": {
    "collapsed": false
   },
   "outputs": [
    {
     "data": {
      "text/plain": [
       "u'7digital-UK:track:2093263'"
      ]
     },
     "execution_count": 60,
     "metadata": {},
     "output_type": "execute_result"
    }
   ],
   "source": [
    "map_json['response']['songs'][0]['tracks'][0]['foreign_id']"
   ]
  },
  {
   "cell_type": "code",
   "execution_count": 62,
   "metadata": {
    "collapsed": false
   },
   "outputs": [
    {
     "data": {
      "text/plain": [
       "[u'spotify:track:4nuY11Vo1Yd5xMHhLfDKe9',\n",
       " u'spotify:track:6d4xNwJPOI3VmvG8tCIYDI']"
      ]
     },
     "execution_count": 62,
     "metadata": {},
     "output_type": "execute_result"
    }
   ],
   "source": [
    "[x['foreign_id'] for x in map_json['response']['songs'][0]['tracks'] if x['catalog'] == 'spotify']"
   ]
  },
  {
   "cell_type": "code",
   "execution_count": 61,
   "metadata": {
    "collapsed": false
   },
   "outputs": [
    {
     "name": "stdout",
     "output_type": "stream",
     "text": [
      "spotify:track:4nuY11Vo1Yd5xMHhLfDKe9\n",
      "spotify:track:6d4xNwJPOI3VmvG8tCIYDI\n"
     ]
    }
   ],
   "source": [
    "for track in map_json['response']['songs'][0]['tracks']:\n",
    "    if track['catalog'] == 'spotify':\n",
    "        print track['foreign_id']"
   ]
  },
  {
   "cell_type": "code",
   "execution_count": 35,
   "metadata": {
    "collapsed": false
   },
   "outputs": [
    {
     "data": {
      "text/html": [
       "<div>\n",
       "<table border=\"1\" class=\"dataframe\">\n",
       "  <thead>\n",
       "    <tr style=\"text-align: right;\">\n",
       "      <th></th>\n",
       "      <th>user_id</th>\n",
       "      <th>song_id</th>\n",
       "      <th>play_count</th>\n",
       "      <th>song_title</th>\n",
       "      <th>artist_id</th>\n",
       "      <th>artist_name</th>\n",
       "    </tr>\n",
       "  </thead>\n",
       "  <tbody>\n",
       "    <tr>\n",
       "      <th>0</th>\n",
       "      <td>b80344d063b5ccb3212f76538f3d9e43d87dca9e</td>\n",
       "      <td>SOAKIMP12A8C130995</td>\n",
       "      <td>1</td>\n",
       "      <td>The Cove</td>\n",
       "      <td>ARC8CQZ1187B98DECA</td>\n",
       "      <td>Jack Johnson</td>\n",
       "    </tr>\n",
       "    <tr>\n",
       "      <th>1</th>\n",
       "      <td>b80344d063b5ccb3212f76538f3d9e43d87dca9e</td>\n",
       "      <td>SOAPDEY12A81C210A9</td>\n",
       "      <td>1</td>\n",
       "      <td>Nothing from Nothing</td>\n",
       "      <td>ARHYUI71187FB48366</td>\n",
       "      <td>Billy Preston</td>\n",
       "    </tr>\n",
       "    <tr>\n",
       "      <th>2</th>\n",
       "      <td>b80344d063b5ccb3212f76538f3d9e43d87dca9e</td>\n",
       "      <td>SOBBMDR12A8C13253B</td>\n",
       "      <td>2</td>\n",
       "      <td>Entre Dos Aguas</td>\n",
       "      <td>ARC1SF21187FB51D0F</td>\n",
       "      <td>Paco De Lucia</td>\n",
       "    </tr>\n",
       "    <tr>\n",
       "      <th>3</th>\n",
       "      <td>b80344d063b5ccb3212f76538f3d9e43d87dca9e</td>\n",
       "      <td>SOBFNSP12AF72A0E22</td>\n",
       "      <td>1</td>\n",
       "      <td>Under Cold Blue Stars</td>\n",
       "      <td>ARMS97V1187B99DD98</td>\n",
       "      <td>Josh Rouse</td>\n",
       "    </tr>\n",
       "    <tr>\n",
       "      <th>4</th>\n",
       "      <td>b80344d063b5ccb3212f76538f3d9e43d87dca9e</td>\n",
       "      <td>SOBFOVM12A58A7D494</td>\n",
       "      <td>1</td>\n",
       "      <td>Riot Radio (Soundtrack Version)</td>\n",
       "      <td>ARI4V0E1187B9B6FC2</td>\n",
       "      <td>The Dead 60s</td>\n",
       "    </tr>\n",
       "  </tbody>\n",
       "</table>\n",
       "</div>"
      ],
      "text/plain": [
       "                                    user_id             song_id  play_count  \\\n",
       "0  b80344d063b5ccb3212f76538f3d9e43d87dca9e  SOAKIMP12A8C130995           1   \n",
       "1  b80344d063b5ccb3212f76538f3d9e43d87dca9e  SOAPDEY12A81C210A9           1   \n",
       "2  b80344d063b5ccb3212f76538f3d9e43d87dca9e  SOBBMDR12A8C13253B           2   \n",
       "3  b80344d063b5ccb3212f76538f3d9e43d87dca9e  SOBFNSP12AF72A0E22           1   \n",
       "4  b80344d063b5ccb3212f76538f3d9e43d87dca9e  SOBFOVM12A58A7D494           1   \n",
       "\n",
       "                        song_title           artist_id    artist_name  \n",
       "0                         The Cove  ARC8CQZ1187B98DECA   Jack Johnson  \n",
       "1             Nothing from Nothing  ARHYUI71187FB48366  Billy Preston  \n",
       "2                  Entre Dos Aguas  ARC1SF21187FB51D0F  Paco De Lucia  \n",
       "3            Under Cold Blue Stars  ARMS97V1187B99DD98     Josh Rouse  \n",
       "4  Riot Radio (Soundtrack Version)  ARI4V0E1187B9B6FC2   The Dead 60s  "
      ]
     },
     "execution_count": 35,
     "metadata": {},
     "output_type": "execute_result"
    }
   ],
   "source": [
    "relevant_song.head()"
   ]
  },
  {
   "cell_type": "code",
   "execution_count": 36,
   "metadata": {
    "collapsed": true
   },
   "outputs": [],
   "source": [
    "relevant_song['song_prefix'] = relevant_song['song_id'].map(lambda x: x[2:4])"
   ]
  },
  {
   "cell_type": "code",
   "execution_count": 75,
   "metadata": {
    "collapsed": true
   },
   "outputs": [],
   "source": [
    "def read_song_json(song_prefix, song_id):\n",
    "    directory = './millionsongdataset_echonest_mapping'\n",
    "    prefix = song_prefix\n",
    "    song_id_file = song_id + '.json'\n",
    "    file_path = os.path.join(directory,prefix,song_id_file)\n",
    "    \n",
    "    try:\n",
    "        with open(file_path) as json_file:    \n",
    "            map_json = json.load(json_file)\n",
    "\n",
    "            if map_json:\n",
    "                #return map_json['response']['songs'][0]['tracks'][0]['foreign_id']\n",
    "                # In case there are multiple Spotify ID, return only 1 ID\n",
    "                spotify_tracks = [x['foreign_id'] for x in map_json['response']['songs'][0]['tracks'] if x['catalog'] == 'spotify']\n",
    "                return spotify_tracks[0]\n",
    "            return 'SpotifyNA'\n",
    "    except:\n",
    "        return 'MappingNA'\n",
    "    json_file.close()"
   ]
  },
  {
   "cell_type": "code",
   "execution_count": 76,
   "metadata": {
    "collapsed": false
   },
   "outputs": [],
   "source": [
    "test_song = relevant_song.head(10).copy()"
   ]
  },
  {
   "cell_type": "code",
   "execution_count": 77,
   "metadata": {
    "collapsed": false
   },
   "outputs": [],
   "source": [
    "test_song['spotify_id'] = test_song[['song_prefix','song_id']].apply(lambda x: read_song_json(x[0],x[1]), axis=1)"
   ]
  },
  {
   "cell_type": "code",
   "execution_count": 78,
   "metadata": {
    "collapsed": false
   },
   "outputs": [
    {
     "data": {
      "text/html": [
       "<div>\n",
       "<table border=\"1\" class=\"dataframe\">\n",
       "  <thead>\n",
       "    <tr style=\"text-align: right;\">\n",
       "      <th></th>\n",
       "      <th>user_id</th>\n",
       "      <th>song_id</th>\n",
       "      <th>play_count</th>\n",
       "      <th>song_title</th>\n",
       "      <th>artist_id</th>\n",
       "      <th>artist_name</th>\n",
       "      <th>song_prefix</th>\n",
       "      <th>spotify_id</th>\n",
       "    </tr>\n",
       "  </thead>\n",
       "  <tbody>\n",
       "    <tr>\n",
       "      <th>0</th>\n",
       "      <td>b80344d063b5ccb3212f76538f3d9e43d87dca9e</td>\n",
       "      <td>SOAKIMP12A8C130995</td>\n",
       "      <td>1</td>\n",
       "      <td>The Cove</td>\n",
       "      <td>ARC8CQZ1187B98DECA</td>\n",
       "      <td>Jack Johnson</td>\n",
       "      <td>AK</td>\n",
       "      <td>spotify:track:4nuY11Vo1Yd5xMHhLfDKe9</td>\n",
       "    </tr>\n",
       "    <tr>\n",
       "      <th>1</th>\n",
       "      <td>b80344d063b5ccb3212f76538f3d9e43d87dca9e</td>\n",
       "      <td>SOAPDEY12A81C210A9</td>\n",
       "      <td>1</td>\n",
       "      <td>Nothing from Nothing</td>\n",
       "      <td>ARHYUI71187FB48366</td>\n",
       "      <td>Billy Preston</td>\n",
       "      <td>AP</td>\n",
       "      <td>MappingNA</td>\n",
       "    </tr>\n",
       "    <tr>\n",
       "      <th>2</th>\n",
       "      <td>b80344d063b5ccb3212f76538f3d9e43d87dca9e</td>\n",
       "      <td>SOBBMDR12A8C13253B</td>\n",
       "      <td>2</td>\n",
       "      <td>Entre Dos Aguas</td>\n",
       "      <td>ARC1SF21187FB51D0F</td>\n",
       "      <td>Paco De Lucia</td>\n",
       "      <td>BB</td>\n",
       "      <td>MappingNA</td>\n",
       "    </tr>\n",
       "    <tr>\n",
       "      <th>3</th>\n",
       "      <td>b80344d063b5ccb3212f76538f3d9e43d87dca9e</td>\n",
       "      <td>SOBFNSP12AF72A0E22</td>\n",
       "      <td>1</td>\n",
       "      <td>Under Cold Blue Stars</td>\n",
       "      <td>ARMS97V1187B99DD98</td>\n",
       "      <td>Josh Rouse</td>\n",
       "      <td>BF</td>\n",
       "      <td>MappingNA</td>\n",
       "    </tr>\n",
       "    <tr>\n",
       "      <th>4</th>\n",
       "      <td>b80344d063b5ccb3212f76538f3d9e43d87dca9e</td>\n",
       "      <td>SOBFOVM12A58A7D494</td>\n",
       "      <td>1</td>\n",
       "      <td>Riot Radio (Soundtrack Version)</td>\n",
       "      <td>ARI4V0E1187B9B6FC2</td>\n",
       "      <td>The Dead 60s</td>\n",
       "      <td>BF</td>\n",
       "      <td>spotify:track:2HPwuvT6HKngPSynOCi6Lb</td>\n",
       "    </tr>\n",
       "    <tr>\n",
       "      <th>5</th>\n",
       "      <td>b80344d063b5ccb3212f76538f3d9e43d87dca9e</td>\n",
       "      <td>SOBNZDC12A6D4FC103</td>\n",
       "      <td>1</td>\n",
       "      <td>Sin límites (I)</td>\n",
       "      <td>ARGYPGG1187B9923B5</td>\n",
       "      <td>Amset</td>\n",
       "      <td>BN</td>\n",
       "      <td>MappingNA</td>\n",
       "    </tr>\n",
       "    <tr>\n",
       "      <th>6</th>\n",
       "      <td>b80344d063b5ccb3212f76538f3d9e43d87dca9e</td>\n",
       "      <td>SOBSUJE12A6D4F8CF5</td>\n",
       "      <td>2</td>\n",
       "      <td>12 segundos de oscuridad</td>\n",
       "      <td>AR1BQ6Y1187B98D586</td>\n",
       "      <td>Jorge Drexler</td>\n",
       "      <td>BS</td>\n",
       "      <td>MappingNA</td>\n",
       "    </tr>\n",
       "    <tr>\n",
       "      <th>7</th>\n",
       "      <td>b80344d063b5ccb3212f76538f3d9e43d87dca9e</td>\n",
       "      <td>SOBVFZR12A6D4F8AE3</td>\n",
       "      <td>1</td>\n",
       "      <td>Ears To The Ground (Album Version)</td>\n",
       "      <td>ARMS97V1187B99DD98</td>\n",
       "      <td>Josh Rouse</td>\n",
       "      <td>BV</td>\n",
       "      <td>spotify:track:5WjXULJvSlMxuies9diz1Q</td>\n",
       "    </tr>\n",
       "    <tr>\n",
       "      <th>8</th>\n",
       "      <td>b80344d063b5ccb3212f76538f3d9e43d87dca9e</td>\n",
       "      <td>SOBXALG12A8C13C108</td>\n",
       "      <td>1</td>\n",
       "      <td>Food Chain (Album Version)</td>\n",
       "      <td>ARG3I891187FB3A391</td>\n",
       "      <td>Eric Hutchinson</td>\n",
       "      <td>BX</td>\n",
       "      <td>spotify:track:1bqi9YEdZweX9H6JuSQ6Qw</td>\n",
       "    </tr>\n",
       "    <tr>\n",
       "      <th>9</th>\n",
       "      <td>b80344d063b5ccb3212f76538f3d9e43d87dca9e</td>\n",
       "      <td>SOBXHDL12A81C204C0</td>\n",
       "      <td>1</td>\n",
       "      <td>Stronger</td>\n",
       "      <td>ARRH63Y1187FB47783</td>\n",
       "      <td>Kanye West</td>\n",
       "      <td>BX</td>\n",
       "      <td>MappingNA</td>\n",
       "    </tr>\n",
       "  </tbody>\n",
       "</table>\n",
       "</div>"
      ],
      "text/plain": [
       "                                    user_id             song_id  play_count  \\\n",
       "0  b80344d063b5ccb3212f76538f3d9e43d87dca9e  SOAKIMP12A8C130995           1   \n",
       "1  b80344d063b5ccb3212f76538f3d9e43d87dca9e  SOAPDEY12A81C210A9           1   \n",
       "2  b80344d063b5ccb3212f76538f3d9e43d87dca9e  SOBBMDR12A8C13253B           2   \n",
       "3  b80344d063b5ccb3212f76538f3d9e43d87dca9e  SOBFNSP12AF72A0E22           1   \n",
       "4  b80344d063b5ccb3212f76538f3d9e43d87dca9e  SOBFOVM12A58A7D494           1   \n",
       "5  b80344d063b5ccb3212f76538f3d9e43d87dca9e  SOBNZDC12A6D4FC103           1   \n",
       "6  b80344d063b5ccb3212f76538f3d9e43d87dca9e  SOBSUJE12A6D4F8CF5           2   \n",
       "7  b80344d063b5ccb3212f76538f3d9e43d87dca9e  SOBVFZR12A6D4F8AE3           1   \n",
       "8  b80344d063b5ccb3212f76538f3d9e43d87dca9e  SOBXALG12A8C13C108           1   \n",
       "9  b80344d063b5ccb3212f76538f3d9e43d87dca9e  SOBXHDL12A81C204C0           1   \n",
       "\n",
       "                           song_title           artist_id      artist_name  \\\n",
       "0                            The Cove  ARC8CQZ1187B98DECA     Jack Johnson   \n",
       "1                Nothing from Nothing  ARHYUI71187FB48366    Billy Preston   \n",
       "2                     Entre Dos Aguas  ARC1SF21187FB51D0F    Paco De Lucia   \n",
       "3               Under Cold Blue Stars  ARMS97V1187B99DD98       Josh Rouse   \n",
       "4     Riot Radio (Soundtrack Version)  ARI4V0E1187B9B6FC2     The Dead 60s   \n",
       "5                     Sin límites (I)  ARGYPGG1187B9923B5            Amset   \n",
       "6            12 segundos de oscuridad  AR1BQ6Y1187B98D586    Jorge Drexler   \n",
       "7  Ears To The Ground (Album Version)  ARMS97V1187B99DD98       Josh Rouse   \n",
       "8          Food Chain (Album Version)  ARG3I891187FB3A391  Eric Hutchinson   \n",
       "9                            Stronger  ARRH63Y1187FB47783       Kanye West   \n",
       "\n",
       "  song_prefix                            spotify_id  \n",
       "0          AK  spotify:track:4nuY11Vo1Yd5xMHhLfDKe9  \n",
       "1          AP                             MappingNA  \n",
       "2          BB                             MappingNA  \n",
       "3          BF                             MappingNA  \n",
       "4          BF  spotify:track:2HPwuvT6HKngPSynOCi6Lb  \n",
       "5          BN                             MappingNA  \n",
       "6          BS                             MappingNA  \n",
       "7          BV  spotify:track:5WjXULJvSlMxuies9diz1Q  \n",
       "8          BX  spotify:track:1bqi9YEdZweX9H6JuSQ6Qw  \n",
       "9          BX                             MappingNA  "
      ]
     },
     "execution_count": 78,
     "metadata": {},
     "output_type": "execute_result"
    }
   ],
   "source": [
    "test_song"
   ]
  },
  {
   "cell_type": "code",
   "execution_count": 79,
   "metadata": {
    "collapsed": false
   },
   "outputs": [
    {
     "data": {
      "text/plain": [
       "(385256, 7)"
      ]
     },
     "execution_count": 79,
     "metadata": {},
     "output_type": "execute_result"
    }
   ],
   "source": [
    "relevant_song.shape"
   ]
  },
  {
   "cell_type": "code",
   "execution_count": 80,
   "metadata": {
    "collapsed": true
   },
   "outputs": [],
   "source": [
    "relevant_song['spotify_id'] = relevant_song[['song_prefix','song_id']].apply(lambda x: read_song_json(x[0],x[1]), axis=1)"
   ]
  },
  {
   "cell_type": "code",
   "execution_count": 81,
   "metadata": {
    "collapsed": false
   },
   "outputs": [
    {
     "data": {
      "text/html": [
       "<div>\n",
       "<table border=\"1\" class=\"dataframe\">\n",
       "  <thead>\n",
       "    <tr style=\"text-align: right;\">\n",
       "      <th></th>\n",
       "      <th>user_id</th>\n",
       "      <th>song_id</th>\n",
       "      <th>play_count</th>\n",
       "      <th>song_title</th>\n",
       "      <th>artist_id</th>\n",
       "      <th>artist_name</th>\n",
       "      <th>song_prefix</th>\n",
       "      <th>spotify_id</th>\n",
       "    </tr>\n",
       "  </thead>\n",
       "  <tbody>\n",
       "    <tr>\n",
       "      <th>0</th>\n",
       "      <td>b80344d063b5ccb3212f76538f3d9e43d87dca9e</td>\n",
       "      <td>SOAKIMP12A8C130995</td>\n",
       "      <td>1</td>\n",
       "      <td>The Cove</td>\n",
       "      <td>ARC8CQZ1187B98DECA</td>\n",
       "      <td>Jack Johnson</td>\n",
       "      <td>AK</td>\n",
       "      <td>spotify:track:4nuY11Vo1Yd5xMHhLfDKe9</td>\n",
       "    </tr>\n",
       "    <tr>\n",
       "      <th>1</th>\n",
       "      <td>b80344d063b5ccb3212f76538f3d9e43d87dca9e</td>\n",
       "      <td>SOAPDEY12A81C210A9</td>\n",
       "      <td>1</td>\n",
       "      <td>Nothing from Nothing</td>\n",
       "      <td>ARHYUI71187FB48366</td>\n",
       "      <td>Billy Preston</td>\n",
       "      <td>AP</td>\n",
       "      <td>MappingNA</td>\n",
       "    </tr>\n",
       "    <tr>\n",
       "      <th>2</th>\n",
       "      <td>b80344d063b5ccb3212f76538f3d9e43d87dca9e</td>\n",
       "      <td>SOBBMDR12A8C13253B</td>\n",
       "      <td>2</td>\n",
       "      <td>Entre Dos Aguas</td>\n",
       "      <td>ARC1SF21187FB51D0F</td>\n",
       "      <td>Paco De Lucia</td>\n",
       "      <td>BB</td>\n",
       "      <td>MappingNA</td>\n",
       "    </tr>\n",
       "    <tr>\n",
       "      <th>3</th>\n",
       "      <td>b80344d063b5ccb3212f76538f3d9e43d87dca9e</td>\n",
       "      <td>SOBFNSP12AF72A0E22</td>\n",
       "      <td>1</td>\n",
       "      <td>Under Cold Blue Stars</td>\n",
       "      <td>ARMS97V1187B99DD98</td>\n",
       "      <td>Josh Rouse</td>\n",
       "      <td>BF</td>\n",
       "      <td>MappingNA</td>\n",
       "    </tr>\n",
       "    <tr>\n",
       "      <th>4</th>\n",
       "      <td>b80344d063b5ccb3212f76538f3d9e43d87dca9e</td>\n",
       "      <td>SOBFOVM12A58A7D494</td>\n",
       "      <td>1</td>\n",
       "      <td>Riot Radio (Soundtrack Version)</td>\n",
       "      <td>ARI4V0E1187B9B6FC2</td>\n",
       "      <td>The Dead 60s</td>\n",
       "      <td>BF</td>\n",
       "      <td>spotify:track:2HPwuvT6HKngPSynOCi6Lb</td>\n",
       "    </tr>\n",
       "  </tbody>\n",
       "</table>\n",
       "</div>"
      ],
      "text/plain": [
       "                                    user_id             song_id  play_count  \\\n",
       "0  b80344d063b5ccb3212f76538f3d9e43d87dca9e  SOAKIMP12A8C130995           1   \n",
       "1  b80344d063b5ccb3212f76538f3d9e43d87dca9e  SOAPDEY12A81C210A9           1   \n",
       "2  b80344d063b5ccb3212f76538f3d9e43d87dca9e  SOBBMDR12A8C13253B           2   \n",
       "3  b80344d063b5ccb3212f76538f3d9e43d87dca9e  SOBFNSP12AF72A0E22           1   \n",
       "4  b80344d063b5ccb3212f76538f3d9e43d87dca9e  SOBFOVM12A58A7D494           1   \n",
       "\n",
       "                        song_title           artist_id    artist_name  \\\n",
       "0                         The Cove  ARC8CQZ1187B98DECA   Jack Johnson   \n",
       "1             Nothing from Nothing  ARHYUI71187FB48366  Billy Preston   \n",
       "2                  Entre Dos Aguas  ARC1SF21187FB51D0F  Paco De Lucia   \n",
       "3            Under Cold Blue Stars  ARMS97V1187B99DD98     Josh Rouse   \n",
       "4  Riot Radio (Soundtrack Version)  ARI4V0E1187B9B6FC2   The Dead 60s   \n",
       "\n",
       "  song_prefix                            spotify_id  \n",
       "0          AK  spotify:track:4nuY11Vo1Yd5xMHhLfDKe9  \n",
       "1          AP                             MappingNA  \n",
       "2          BB                             MappingNA  \n",
       "3          BF                             MappingNA  \n",
       "4          BF  spotify:track:2HPwuvT6HKngPSynOCi6Lb  "
      ]
     },
     "execution_count": 81,
     "metadata": {},
     "output_type": "execute_result"
    }
   ],
   "source": [
    "relevant_song.head()"
   ]
  },
  {
   "cell_type": "code",
   "execution_count": 82,
   "metadata": {
    "collapsed": false
   },
   "outputs": [
    {
     "data": {
      "text/plain": [
       "(204443, 0)"
      ]
     },
     "execution_count": 82,
     "metadata": {},
     "output_type": "execute_result"
    }
   ],
   "source": [
    "len(relevant_song[relevant_song['spotify_id']=='MappingNA']), len(relevant_song[relevant_song['spotify_id']=='SpotifyNA'])"
   ]
  },
  {
   "cell_type": "code",
   "execution_count": 84,
   "metadata": {
    "collapsed": false
   },
   "outputs": [
    {
     "data": {
      "text/plain": [
       "(385256, (385256, 8))"
      ]
     },
     "execution_count": 84,
     "metadata": {},
     "output_type": "execute_result"
    }
   ],
   "source": [
    "len(relevant_song), relevant_song.shape"
   ]
  },
  {
   "cell_type": "code",
   "execution_count": 90,
   "metadata": {
    "collapsed": false
   },
   "outputs": [],
   "source": [
    "relevant_song.to_csv('./data/songs_for_spotify_download.csv', index=False, encoding='utf-8')"
   ]
  },
  {
   "cell_type": "code",
   "execution_count": 91,
   "metadata": {
    "collapsed": true
   },
   "outputs": [],
   "source": [
    "to_download = relevant_song[relevant_song['spotify_id'] != 'MappingNA']"
   ]
  },
  {
   "cell_type": "code",
   "execution_count": 92,
   "metadata": {
    "collapsed": false
   },
   "outputs": [
    {
     "data": {
      "text/plain": [
       "(180813, 8)"
      ]
     },
     "execution_count": 92,
     "metadata": {},
     "output_type": "execute_result"
    }
   ],
   "source": [
    "to_download.shape"
   ]
  },
  {
   "cell_type": "code",
   "execution_count": 93,
   "metadata": {
    "collapsed": true
   },
   "outputs": [],
   "source": [
    "to_download.to_csv('./data/songs_for_spotify_download.csv', index=False, encoding='utf-8')"
   ]
  },
  {
   "cell_type": "code",
   "execution_count": 2,
   "metadata": {
    "collapsed": false
   },
   "outputs": [
    {
     "ename": "NameError",
     "evalue": "name 'to_download' is not defined",
     "output_type": "error",
     "traceback": [
      "\u001b[0;31m---------------------------------------------------------------------------\u001b[0m",
      "\u001b[0;31mNameError\u001b[0m                                 Traceback (most recent call last)",
      "\u001b[0;32m<ipython-input-2-7bf1e0ed9b63>\u001b[0m in \u001b[0;36m<module>\u001b[0;34m()\u001b[0m\n\u001b[0;32m----> 1\u001b[0;31m \u001b[0mto_download\u001b[0m\u001b[0;34m.\u001b[0m\u001b[0mix\u001b[0m\u001b[0;34m[\u001b[0m\u001b[0;34m:\u001b[0m\u001b[0;34m,\u001b[0m\u001b[0;34m-\u001b[0m\u001b[0;36m1\u001b[0m\u001b[0;34m]\u001b[0m\u001b[0;34m\u001b[0m\u001b[0m\n\u001b[0m",
      "\u001b[0;31mNameError\u001b[0m: name 'to_download' is not defined"
     ]
    }
   ],
   "source": []
  },
  {
   "cell_type": "code",
   "execution_count": null,
   "metadata": {
    "collapsed": true
   },
   "outputs": [],
   "source": []
  }
 ],
 "metadata": {
  "kernelspec": {
   "display_name": "Python 2",
   "language": "python",
   "name": "python2"
  },
  "language_info": {
   "codemirror_mode": {
    "name": "ipython",
    "version": 2
   },
   "file_extension": ".py",
   "mimetype": "text/x-python",
   "name": "python",
   "nbconvert_exporter": "python",
   "pygments_lexer": "ipython2",
   "version": "2.7.10"
  }
 },
 "nbformat": 4,
 "nbformat_minor": 0
}

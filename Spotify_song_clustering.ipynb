{
 "cells": [
  {
   "cell_type": "code",
   "execution_count": 1,
   "metadata": {
    "collapsed": true
   },
   "outputs": [],
   "source": [
    "import pandas as pd\n",
    "import numpy as np"
   ]
  },
  {
   "cell_type": "code",
   "execution_count": 2,
   "metadata": {
    "collapsed": true
   },
   "outputs": [],
   "source": [
    "df_songs = pd.read_csv('./data/spotify_songs_analysis.csv')"
   ]
  },
  {
   "cell_type": "code",
   "execution_count": 3,
   "metadata": {
    "collapsed": false
   },
   "outputs": [
    {
     "data": {
      "text/plain": [
       "(183204, 31)"
      ]
     },
     "execution_count": 3,
     "metadata": {},
     "output_type": "execute_result"
    }
   ],
   "source": [
    "df_songs.shape"
   ]
  },
  {
   "cell_type": "code",
   "execution_count": 4,
   "metadata": {
    "collapsed": false
   },
   "outputs": [
    {
     "data": {
      "text/html": [
       "<div>\n",
       "<table border=\"1\" class=\"dataframe\">\n",
       "  <thead>\n",
       "    <tr style=\"text-align: right;\">\n",
       "      <th></th>\n",
       "      <th>user_id</th>\n",
       "      <th>song_id</th>\n",
       "      <th>play_count</th>\n",
       "      <th>song_title</th>\n",
       "      <th>artist_id</th>\n",
       "      <th>artist_name</th>\n",
       "      <th>song_prefix</th>\n",
       "      <th>spotify_id</th>\n",
       "      <th>audio_feature</th>\n",
       "      <th>acousticness</th>\n",
       "      <th>...</th>\n",
       "      <th>tempo</th>\n",
       "      <th>time_signature</th>\n",
       "      <th>track_href</th>\n",
       "      <th>type</th>\n",
       "      <th>uri</th>\n",
       "      <th>valence</th>\n",
       "      <th>release</th>\n",
       "      <th>artist_familiarity</th>\n",
       "      <th>artist_hotttnesss</th>\n",
       "      <th>year</th>\n",
       "    </tr>\n",
       "  </thead>\n",
       "  <tbody>\n",
       "    <tr>\n",
       "      <th>0</th>\n",
       "      <td>b80344d063b5ccb3212f76538f3d9e43d87dca9e</td>\n",
       "      <td>SOAKIMP12A8C130995</td>\n",
       "      <td>1</td>\n",
       "      <td>The Cove</td>\n",
       "      <td>ARC8CQZ1187B98DECA</td>\n",
       "      <td>Jack Johnson</td>\n",
       "      <td>AK</td>\n",
       "      <td>spotify:track:4nuY11Vo1Yd5xMHhLfDKe9</td>\n",
       "      <td>[{u'track_href': u'https://api.spotify.com/v1/...</td>\n",
       "      <td>0.656000</td>\n",
       "      <td>...</td>\n",
       "      <td>123.685</td>\n",
       "      <td>4.0</td>\n",
       "      <td>https://api.spotify.com/v1/tracks/4nuY11Vo1Yd5...</td>\n",
       "      <td>audio_features</td>\n",
       "      <td>spotify:track:4nuY11Vo1Yd5xMHhLfDKe9</td>\n",
       "      <td>0.387</td>\n",
       "      <td>Thicker Than Water</td>\n",
       "      <td>0.832012</td>\n",
       "      <td>0.677482</td>\n",
       "      <td>0</td>\n",
       "    </tr>\n",
       "    <tr>\n",
       "      <th>1</th>\n",
       "      <td>b80344d063b5ccb3212f76538f3d9e43d87dca9e</td>\n",
       "      <td>SOBFOVM12A58A7D494</td>\n",
       "      <td>1</td>\n",
       "      <td>Riot Radio (Soundtrack Version)</td>\n",
       "      <td>ARI4V0E1187B9B6FC2</td>\n",
       "      <td>The Dead 60s</td>\n",
       "      <td>BF</td>\n",
       "      <td>spotify:track:2HPwuvT6HKngPSynOCi6Lb</td>\n",
       "      <td>[{u'track_href': u'https://api.spotify.com/v1/...</td>\n",
       "      <td>0.000111</td>\n",
       "      <td>...</td>\n",
       "      <td>143.948</td>\n",
       "      <td>4.0</td>\n",
       "      <td>https://api.spotify.com/v1/tracks/2HPwuvT6HKng...</td>\n",
       "      <td>audio_features</td>\n",
       "      <td>spotify:track:2HPwuvT6HKngPSynOCi6Lb</td>\n",
       "      <td>0.839</td>\n",
       "      <td>Nick &amp; Norah's Infinite Playlist - Original Mo...</td>\n",
       "      <td>0.650281</td>\n",
       "      <td>0.451749</td>\n",
       "      <td>0</td>\n",
       "    </tr>\n",
       "    <tr>\n",
       "      <th>2</th>\n",
       "      <td>b80344d063b5ccb3212f76538f3d9e43d87dca9e</td>\n",
       "      <td>SOBVFZR12A6D4F8AE3</td>\n",
       "      <td>1</td>\n",
       "      <td>Ears To The Ground (Album Version)</td>\n",
       "      <td>ARMS97V1187B99DD98</td>\n",
       "      <td>Josh Rouse</td>\n",
       "      <td>BV</td>\n",
       "      <td>spotify:track:5WjXULJvSlMxuies9diz1Q</td>\n",
       "      <td>[{u'track_href': u'https://api.spotify.com/v1/...</td>\n",
       "      <td>0.172000</td>\n",
       "      <td>...</td>\n",
       "      <td>123.195</td>\n",
       "      <td>4.0</td>\n",
       "      <td>https://api.spotify.com/v1/tracks/5WjXULJvSlMx...</td>\n",
       "      <td>audio_features</td>\n",
       "      <td>spotify:track:5WjXULJvSlMxuies9diz1Q</td>\n",
       "      <td>0.417</td>\n",
       "      <td>Under Cold Blue Stars</td>\n",
       "      <td>0.675339</td>\n",
       "      <td>0.499641</td>\n",
       "      <td>2002</td>\n",
       "    </tr>\n",
       "    <tr>\n",
       "      <th>3</th>\n",
       "      <td>b80344d063b5ccb3212f76538f3d9e43d87dca9e</td>\n",
       "      <td>SOBXALG12A8C13C108</td>\n",
       "      <td>1</td>\n",
       "      <td>Food Chain (Album Version)</td>\n",
       "      <td>ARG3I891187FB3A391</td>\n",
       "      <td>Eric Hutchinson</td>\n",
       "      <td>BX</td>\n",
       "      <td>spotify:track:1bqi9YEdZweX9H6JuSQ6Qw</td>\n",
       "      <td>[{u'track_href': u'https://api.spotify.com/v1/...</td>\n",
       "      <td>0.410000</td>\n",
       "      <td>...</td>\n",
       "      <td>112.492</td>\n",
       "      <td>4.0</td>\n",
       "      <td>https://api.spotify.com/v1/tracks/1bqi9YEdZweX...</td>\n",
       "      <td>audio_features</td>\n",
       "      <td>spotify:track:1bqi9YEdZweX9H6JuSQ6Qw</td>\n",
       "      <td>0.601</td>\n",
       "      <td>Sounds Like This</td>\n",
       "      <td>0.806208</td>\n",
       "      <td>0.498077</td>\n",
       "      <td>2008</td>\n",
       "    </tr>\n",
       "    <tr>\n",
       "      <th>4</th>\n",
       "      <td>b80344d063b5ccb3212f76538f3d9e43d87dca9e</td>\n",
       "      <td>SODACBL12A8C13C273</td>\n",
       "      <td>1</td>\n",
       "      <td>Learn To Fly</td>\n",
       "      <td>AR6XPWV1187B9ADAEB</td>\n",
       "      <td>Foo Fighters</td>\n",
       "      <td>DA</td>\n",
       "      <td>spotify:track:4tjBDR8r3kxBXxQPeRTQgu</td>\n",
       "      <td>[{u'track_href': u'https://api.spotify.com/v1/...</td>\n",
       "      <td>0.000016</td>\n",
       "      <td>...</td>\n",
       "      <td>135.994</td>\n",
       "      <td>4.0</td>\n",
       "      <td>https://api.spotify.com/v1/tracks/4tjBDR8r3kxB...</td>\n",
       "      <td>audio_features</td>\n",
       "      <td>spotify:track:4tjBDR8r3kxBXxQPeRTQgu</td>\n",
       "      <td>0.505</td>\n",
       "      <td>There Is Nothing Left To Lose</td>\n",
       "      <td>0.839275</td>\n",
       "      <td>0.550762</td>\n",
       "      <td>1999</td>\n",
       "    </tr>\n",
       "  </tbody>\n",
       "</table>\n",
       "<p>5 rows × 31 columns</p>\n",
       "</div>"
      ],
      "text/plain": [
       "                                    user_id             song_id  play_count  \\\n",
       "0  b80344d063b5ccb3212f76538f3d9e43d87dca9e  SOAKIMP12A8C130995           1   \n",
       "1  b80344d063b5ccb3212f76538f3d9e43d87dca9e  SOBFOVM12A58A7D494           1   \n",
       "2  b80344d063b5ccb3212f76538f3d9e43d87dca9e  SOBVFZR12A6D4F8AE3           1   \n",
       "3  b80344d063b5ccb3212f76538f3d9e43d87dca9e  SOBXALG12A8C13C108           1   \n",
       "4  b80344d063b5ccb3212f76538f3d9e43d87dca9e  SODACBL12A8C13C273           1   \n",
       "\n",
       "                           song_title           artist_id      artist_name  \\\n",
       "0                            The Cove  ARC8CQZ1187B98DECA     Jack Johnson   \n",
       "1     Riot Radio (Soundtrack Version)  ARI4V0E1187B9B6FC2     The Dead 60s   \n",
       "2  Ears To The Ground (Album Version)  ARMS97V1187B99DD98       Josh Rouse   \n",
       "3          Food Chain (Album Version)  ARG3I891187FB3A391  Eric Hutchinson   \n",
       "4                        Learn To Fly  AR6XPWV1187B9ADAEB     Foo Fighters   \n",
       "\n",
       "  song_prefix                            spotify_id  \\\n",
       "0          AK  spotify:track:4nuY11Vo1Yd5xMHhLfDKe9   \n",
       "1          BF  spotify:track:2HPwuvT6HKngPSynOCi6Lb   \n",
       "2          BV  spotify:track:5WjXULJvSlMxuies9diz1Q   \n",
       "3          BX  spotify:track:1bqi9YEdZweX9H6JuSQ6Qw   \n",
       "4          DA  spotify:track:4tjBDR8r3kxBXxQPeRTQgu   \n",
       "\n",
       "                                       audio_feature  acousticness  ...   \\\n",
       "0  [{u'track_href': u'https://api.spotify.com/v1/...      0.656000  ...    \n",
       "1  [{u'track_href': u'https://api.spotify.com/v1/...      0.000111  ...    \n",
       "2  [{u'track_href': u'https://api.spotify.com/v1/...      0.172000  ...    \n",
       "3  [{u'track_href': u'https://api.spotify.com/v1/...      0.410000  ...    \n",
       "4  [{u'track_href': u'https://api.spotify.com/v1/...      0.000016  ...    \n",
       "\n",
       "     tempo  time_signature                                         track_href  \\\n",
       "0  123.685             4.0  https://api.spotify.com/v1/tracks/4nuY11Vo1Yd5...   \n",
       "1  143.948             4.0  https://api.spotify.com/v1/tracks/2HPwuvT6HKng...   \n",
       "2  123.195             4.0  https://api.spotify.com/v1/tracks/5WjXULJvSlMx...   \n",
       "3  112.492             4.0  https://api.spotify.com/v1/tracks/1bqi9YEdZweX...   \n",
       "4  135.994             4.0  https://api.spotify.com/v1/tracks/4tjBDR8r3kxB...   \n",
       "\n",
       "             type                                   uri  valence  \\\n",
       "0  audio_features  spotify:track:4nuY11Vo1Yd5xMHhLfDKe9    0.387   \n",
       "1  audio_features  spotify:track:2HPwuvT6HKngPSynOCi6Lb    0.839   \n",
       "2  audio_features  spotify:track:5WjXULJvSlMxuies9diz1Q    0.417   \n",
       "3  audio_features  spotify:track:1bqi9YEdZweX9H6JuSQ6Qw    0.601   \n",
       "4  audio_features  spotify:track:4tjBDR8r3kxBXxQPeRTQgu    0.505   \n",
       "\n",
       "                                             release  artist_familiarity  \\\n",
       "0                                 Thicker Than Water            0.832012   \n",
       "1  Nick & Norah's Infinite Playlist - Original Mo...            0.650281   \n",
       "2                              Under Cold Blue Stars            0.675339   \n",
       "3                                   Sounds Like This            0.806208   \n",
       "4                      There Is Nothing Left To Lose            0.839275   \n",
       "\n",
       "   artist_hotttnesss  year  \n",
       "0           0.677482     0  \n",
       "1           0.451749     0  \n",
       "2           0.499641  2002  \n",
       "3           0.498077  2008  \n",
       "4           0.550762  1999  \n",
       "\n",
       "[5 rows x 31 columns]"
      ]
     },
     "execution_count": 4,
     "metadata": {},
     "output_type": "execute_result"
    }
   ],
   "source": [
    "df_songs.head()"
   ]
  },
  {
   "cell_type": "code",
   "execution_count": 5,
   "metadata": {
    "collapsed": false
   },
   "outputs": [
    {
     "data": {
      "text/plain": [
       "Index([u'user_id', u'song_id', u'play_count', u'song_title', u'artist_id',\n",
       "       u'artist_name', u'song_prefix', u'spotify_id', u'audio_feature',\n",
       "       u'acousticness', u'analysis_url', u'danceability', u'duration_ms',\n",
       "       u'energy', u'id', u'instrumentalness', u'key', u'liveness', u'loudness',\n",
       "       u'mode', u'speechiness', u'tempo', u'time_signature', u'track_href',\n",
       "       u'type', u'uri', u'valence', u'release', u'artist_familiarity',\n",
       "       u'artist_hotttnesss', u'year'],\n",
       "      dtype='object')"
      ]
     },
     "execution_count": 5,
     "metadata": {},
     "output_type": "execute_result"
    }
   ],
   "source": [
    "df_songs.columns"
   ]
  },
  {
   "cell_type": "code",
   "execution_count": 6,
   "metadata": {
    "collapsed": true
   },
   "outputs": [],
   "source": [
    "num_features = ['acousticness','danceability','duration_ms','energy','instrumentalness','liveness', \\\n",
    "                'loudness','speechiness','tempo','time_signature','valence','artist_familiarity', \\\n",
    "                'artist_hotttnesss']\n",
    "cat_features = ['key','mode','year']"
   ]
  },
  {
   "cell_type": "code",
   "execution_count": 7,
   "metadata": {
    "collapsed": false
   },
   "outputs": [
    {
     "name": "stdout",
     "output_type": "stream",
     "text": [
      "        acousticness   danceability   duration_ms         energy  \\\n",
      "count  183203.000000  183161.000000  1.832040e+05  183203.000000   \n",
      "mean        0.277152       0.526918  2.401994e+05       0.638811   \n",
      "std         0.322849       0.176007  1.004854e+05       0.254961   \n",
      "min         0.000000       0.055500  4.037000e+03       0.000020   \n",
      "25%         0.006950       0.403000  1.844930e+05       0.455000   \n",
      "50%         0.112000       0.533000  2.283070e+05       0.680000   \n",
      "75%         0.519000       0.656000  2.784000e+05       0.860000   \n",
      "max         0.996000       0.997000  3.035280e+06       1.000000   \n",
      "\n",
      "       instrumentalness       liveness       loudness    speechiness  \\\n",
      "count     183203.000000  183202.000000  183204.000000  183161.000000   \n",
      "mean           0.186597       0.215107      -9.047922       0.084492   \n",
      "std            0.318713       0.191067       4.709803       0.111716   \n",
      "min            0.000000       0.008580     -54.909000       0.021900   \n",
      "25%            0.000002       0.096500     -11.371000       0.034200   \n",
      "50%            0.000910       0.134000      -8.015000       0.045900   \n",
      "75%            0.224000       0.281000      -5.685000       0.080200   \n",
      "max            0.999000       1.000000       4.923000       0.968000   \n",
      "\n",
      "               tempo  time_signature        valence  artist_familiarity  \\\n",
      "count  183204.000000   183159.000000  183160.000000       183204.000000   \n",
      "mean      121.516281        3.891471       0.493084            0.606776   \n",
      "std        29.789112        0.427241       0.260579            0.124644   \n",
      "min         0.000000        1.000000       0.000327           -1.000000   \n",
      "25%        98.067750        4.000000       0.278000            0.530708   \n",
      "50%       120.000000        4.000000       0.491000            0.606180   \n",
      "75%       139.976000        4.000000       0.706000            0.684866   \n",
      "max       246.830000        5.000000       1.000000            1.000000   \n",
      "\n",
      "       artist_hotttnesss  \n",
      "count      183204.000000  \n",
      "mean            0.420608  \n",
      "std             0.108342  \n",
      "min             0.000000  \n",
      "25%             0.370007  \n",
      "50%             0.416745  \n",
      "75%             0.474472  \n",
      "max             1.082503  \n"
     ]
    }
   ],
   "source": [
    "print df_songs[num_features].describe()"
   ]
  },
  {
   "cell_type": "markdown",
   "metadata": {},
   "source": [
    "### K-Means clustering"
   ]
  },
  {
   "cell_type": "code",
   "execution_count": 8,
   "metadata": {
    "collapsed": true
   },
   "outputs": [],
   "source": [
    "from sklearn.cluster import KMeans"
   ]
  },
  {
   "cell_type": "code",
   "execution_count": 19,
   "metadata": {
    "collapsed": true
   },
   "outputs": [],
   "source": [
    "from sklearn.metrics import silhouette_score"
   ]
  },
  {
   "cell_type": "code",
   "execution_count": 9,
   "metadata": {
    "collapsed": true
   },
   "outputs": [],
   "source": [
    "X = df_songs[num_features].fillna(0.)"
   ]
  },
  {
   "cell_type": "code",
   "execution_count": 15,
   "metadata": {
    "collapsed": true
   },
   "outputs": [],
   "source": [
    "kmeans = KMeans(n_clusters=10, random_state=0).fit(X)"
   ]
  },
  {
   "cell_type": "code",
   "execution_count": 16,
   "metadata": {
    "collapsed": false
   },
   "outputs": [
    {
     "data": {
      "text/plain": [
       "((183204, 13), (183204,))"
      ]
     },
     "execution_count": 16,
     "metadata": {},
     "output_type": "execute_result"
    }
   ],
   "source": [
    "X.shape, kmeans.labels_.shape"
   ]
  },
  {
   "cell_type": "code",
   "execution_count": null,
   "metadata": {
    "collapsed": true
   },
   "outputs": [],
   "source": [
    "#cluster_labels = kmeans.labels_\n",
    "\n",
    "#silhouette_avg = silhouette_score(X, cluster_labels, metric='euclidean')\n",
    "#print(\"For n_clusters =\", 3,\n",
    "#        \"The average silhouette_score is :\", silhouette_avg)"
   ]
  },
  {
   "cell_type": "code",
   "execution_count": 21,
   "metadata": {
    "collapsed": false
   },
   "outputs": [
    {
     "data": {
      "text/plain": [
       "array([45875,  6419, 28823, 14211,    60,   379, 46120, 29101, 10443,  1773])"
      ]
     },
     "execution_count": 21,
     "metadata": {},
     "output_type": "execute_result"
    }
   ],
   "source": [
    "np.bincount(kmeans.labels_)"
   ]
  },
  {
   "cell_type": "markdown",
   "metadata": {},
   "source": [
    "### Hierarchical Clustering"
   ]
  },
  {
   "cell_type": "code",
   "execution_count": 8,
   "metadata": {
    "collapsed": true
   },
   "outputs": [],
   "source": [
    "from sklearn.cluster import AgglomerativeClustering\n",
    "from sklearn.neighbors import kneighbors_graph"
   ]
  },
  {
   "cell_type": "code",
   "execution_count": 43,
   "metadata": {
    "collapsed": false
   },
   "outputs": [],
   "source": [
    "# Create a graph capturing local connectivity. Larger number of neighbors\n",
    "# will give more homogeneous clusters to the cost of computation\n",
    "# time. A very large number of neighbors gives more evenly distributed\n",
    "# cluster sizes, but may not impose the local manifold structure of\n",
    "# the data\n",
    "knn_graph = kneighbors_graph(X, 30, include_self=False)"
   ]
  },
  {
   "cell_type": "code",
   "execution_count": 44,
   "metadata": {
    "collapsed": false
   },
   "outputs": [
    {
     "data": {
      "text/plain": [
       "<183204x183204 sparse matrix of type '<type 'numpy.float64'>'\n",
       "\twith 5496120 stored elements in Compressed Sparse Row format>"
      ]
     },
     "execution_count": 44,
     "metadata": {},
     "output_type": "execute_result"
    }
   ],
   "source": [
    "knn_graph"
   ]
  },
  {
   "cell_type": "code",
   "execution_count": 45,
   "metadata": {
    "collapsed": false
   },
   "outputs": [
    {
     "data": {
      "text/plain": [
       "array([[ 0.,  1.,  1.,  0.,  0.,  0.,  0.,  0.,  0.,  0.],\n",
       "       [ 1.,  0.,  1.,  0.,  0.,  0.,  0.,  0.,  0.,  0.],\n",
       "       [ 1.,  1.,  0.,  0.,  0.,  0.,  0.,  0.,  0.,  0.],\n",
       "       [ 0.,  0.,  0.,  0.,  0.,  0.,  0.,  0.,  0.,  0.],\n",
       "       [ 0.,  0.,  0.,  0.,  0.,  0.,  0.,  0.,  0.,  0.],\n",
       "       [ 0.,  0.,  0.,  0.,  0.,  0.,  0.,  0.,  0.,  0.],\n",
       "       [ 0.,  0.,  0.,  0.,  0.,  0.,  0.,  0.,  0.,  0.],\n",
       "       [ 0.,  0.,  0.,  0.,  0.,  0.,  0.,  0.,  0.,  0.],\n",
       "       [ 0.,  0.,  0.,  0.,  0.,  0.,  0.,  0.,  0.,  0.],\n",
       "       [ 0.,  0.,  0.,  0.,  0.,  0.,  0.,  0.,  0.,  0.]])"
      ]
     },
     "execution_count": 45,
     "metadata": {},
     "output_type": "execute_result"
    }
   ],
   "source": [
    "knn_graph[90:100,90:100].toarray()"
   ]
  },
  {
   "cell_type": "code",
   "execution_count": 11,
   "metadata": {
    "collapsed": true
   },
   "outputs": [],
   "source": [
    "h_clustering = AgglomerativeClustering(connectivity=knn_graph,n_clusters=30)"
   ]
  },
  {
   "cell_type": "code",
   "execution_count": 12,
   "metadata": {
    "collapsed": true
   },
   "outputs": [],
   "source": [
    "h_cluster = h_clustering.fit_predict(X)"
   ]
  },
  {
   "cell_type": "code",
   "execution_count": 19,
   "metadata": {
    "collapsed": false
   },
   "outputs": [
    {
     "data": {
      "text/plain": [
       "(183204,)"
      ]
     },
     "execution_count": 19,
     "metadata": {},
     "output_type": "execute_result"
    }
   ],
   "source": [
    "h_clustering.labels_.shape"
   ]
  },
  {
   "cell_type": "code",
   "execution_count": 20,
   "metadata": {
    "collapsed": false
   },
   "outputs": [
    {
     "data": {
      "text/plain": [
       "array([ 3926, 22013,  8381,    39,  4672,  1817,  6866,   219, 10227,\n",
       "        1832, 15173, 17741,    95,  3701,     9, 10684, 14752, 15104,\n",
       "         598,  8591,   286,  2060,  8863,    75,   492,  5632,  9524,\n",
       "        7498,     2,  2332])"
      ]
     },
     "execution_count": 20,
     "metadata": {},
     "output_type": "execute_result"
    }
   ],
   "source": [
    "np.bincount(h_clustering.labels_)"
   ]
  },
  {
   "cell_type": "code",
   "execution_count": 21,
   "metadata": {
    "collapsed": false
   },
   "outputs": [
    {
     "data": {
      "text/plain": [
       "183204"
      ]
     },
     "execution_count": 21,
     "metadata": {},
     "output_type": "execute_result"
    }
   ],
   "source": [
    "h_clustering.n_leaves_"
   ]
  },
  {
   "cell_type": "code",
   "execution_count": 22,
   "metadata": {
    "collapsed": false
   },
   "outputs": [
    {
     "data": {
      "text/plain": [
       "1"
      ]
     },
     "execution_count": 22,
     "metadata": {},
     "output_type": "execute_result"
    }
   ],
   "source": [
    "h_clustering.n_components_ "
   ]
  },
  {
   "cell_type": "code",
   "execution_count": 25,
   "metadata": {
    "collapsed": false
   },
   "outputs": [
    {
     "data": {
      "text/plain": [
       "array([[    85,     87],\n",
       "       [    86,     88],\n",
       "       [    89,     91],\n",
       "       ..., \n",
       "       [366401, 366402],\n",
       "       [366400, 366403],\n",
       "       [366404, 366405]])"
      ]
     },
     "execution_count": 25,
     "metadata": {},
     "output_type": "execute_result"
    }
   ],
   "source": [
    "h_clustering.children_"
   ]
  },
  {
   "cell_type": "code",
   "execution_count": 46,
   "metadata": {
    "collapsed": false
   },
   "outputs": [
    {
     "data": {
      "text/plain": [
       "(183203, 2)"
      ]
     },
     "execution_count": 46,
     "metadata": {},
     "output_type": "execute_result"
    }
   ],
   "source": [
    "h_clustering.children_.shape"
   ]
  },
  {
   "cell_type": "code",
   "execution_count": 47,
   "metadata": {
    "collapsed": false
   },
   "outputs": [
    {
     "data": {
      "text/plain": [
       "{'affinity': 'euclidean',\n",
       " 'compute_full_tree': 'auto',\n",
       " 'connectivity': <183204x183204 sparse matrix of type '<type 'numpy.float64'>'\n",
       " \twith 5496120 stored elements in Compressed Sparse Row format>,\n",
       " 'linkage': 'ward',\n",
       " 'memory': Memory(cachedir=None),\n",
       " 'n_clusters': 30,\n",
       " 'n_components': None,\n",
       " 'pooling_func': <function numpy.core.fromnumeric.mean>}"
      ]
     },
     "execution_count": 47,
     "metadata": {},
     "output_type": "execute_result"
    }
   ],
   "source": [
    "h_clustering.get_params()"
   ]
  },
  {
   "cell_type": "code",
   "execution_count": 49,
   "metadata": {
    "collapsed": false
   },
   "outputs": [
    {
     "data": {
      "text/plain": [
       "True"
      ]
     },
     "execution_count": 49,
     "metadata": {},
     "output_type": "execute_result"
    }
   ],
   "source": [
    "all(h_cluster == h_clustering.labels_)"
   ]
  },
  {
   "cell_type": "code",
   "execution_count": null,
   "metadata": {
    "collapsed": true
   },
   "outputs": [],
   "source": []
  }
 ],
 "metadata": {
  "kernelspec": {
   "display_name": "Python 2",
   "language": "python",
   "name": "python2"
  },
  "language_info": {
   "codemirror_mode": {
    "name": "ipython",
    "version": 2
   },
   "file_extension": ".py",
   "mimetype": "text/x-python",
   "name": "python",
   "nbconvert_exporter": "python",
   "pygments_lexer": "ipython2",
   "version": "2.7.10"
  }
 },
 "nbformat": 4,
 "nbformat_minor": 0
}
